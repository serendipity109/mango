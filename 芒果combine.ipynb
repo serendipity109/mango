{
 "cells": [
  {
   "cell_type": "code",
   "execution_count": 1,
   "metadata": {},
   "outputs": [],
   "source": [
    "# coding=UTF-8   \n",
    "import torch  \n",
    "import torch.nn as nn  \n",
    "import yaml\n",
    "from torchvision import datasets, transforms, models\n",
    "from torch.autograd import Variable\n",
    "import torch.nn.functional as F\n",
    "import numpy as np\n",
    "from custom_data_io import myset\n",
    "import pandas as pd\n",
    "import os\n",
    "\n",
    "# def config(config_path):\n",
    "#     \"\"\" Loading config file. \"\"\"\n",
    "#     with open(config_path, 'r') as f:\n",
    "#         return yaml.load(f)\n",
    "# hr = eval('models.cls_hrnet.get_cls_net')(config('experiments/cls_hrnet_w18_sgd_lr5e-2_wd1e-4_bs32_x100.yaml'))\n",
    "# hr.load_state_dict(torch.load(\"hrnetv2_w18_imagenet_pretrained.pth\"))\n",
    "# hr.classifier = nn.Linear(2048, 3)"
   ]
  },
  {
   "cell_type": "code",
   "execution_count": 2,
   "metadata": {},
   "outputs": [],
   "source": [
    "Train = '/home/mmlab206/datasets/芒果/train'\n",
    "Test = '/home/mmlab206/Desktop/test_noperson'\n",
    "Val = '/home/mmlab206/datasets/芒果/val'\n",
    "val = '/home/mmlab206/datasets/芒果/val_noperson'\n",
    "from RandAugment import RandAugment\n",
    "# number of subprocesses to use for data loading\n",
    "num_workers = 4\n",
    "# how many samples per batch to load\n",
    "batch_size = 16\n",
    "\n",
    "class2idx = {'A': 0, 'B': 1, 'C': 2}\n",
    "\n",
    "# convert data to a normalized torch.FloatTensor\n",
    "train_transforms = transforms.Compose([transforms.Resize((385, 505)),\n",
    "                                       transforms.RandomHorizontalFlip(),\n",
    "                                       transforms.RandomVerticalFlip(),\n",
    "                                       transforms.ToTensor(),\n",
    "                                       transforms.Normalize([0.485, 0.456, 0.406],\n",
    "                                                           [0.229, 0.224, 0.225])])\n",
    "\n",
    "test_transforms = transforms.Compose([transforms.Resize((385, 505)),\n",
    "                                       transforms.ToTensor(),\n",
    "                                       transforms.Normalize([0.485, 0.456, 0.406],\n",
    "                                                           [0.229, 0.224, 0.225])])\n",
    "train_transforms.transforms.insert(0, RandAugment(2, 14))\n",
    "# choose the training and test datasets\n",
    "train_data = datasets.ImageFolder(root = Train, transform=train_transforms)\n",
    "valid_data = myset(Val, '/home/mmlab206/datasets/芒果/dev.csv', class2idx, test_transforms)\n",
    "test_data = myset(Test, './test_example.csv', class2idx, test_transforms)\n",
    "\n",
    "val_data = myset(val, '/home/mmlab206/datasets/芒果/dev.csv', class2idx, test_transforms)\n",
    "\n",
    "# prepare data loaders (combine dataset and sampler)\n",
    "train_loader = torch.utils.data.DataLoader(train_data, batch_size=batch_size, num_workers=num_workers,shuffle=True)\n",
    "valid_loader = torch.utils.data.DataLoader(valid_data, batch_size=batch_size,  num_workers=num_workers,shuffle=False)\n",
    "test_loader = torch.utils.data.DataLoader(test_data, batch_size=batch_size,  num_workers=num_workers,shuffle=False)\n",
    "\n",
    "val_loader = torch.utils.data.DataLoader(val_data, batch_size=batch_size,  num_workers=num_workers,shuffle=False)"
   ]
  },
  {
   "cell_type": "code",
   "execution_count": 15,
   "metadata": {},
   "outputs": [],
   "source": [
    "result1 = []\n",
    "for data, target in train_loader:\n",
    "    result1.append(target)\n",
    "result1 = torch.cat(result1, 0)\n",
    "result2 = []\n",
    "for data, target in valid_loader:\n",
    "    result2.append(target)\n",
    "result2 = torch.cat(result2, 0)\n",
    "result3 = []\n",
    "for data, target in test_loader:\n",
    "    result3.append(target)\n",
    "result3 = torch.cat(result3, 0)"
   ]
  },
  {
   "cell_type": "code",
   "execution_count": 51,
   "metadata": {},
   "outputs": [],
   "source": [
    "class ensemble(nn.Module):\n",
    "    def __init__(self):\n",
    "        super(ensemble, self).__init__()   \n",
    "        wA= nn.Linear(5, 1) \n",
    "        wB= nn.Linear(5, 1)\n",
    "        wC= nn.Linear(5, 1)\n",
    "        torch.nn.init.constant_(wA.weight, 1.0)\n",
    "        torch.nn.init.constant_(wB.weight, 1.0)\n",
    "        torch.nn.init.constant_(wC.weight, 1.0)\n",
    "        self.wA = wA\n",
    "        self.wB = wB\n",
    "        self.wC = wC\n",
    "    def forward(self, hr, alex, vgg, res, mob):\n",
    "        wA = self.wA\n",
    "        wB = self.wB\n",
    "        wC = self.wC\n",
    "        #print(wA.weight)\n",
    "        A = torch.cat((hr[:,0].view(-1, 1), alex[:,0].view(-1, 1), vgg[:,0].view(-1, 1), res[:,0].view(-1, 1), mob[:,0].view(-1, 1)), 1)\n",
    "        B = torch.cat((hr[:,1].view(-1, 1), alex[:,1].view(-1, 1), vgg[:,1].view(-1, 1), res[:,1].view(-1, 1), mob[:,1].view(-1, 1)), 1)\n",
    "        C = torch.cat((hr[:,2].view(-1, 1), alex[:,2].view(-1, 1), vgg[:,2].view(-1, 1), res[:,2].view(-1, 1), mob[:,2].view(-1, 1)), 1)\n",
    "        return torch.cat((wA(A), wB(B), wC(C)), 1) "
   ]
  },
  {
   "cell_type": "code",
   "execution_count": 3,
   "metadata": {},
   "outputs": [],
   "source": [
    "from FocalLoss import focal_loss\n",
    "from tqdm.notebook import tqdm\n",
    "import numpy as np\n",
    "import torch.nn.functional as F\n",
    "import torch.nn as nn\n",
    "from torch.autograd import Variable\n",
    "\n",
    "class DML(object):\n",
    "    def __init__(self, models, optimizer, parallel = False):\n",
    "        self.models = models\n",
    "        self.optimizer = optimizer\n",
    "        self.loss_kl = nn.KLDivLoss(reduction='batchmean').cuda()  \n",
    "        self.loss_fc = focal_loss(gamma = 3, alpha = [800/243, 800/293, 800/264]).cuda() \n",
    "        self.model_num = len(models)\n",
    "        if parallel:\n",
    "            for i in range(self.model_num):\n",
    "                self.models[i] = nn.DataParallel(self.models[i])\n",
    "    \n",
    "    def train(self, n_epochs, train_loader, valid_loader, val_loss_min = np.Inf, resume = False):       \n",
    "        if resume:\n",
    "            for i in range(self.model_num):\n",
    "                checkpoint = torch.load('DML' + str(i) + '.pth', map_location='cpu')\n",
    "                self.models[i].load_state_dict(checkpoint, False)\n",
    "        for i in range(self.model_num):\n",
    "            self.models[i] = self.models[i].cuda()\n",
    "            \n",
    "        for epoch in range(1, n_epochs+1):\n",
    "            print('running epoch: {}'.format(epoch))\n",
    "            train_loss = self.train_one_epoch(epoch, train_loader)\n",
    "            val_loss = self.validate(epoch, valid_loader)\n",
    "            print('\\tTraining Loss: {:.6f} \\tValidation Loss: {:.6f}'.format(\n",
    "                train_loss, val_loss))\n",
    "            if val_loss <= val_loss_min:\n",
    "                print('validation loss decreased ({:.6f} --> {:.6f}).  Saving model ...'.format(\n",
    "                val_loss_min,\n",
    "                val_loss))\n",
    "                for i in range(self.model_num):\n",
    "                    torch.save(self.models[i].state_dict(), 'DML' + str(i) + '.pth')\n",
    "                val_loss_min = val_loss\n",
    "            \n",
    "        writer.add_scalar(\"mango/train_loss\", train_loss, epoch)\n",
    "        writer.add_scalar(\"mango/val_loss\", val_loss, epoch)\n",
    "    \n",
    "    def train_one_epoch(self, epoch, train_loader):\n",
    "        train_loss = 0.0\n",
    "        for i in range(self.model_num):\n",
    "            self.models[i].train()\n",
    "        with torch.autograd.set_detect_anomaly(True):\n",
    "            for data, target in tqdm(train_loader):\n",
    "                data, target = data.cuda(), target.cuda()\n",
    "                data, target = Variable(data), Variable(target)\n",
    "                outputs=[]\n",
    "                for model in self.models:\n",
    "                    outputs.append(model(data))\n",
    "                self.optimizer.zero_grad()\n",
    "                for i in range(self.model_num):\n",
    "                    fc_loss = self.loss_fc(outputs[i], target)\n",
    "                    kl_loss = 0\n",
    "                    for j in range(self.model_num):\n",
    "                        if i!=j:\n",
    "                            kl_loss = kl_loss + self.loss_kl(F.log_softmax(outputs[i], dim = 1), \n",
    "                                                    F.softmax(Variable(outputs[j]), dim=1))\n",
    "                    loss = fc_loss + kl_loss / (self.model_num - 1)\n",
    "                    \n",
    "                    loss.backward()\n",
    "                    train_loss += loss.item()*data.size(0)\n",
    "                    \n",
    "                self.optimizer.step()\n",
    "            train_loss = train_loss/len(train_loader.dataset)    \n",
    "                \n",
    "        return train_loss\n",
    "\n",
    "    def validate(self, epoch, valid_loader):\n",
    "        valid_loss = 0.0\n",
    "        for data, target in tqdm(valid_loader):\n",
    "            data, target = data.cuda(), target.cuda()\n",
    "            data, target = Variable(data), Variable(target)            \n",
    "            outputs=[]\n",
    "            for model in self.models:\n",
    "                outputs.append(model(data))\n",
    "            for i in range(self.model_num):\n",
    "                fc_loss = self.loss_fc(outputs[i], target)\n",
    "                kl_loss = 0\n",
    "                for j in range(self.model_num):\n",
    "                    if i!=j:\n",
    "                        kl_loss = kl_loss + self.loss_kl(F.log_softmax(outputs[i], dim = 1), \n",
    "                                                F.softmax(Variable(outputs[j]), dim=1))\n",
    "                loss = fc_loss + kl_loss / (self.model_num - 1)\n",
    "                \n",
    "                valid_loss += loss.item()*data.size(0)\n",
    "        valid_loss = valid_loss/len(valid_loader.dataset)\n",
    "        return valid_loss\n",
    "\n",
    "    def test(self, loader):\n",
    "        valid_loss = 0.0\n",
    "        for i in range(self.model_num):\n",
    "            checkpoint = torch.load('DML' + str(i) + '.pth', map_location='cpu')\n",
    "            self.models[i].load_state_dict(checkpoint, False)\n",
    "            self.models[i].cuda()\n",
    "            self.models[i].eval()\n",
    "        correct = 0  \n",
    "        total = 0\n",
    "        for data, target in loader:\n",
    "            data, target = data.cuda(), target.cuda()\n",
    "            data, target = Variable(data), Variable(target)              \n",
    "            outputs=[]\n",
    "            for model in self.models:\n",
    "                outputs.append(model(data))\n",
    "            for i in range(self.model_num):\n",
    "                fc_loss = self.loss_fc(outputs[i], target)\n",
    "                kl_loss = 0\n",
    "                for j in range(self.model_num):\n",
    "                    if i!=j:\n",
    "                        kl_loss = kl_loss + self.loss_kl(F.log_softmax(outputs[i], dim = 1), \n",
    "                                                F.softmax(Variable(outputs[j]), dim=1))\n",
    "                loss = fc_loss + kl_loss / (self.model_num - 1)\n",
    "                valid_loss += loss.item()*data.size(0)\n",
    "            pred =  outputs[0] + outputs[1]\n",
    "            pred = pred.data.max(1, keepdim=True)[1]\n",
    "            correct += np.sum(np.squeeze(pred.eq(target.data.view_as(pred))).cpu().numpy())\n",
    "            total += data.size(0)\n",
    "        valid_loss = valid_loss/len(valid_loader.dataset)\n",
    "        print('Test Loss: {:.6f}'.format(valid_loss))\n",
    "\n",
    "        print('Test Accuracy: %2d%% (%2d/%2d)' % (\n",
    "            100. * correct / total, correct, total))"
   ]
  },
  {
   "cell_type": "code",
   "execution_count": 4,
   "metadata": {},
   "outputs": [
    {
     "name": "stdout",
     "output_type": "stream",
     "text": [
      "Focal_loss alpha = [3.292181069958848, 2.7303754266211606, 3.0303030303030303], 将对每一类权重进行精细化赋值\n"
     ]
    }
   ],
   "source": [
    "import torch.optim as optim\n",
    "ms = []\n",
    "model1 = models.resnet18(pretrained=True)\n",
    "model1.fc = nn.Linear(512, 3)\n",
    "ms.append(model1)\n",
    "model2 = models.mobilenet_v2(pretrained=True)\n",
    "model2.classifier[1] = nn.Linear(1280, 3)\n",
    "ms.append(model2)\n",
    "model3 = models.alexnet(pretrained=True)\n",
    "model3.classifier._modules['6'] = nn.Linear(4096, 3)\n",
    "ms.append(model3)\n",
    "\n",
    "optimizer = optim.Adam([{'params': model1.parameters()}, {'params': model2.parameters()}, {'params': model3.parameters()}], lr = 0.00001, weight_decay=1e-3)\n",
    "\n",
    "dml = DML(ms, optimizer, parallel = True)"
   ]
  },
  {
   "cell_type": "code",
   "execution_count": null,
   "metadata": {
    "scrolled": true
   },
   "outputs": [
    {
     "name": "stdout",
     "output_type": "stream",
     "text": [
      "running epoch: 1\n"
     ]
    },
    {
     "data": {
      "application/vnd.jupyter.widget-view+json": {
       "model_id": "393b29dbe34943999e47267d6a1eae12",
       "version_major": 2,
       "version_minor": 0
      },
      "text/plain": [
       "HBox(children=(FloatProgress(value=0.0, max=817.0), HTML(value='')))"
      ]
     },
     "metadata": {},
     "output_type": "display_data"
    },
    {
     "name": "stdout",
     "output_type": "stream",
     "text": [
      "\n"
     ]
    },
    {
     "data": {
      "application/vnd.jupyter.widget-view+json": {
       "model_id": "a5b7ede7a562410eacb5439eac7f4e56",
       "version_major": 2,
       "version_minor": 0
      },
      "text/plain": [
       "HBox(children=(FloatProgress(value=0.0, max=50.0), HTML(value='')))"
      ]
     },
     "metadata": {},
     "output_type": "display_data"
    },
    {
     "name": "stdout",
     "output_type": "stream",
     "text": [
      "\n",
      "\tTraining Loss: 2.633832 \tValidation Loss: 1.672165\n",
      "validation loss decreased (inf --> 1.672165).  Saving model ...\n",
      "running epoch: 2\n"
     ]
    },
    {
     "data": {
      "application/vnd.jupyter.widget-view+json": {
       "model_id": "6723569df90144dabe3e29da9b7bd5f7",
       "version_major": 2,
       "version_minor": 0
      },
      "text/plain": [
       "HBox(children=(FloatProgress(value=0.0, max=817.0), HTML(value='')))"
      ]
     },
     "metadata": {},
     "output_type": "display_data"
    },
    {
     "name": "stdout",
     "output_type": "stream",
     "text": [
      "\n"
     ]
    },
    {
     "data": {
      "application/vnd.jupyter.widget-view+json": {
       "model_id": "064528218b72400bb619ba5466f22712",
       "version_major": 2,
       "version_minor": 0
      },
      "text/plain": [
       "HBox(children=(FloatProgress(value=0.0, max=50.0), HTML(value='')))"
      ]
     },
     "metadata": {},
     "output_type": "display_data"
    },
    {
     "name": "stdout",
     "output_type": "stream",
     "text": [
      "\n",
      "\tTraining Loss: 1.956547 \tValidation Loss: 1.552349\n",
      "validation loss decreased (1.672165 --> 1.552349).  Saving model ...\n",
      "running epoch: 3\n"
     ]
    },
    {
     "data": {
      "application/vnd.jupyter.widget-view+json": {
       "model_id": "3dd9f48375af4fd39984532cf65159a4",
       "version_major": 2,
       "version_minor": 0
      },
      "text/plain": [
       "HBox(children=(FloatProgress(value=0.0, max=817.0), HTML(value='')))"
      ]
     },
     "metadata": {},
     "output_type": "display_data"
    },
    {
     "name": "stdout",
     "output_type": "stream",
     "text": [
      "\n"
     ]
    },
    {
     "data": {
      "application/vnd.jupyter.widget-view+json": {
       "model_id": "e3a1e0bb280e4110b182d5e405f8d0b0",
       "version_major": 2,
       "version_minor": 0
      },
      "text/plain": [
       "HBox(children=(FloatProgress(value=0.0, max=50.0), HTML(value='')))"
      ]
     },
     "metadata": {},
     "output_type": "display_data"
    },
    {
     "name": "stdout",
     "output_type": "stream",
     "text": [
      "\n",
      "\tTraining Loss: 1.840605 \tValidation Loss: 1.464986\n",
      "validation loss decreased (1.552349 --> 1.464986).  Saving model ...\n",
      "running epoch: 4\n"
     ]
    },
    {
     "data": {
      "application/vnd.jupyter.widget-view+json": {
       "model_id": "6a4142bb0a9047e9a095699efa5aeb11",
       "version_major": 2,
       "version_minor": 0
      },
      "text/plain": [
       "HBox(children=(FloatProgress(value=0.0, max=817.0), HTML(value='')))"
      ]
     },
     "metadata": {},
     "output_type": "display_data"
    },
    {
     "name": "stdout",
     "output_type": "stream",
     "text": [
      "\n"
     ]
    },
    {
     "data": {
      "application/vnd.jupyter.widget-view+json": {
       "model_id": "cc86f075f408419caf6ffdc7df25255f",
       "version_major": 2,
       "version_minor": 0
      },
      "text/plain": [
       "HBox(children=(FloatProgress(value=0.0, max=50.0), HTML(value='')))"
      ]
     },
     "metadata": {},
     "output_type": "display_data"
    },
    {
     "name": "stdout",
     "output_type": "stream",
     "text": [
      "\n",
      "\tTraining Loss: 1.760438 \tValidation Loss: 1.402730\n",
      "validation loss decreased (1.464986 --> 1.402730).  Saving model ...\n",
      "running epoch: 5\n"
     ]
    },
    {
     "data": {
      "application/vnd.jupyter.widget-view+json": {
       "model_id": "ef1e773c7aca44b999f134fd6f78c7cd",
       "version_major": 2,
       "version_minor": 0
      },
      "text/plain": [
       "HBox(children=(FloatProgress(value=0.0, max=817.0), HTML(value='')))"
      ]
     },
     "metadata": {},
     "output_type": "display_data"
    },
    {
     "name": "stdout",
     "output_type": "stream",
     "text": [
      "\n"
     ]
    },
    {
     "data": {
      "application/vnd.jupyter.widget-view+json": {
       "model_id": "477450b8ca88457cb5628e448201083f",
       "version_major": 2,
       "version_minor": 0
      },
      "text/plain": [
       "HBox(children=(FloatProgress(value=0.0, max=50.0), HTML(value='')))"
      ]
     },
     "metadata": {},
     "output_type": "display_data"
    },
    {
     "name": "stdout",
     "output_type": "stream",
     "text": [
      "\n",
      "\tTraining Loss: 1.692427 \tValidation Loss: 1.310850\n",
      "validation loss decreased (1.402730 --> 1.310850).  Saving model ...\n",
      "running epoch: 6\n"
     ]
    },
    {
     "data": {
      "application/vnd.jupyter.widget-view+json": {
       "model_id": "71397e66ab59447793849e55ae43a411",
       "version_major": 2,
       "version_minor": 0
      },
      "text/plain": [
       "HBox(children=(FloatProgress(value=0.0, max=817.0), HTML(value='')))"
      ]
     },
     "metadata": {},
     "output_type": "display_data"
    },
    {
     "name": "stdout",
     "output_type": "stream",
     "text": [
      "\n"
     ]
    },
    {
     "data": {
      "application/vnd.jupyter.widget-view+json": {
       "model_id": "6ea1fb9da5d24b248053e2e8791c3e99",
       "version_major": 2,
       "version_minor": 0
      },
      "text/plain": [
       "HBox(children=(FloatProgress(value=0.0, max=50.0), HTML(value='')))"
      ]
     },
     "metadata": {},
     "output_type": "display_data"
    },
    {
     "name": "stdout",
     "output_type": "stream",
     "text": [
      "\n",
      "\tTraining Loss: 1.640678 \tValidation Loss: 1.327312\n",
      "running epoch: 7\n"
     ]
    },
    {
     "data": {
      "application/vnd.jupyter.widget-view+json": {
       "model_id": "6b604ed230544d59a2266b09402aefb3",
       "version_major": 2,
       "version_minor": 0
      },
      "text/plain": [
       "HBox(children=(FloatProgress(value=0.0, max=817.0), HTML(value='')))"
      ]
     },
     "metadata": {},
     "output_type": "display_data"
    },
    {
     "name": "stdout",
     "output_type": "stream",
     "text": [
      "\n"
     ]
    },
    {
     "data": {
      "application/vnd.jupyter.widget-view+json": {
       "model_id": "2621158a75b74de6beae555c8c1bf32a",
       "version_major": 2,
       "version_minor": 0
      },
      "text/plain": [
       "HBox(children=(FloatProgress(value=0.0, max=50.0), HTML(value='')))"
      ]
     },
     "metadata": {},
     "output_type": "display_data"
    },
    {
     "name": "stdout",
     "output_type": "stream",
     "text": [
      "\n",
      "\tTraining Loss: 1.572875 \tValidation Loss: 1.272089\n",
      "validation loss decreased (1.310850 --> 1.272089).  Saving model ...\n",
      "running epoch: 8\n"
     ]
    },
    {
     "data": {
      "application/vnd.jupyter.widget-view+json": {
       "model_id": "08e6bf99a355490ea76da3567cb0b68f",
       "version_major": 2,
       "version_minor": 0
      },
      "text/plain": [
       "HBox(children=(FloatProgress(value=0.0, max=817.0), HTML(value='')))"
      ]
     },
     "metadata": {},
     "output_type": "display_data"
    },
    {
     "name": "stdout",
     "output_type": "stream",
     "text": [
      "\n"
     ]
    },
    {
     "data": {
      "application/vnd.jupyter.widget-view+json": {
       "model_id": "5dedba85f90d4fb1babe8df79c48a2e9",
       "version_major": 2,
       "version_minor": 0
      },
      "text/plain": [
       "HBox(children=(FloatProgress(value=0.0, max=50.0), HTML(value='')))"
      ]
     },
     "metadata": {},
     "output_type": "display_data"
    },
    {
     "name": "stdout",
     "output_type": "stream",
     "text": [
      "\n",
      "\tTraining Loss: 1.551037 \tValidation Loss: 1.218882\n",
      "validation loss decreased (1.272089 --> 1.218882).  Saving model ...\n",
      "running epoch: 9\n"
     ]
    },
    {
     "data": {
      "application/vnd.jupyter.widget-view+json": {
       "model_id": "78e6bc21023c4cf3bb0662059d0ff48f",
       "version_major": 2,
       "version_minor": 0
      },
      "text/plain": [
       "HBox(children=(FloatProgress(value=0.0, max=817.0), HTML(value='')))"
      ]
     },
     "metadata": {},
     "output_type": "display_data"
    },
    {
     "name": "stdout",
     "output_type": "stream",
     "text": [
      "\n"
     ]
    },
    {
     "data": {
      "application/vnd.jupyter.widget-view+json": {
       "model_id": "e4f4c5e2f24a4ca6946d5ffdade6824b",
       "version_major": 2,
       "version_minor": 0
      },
      "text/plain": [
       "HBox(children=(FloatProgress(value=0.0, max=50.0), HTML(value='')))"
      ]
     },
     "metadata": {},
     "output_type": "display_data"
    },
    {
     "name": "stdout",
     "output_type": "stream",
     "text": [
      "\n",
      "\tTraining Loss: 1.519382 \tValidation Loss: 1.184506\n",
      "validation loss decreased (1.218882 --> 1.184506).  Saving model ...\n",
      "running epoch: 10\n"
     ]
    },
    {
     "data": {
      "application/vnd.jupyter.widget-view+json": {
       "model_id": "9422a1ce314b4c6fa1c784d66f51a80a",
       "version_major": 2,
       "version_minor": 0
      },
      "text/plain": [
       "HBox(children=(FloatProgress(value=0.0, max=817.0), HTML(value='')))"
      ]
     },
     "metadata": {},
     "output_type": "display_data"
    },
    {
     "name": "stdout",
     "output_type": "stream",
     "text": [
      "\n"
     ]
    },
    {
     "data": {
      "application/vnd.jupyter.widget-view+json": {
       "model_id": "5f8851aa36d446a198110d70bc285ce6",
       "version_major": 2,
       "version_minor": 0
      },
      "text/plain": [
       "HBox(children=(FloatProgress(value=0.0, max=50.0), HTML(value='')))"
      ]
     },
     "metadata": {},
     "output_type": "display_data"
    },
    {
     "name": "stdout",
     "output_type": "stream",
     "text": [
      "\n",
      "\tTraining Loss: 1.484045 \tValidation Loss: 1.196900\n",
      "running epoch: 11\n"
     ]
    },
    {
     "data": {
      "application/vnd.jupyter.widget-view+json": {
       "model_id": "0be4d935370549168af1609de7e419b9",
       "version_major": 2,
       "version_minor": 0
      },
      "text/plain": [
       "HBox(children=(FloatProgress(value=0.0, max=817.0), HTML(value='')))"
      ]
     },
     "metadata": {},
     "output_type": "display_data"
    },
    {
     "name": "stdout",
     "output_type": "stream",
     "text": [
      "\n"
     ]
    },
    {
     "data": {
      "application/vnd.jupyter.widget-view+json": {
       "model_id": "c8b5c3b5319343f7906131089bbd396b",
       "version_major": 2,
       "version_minor": 0
      },
      "text/plain": [
       "HBox(children=(FloatProgress(value=0.0, max=50.0), HTML(value='')))"
      ]
     },
     "metadata": {},
     "output_type": "display_data"
    },
    {
     "name": "stdout",
     "output_type": "stream",
     "text": [
      "\n",
      "\tTraining Loss: 1.466185 \tValidation Loss: 1.147920\n",
      "validation loss decreased (1.184506 --> 1.147920).  Saving model ...\n",
      "running epoch: 12\n"
     ]
    },
    {
     "data": {
      "application/vnd.jupyter.widget-view+json": {
       "model_id": "f80a0bcd2e1c472d8f321f28dd631061",
       "version_major": 2,
       "version_minor": 0
      },
      "text/plain": [
       "HBox(children=(FloatProgress(value=0.0, max=817.0), HTML(value='')))"
      ]
     },
     "metadata": {},
     "output_type": "display_data"
    },
    {
     "name": "stdout",
     "output_type": "stream",
     "text": [
      "\n"
     ]
    },
    {
     "data": {
      "application/vnd.jupyter.widget-view+json": {
       "model_id": "4ec5f3b8ff4a4260b4c24261b74ddbdb",
       "version_major": 2,
       "version_minor": 0
      },
      "text/plain": [
       "HBox(children=(FloatProgress(value=0.0, max=50.0), HTML(value='')))"
      ]
     },
     "metadata": {},
     "output_type": "display_data"
    },
    {
     "name": "stdout",
     "output_type": "stream",
     "text": [
      "\n",
      "\tTraining Loss: 1.441163 \tValidation Loss: 1.161443\n",
      "running epoch: 13\n"
     ]
    },
    {
     "data": {
      "application/vnd.jupyter.widget-view+json": {
       "model_id": "21e8baaf7d3b4404925ee564dc541364",
       "version_major": 2,
       "version_minor": 0
      },
      "text/plain": [
       "HBox(children=(FloatProgress(value=0.0, max=817.0), HTML(value='')))"
      ]
     },
     "metadata": {},
     "output_type": "display_data"
    },
    {
     "name": "stdout",
     "output_type": "stream",
     "text": [
      "\n"
     ]
    },
    {
     "data": {
      "application/vnd.jupyter.widget-view+json": {
       "model_id": "595cfd0a738b41a9938278659fbea7f6",
       "version_major": 2,
       "version_minor": 0
      },
      "text/plain": [
       "HBox(children=(FloatProgress(value=0.0, max=50.0), HTML(value='')))"
      ]
     },
     "metadata": {},
     "output_type": "display_data"
    },
    {
     "name": "stdout",
     "output_type": "stream",
     "text": [
      "\n",
      "\tTraining Loss: 1.424662 \tValidation Loss: 1.139093\n",
      "validation loss decreased (1.147920 --> 1.139093).  Saving model ...\n",
      "running epoch: 14\n"
     ]
    },
    {
     "data": {
      "application/vnd.jupyter.widget-view+json": {
       "model_id": "8a8218d7047c410b915eff8b1184c66b",
       "version_major": 2,
       "version_minor": 0
      },
      "text/plain": [
       "HBox(children=(FloatProgress(value=0.0, max=817.0), HTML(value='')))"
      ]
     },
     "metadata": {},
     "output_type": "display_data"
    },
    {
     "name": "stdout",
     "output_type": "stream",
     "text": [
      "\n"
     ]
    },
    {
     "data": {
      "application/vnd.jupyter.widget-view+json": {
       "model_id": "dc8a0e5c3d6f4818bd7f48ef4043f838",
       "version_major": 2,
       "version_minor": 0
      },
      "text/plain": [
       "HBox(children=(FloatProgress(value=0.0, max=50.0), HTML(value='')))"
      ]
     },
     "metadata": {},
     "output_type": "display_data"
    },
    {
     "name": "stdout",
     "output_type": "stream",
     "text": [
      "\n",
      "\tTraining Loss: 1.402796 \tValidation Loss: 1.088214\n",
      "validation loss decreased (1.139093 --> 1.088214).  Saving model ...\n",
      "running epoch: 15\n"
     ]
    },
    {
     "data": {
      "application/vnd.jupyter.widget-view+json": {
       "model_id": "f9d6e4e50f154266ba14b52f8d06d668",
       "version_major": 2,
       "version_minor": 0
      },
      "text/plain": [
       "HBox(children=(FloatProgress(value=0.0, max=817.0), HTML(value='')))"
      ]
     },
     "metadata": {},
     "output_type": "display_data"
    },
    {
     "name": "stdout",
     "output_type": "stream",
     "text": [
      "\n"
     ]
    },
    {
     "data": {
      "application/vnd.jupyter.widget-view+json": {
       "model_id": "d925a5bfb2574a1f9f21e820963cfc44",
       "version_major": 2,
       "version_minor": 0
      },
      "text/plain": [
       "HBox(children=(FloatProgress(value=0.0, max=50.0), HTML(value='')))"
      ]
     },
     "metadata": {},
     "output_type": "display_data"
    },
    {
     "name": "stdout",
     "output_type": "stream",
     "text": [
      "\n",
      "\tTraining Loss: 1.377715 \tValidation Loss: 1.081017\n",
      "validation loss decreased (1.088214 --> 1.081017).  Saving model ...\n",
      "running epoch: 16\n"
     ]
    },
    {
     "data": {
      "application/vnd.jupyter.widget-view+json": {
       "model_id": "6443f716eb3a44e38245fe2dce299cc6",
       "version_major": 2,
       "version_minor": 0
      },
      "text/plain": [
       "HBox(children=(FloatProgress(value=0.0, max=817.0), HTML(value='')))"
      ]
     },
     "metadata": {},
     "output_type": "display_data"
    },
    {
     "name": "stdout",
     "output_type": "stream",
     "text": [
      "\n"
     ]
    },
    {
     "data": {
      "application/vnd.jupyter.widget-view+json": {
       "model_id": "8093a9e5fcbc4cc5a4c9e79b7c4987c7",
       "version_major": 2,
       "version_minor": 0
      },
      "text/plain": [
       "HBox(children=(FloatProgress(value=0.0, max=50.0), HTML(value='')))"
      ]
     },
     "metadata": {},
     "output_type": "display_data"
    },
    {
     "name": "stdout",
     "output_type": "stream",
     "text": [
      "\n",
      "\tTraining Loss: 1.370910 \tValidation Loss: 1.095706\n",
      "running epoch: 17\n"
     ]
    },
    {
     "data": {
      "application/vnd.jupyter.widget-view+json": {
       "model_id": "7806f95fd7074026ae36ca8886ef3756",
       "version_major": 2,
       "version_minor": 0
      },
      "text/plain": [
       "HBox(children=(FloatProgress(value=0.0, max=817.0), HTML(value='')))"
      ]
     },
     "metadata": {},
     "output_type": "display_data"
    },
    {
     "name": "stdout",
     "output_type": "stream",
     "text": [
      "\n"
     ]
    },
    {
     "data": {
      "application/vnd.jupyter.widget-view+json": {
       "model_id": "335ecf26ebde473d8b4b57e6a0921bb7",
       "version_major": 2,
       "version_minor": 0
      },
      "text/plain": [
       "HBox(children=(FloatProgress(value=0.0, max=50.0), HTML(value='')))"
      ]
     },
     "metadata": {},
     "output_type": "display_data"
    },
    {
     "name": "stdout",
     "output_type": "stream",
     "text": [
      "\n",
      "\tTraining Loss: 1.323462 \tValidation Loss: 1.035811\n",
      "validation loss decreased (1.081017 --> 1.035811).  Saving model ...\n",
      "running epoch: 18\n"
     ]
    },
    {
     "data": {
      "application/vnd.jupyter.widget-view+json": {
       "model_id": "d330a30e95e34c368877a0e8a84c4dc5",
       "version_major": 2,
       "version_minor": 0
      },
      "text/plain": [
       "HBox(children=(FloatProgress(value=0.0, max=817.0), HTML(value='')))"
      ]
     },
     "metadata": {},
     "output_type": "display_data"
    },
    {
     "name": "stdout",
     "output_type": "stream",
     "text": [
      "\n"
     ]
    },
    {
     "data": {
      "application/vnd.jupyter.widget-view+json": {
       "model_id": "3e1bbb8c5cf54f4da7a7a0a0f48b88a0",
       "version_major": 2,
       "version_minor": 0
      },
      "text/plain": [
       "HBox(children=(FloatProgress(value=0.0, max=50.0), HTML(value='')))"
      ]
     },
     "metadata": {},
     "output_type": "display_data"
    },
    {
     "name": "stdout",
     "output_type": "stream",
     "text": [
      "\n",
      "\tTraining Loss: 1.298194 \tValidation Loss: 1.098701\n",
      "running epoch: 19\n"
     ]
    },
    {
     "data": {
      "application/vnd.jupyter.widget-view+json": {
       "model_id": "509368df1bc5485e83c9f705a0141478",
       "version_major": 2,
       "version_minor": 0
      },
      "text/plain": [
       "HBox(children=(FloatProgress(value=0.0, max=817.0), HTML(value='')))"
      ]
     },
     "metadata": {},
     "output_type": "display_data"
    },
    {
     "name": "stdout",
     "output_type": "stream",
     "text": [
      "\n"
     ]
    },
    {
     "data": {
      "application/vnd.jupyter.widget-view+json": {
       "model_id": "b8da3ef429334b0493db60865da4703c",
       "version_major": 2,
       "version_minor": 0
      },
      "text/plain": [
       "HBox(children=(FloatProgress(value=0.0, max=50.0), HTML(value='')))"
      ]
     },
     "metadata": {},
     "output_type": "display_data"
    },
    {
     "name": "stdout",
     "output_type": "stream",
     "text": [
      "\n",
      "\tTraining Loss: 1.310864 \tValidation Loss: 1.067867\n",
      "running epoch: 20\n"
     ]
    },
    {
     "data": {
      "application/vnd.jupyter.widget-view+json": {
       "model_id": "4fce9f5bf23d45b29767c54864d909b1",
       "version_major": 2,
       "version_minor": 0
      },
      "text/plain": [
       "HBox(children=(FloatProgress(value=0.0, max=817.0), HTML(value='')))"
      ]
     },
     "metadata": {},
     "output_type": "display_data"
    },
    {
     "name": "stdout",
     "output_type": "stream",
     "text": [
      "\n"
     ]
    },
    {
     "data": {
      "application/vnd.jupyter.widget-view+json": {
       "model_id": "f8a4f3bb9533468c9d929780fa09eaa2",
       "version_major": 2,
       "version_minor": 0
      },
      "text/plain": [
       "HBox(children=(FloatProgress(value=0.0, max=50.0), HTML(value='')))"
      ]
     },
     "metadata": {},
     "output_type": "display_data"
    },
    {
     "name": "stdout",
     "output_type": "stream",
     "text": [
      "\n",
      "\tTraining Loss: 1.293563 \tValidation Loss: 1.031466\n",
      "validation loss decreased (1.035811 --> 1.031466).  Saving model ...\n",
      "running epoch: 21\n"
     ]
    },
    {
     "data": {
      "application/vnd.jupyter.widget-view+json": {
       "model_id": "56c187d60d2d4fc0b9d3eb41f2533d87",
       "version_major": 2,
       "version_minor": 0
      },
      "text/plain": [
       "HBox(children=(FloatProgress(value=0.0, max=817.0), HTML(value='')))"
      ]
     },
     "metadata": {},
     "output_type": "display_data"
    },
    {
     "name": "stdout",
     "output_type": "stream",
     "text": [
      "\n"
     ]
    },
    {
     "data": {
      "application/vnd.jupyter.widget-view+json": {
       "model_id": "9d3199314d9046ec8af2abf693c7c40d",
       "version_major": 2,
       "version_minor": 0
      },
      "text/plain": [
       "HBox(children=(FloatProgress(value=0.0, max=50.0), HTML(value='')))"
      ]
     },
     "metadata": {},
     "output_type": "display_data"
    },
    {
     "name": "stdout",
     "output_type": "stream",
     "text": [
      "\n",
      "\tTraining Loss: 1.283667 \tValidation Loss: 1.002652\n",
      "validation loss decreased (1.031466 --> 1.002652).  Saving model ...\n",
      "running epoch: 22\n"
     ]
    },
    {
     "data": {
      "application/vnd.jupyter.widget-view+json": {
       "model_id": "6a26dcd5d01e46a78d9b76d756350936",
       "version_major": 2,
       "version_minor": 0
      },
      "text/plain": [
       "HBox(children=(FloatProgress(value=0.0, max=817.0), HTML(value='')))"
      ]
     },
     "metadata": {},
     "output_type": "display_data"
    },
    {
     "name": "stdout",
     "output_type": "stream",
     "text": [
      "\n"
     ]
    },
    {
     "data": {
      "application/vnd.jupyter.widget-view+json": {
       "model_id": "2f7eddb0cf404e2f955f467b8ec67bf9",
       "version_major": 2,
       "version_minor": 0
      },
      "text/plain": [
       "HBox(children=(FloatProgress(value=0.0, max=50.0), HTML(value='')))"
      ]
     },
     "metadata": {},
     "output_type": "display_data"
    },
    {
     "name": "stdout",
     "output_type": "stream",
     "text": [
      "\n",
      "\tTraining Loss: 1.259955 \tValidation Loss: 1.021282\n",
      "running epoch: 23\n"
     ]
    },
    {
     "data": {
      "application/vnd.jupyter.widget-view+json": {
       "model_id": "055a13d94af949b387260d9795a65740",
       "version_major": 2,
       "version_minor": 0
      },
      "text/plain": [
       "HBox(children=(FloatProgress(value=0.0, max=817.0), HTML(value='')))"
      ]
     },
     "metadata": {},
     "output_type": "display_data"
    },
    {
     "name": "stdout",
     "output_type": "stream",
     "text": [
      "\n"
     ]
    },
    {
     "data": {
      "application/vnd.jupyter.widget-view+json": {
       "model_id": "cf133a560ed44d409b365ffc369804f1",
       "version_major": 2,
       "version_minor": 0
      },
      "text/plain": [
       "HBox(children=(FloatProgress(value=0.0, max=50.0), HTML(value='')))"
      ]
     },
     "metadata": {},
     "output_type": "display_data"
    },
    {
     "name": "stdout",
     "output_type": "stream",
     "text": [
      "\n",
      "\tTraining Loss: 1.249970 \tValidation Loss: 1.021989\n",
      "running epoch: 24\n"
     ]
    },
    {
     "data": {
      "application/vnd.jupyter.widget-view+json": {
       "model_id": "e0f40af9920a4a749e6f4bbd0619f335",
       "version_major": 2,
       "version_minor": 0
      },
      "text/plain": [
       "HBox(children=(FloatProgress(value=0.0, max=817.0), HTML(value='')))"
      ]
     },
     "metadata": {},
     "output_type": "display_data"
    },
    {
     "name": "stdout",
     "output_type": "stream",
     "text": [
      "\n"
     ]
    },
    {
     "data": {
      "application/vnd.jupyter.widget-view+json": {
       "model_id": "93b06070a7364b0fa109d75885947314",
       "version_major": 2,
       "version_minor": 0
      },
      "text/plain": [
       "HBox(children=(FloatProgress(value=0.0, max=50.0), HTML(value='')))"
      ]
     },
     "metadata": {},
     "output_type": "display_data"
    },
    {
     "name": "stdout",
     "output_type": "stream",
     "text": [
      "\n",
      "\tTraining Loss: 1.251012 \tValidation Loss: 0.987966\n",
      "validation loss decreased (1.002652 --> 0.987966).  Saving model ...\n",
      "running epoch: 25\n"
     ]
    },
    {
     "data": {
      "application/vnd.jupyter.widget-view+json": {
       "model_id": "c052bba3914f42a7aea244cc394f4603",
       "version_major": 2,
       "version_minor": 0
      },
      "text/plain": [
       "HBox(children=(FloatProgress(value=0.0, max=817.0), HTML(value='')))"
      ]
     },
     "metadata": {},
     "output_type": "display_data"
    },
    {
     "name": "stdout",
     "output_type": "stream",
     "text": [
      "\n"
     ]
    },
    {
     "data": {
      "application/vnd.jupyter.widget-view+json": {
       "model_id": "56ea473509b34f9682468be90163eb80",
       "version_major": 2,
       "version_minor": 0
      },
      "text/plain": [
       "HBox(children=(FloatProgress(value=0.0, max=50.0), HTML(value='')))"
      ]
     },
     "metadata": {},
     "output_type": "display_data"
    },
    {
     "name": "stdout",
     "output_type": "stream",
     "text": [
      "\n",
      "\tTraining Loss: 1.250250 \tValidation Loss: 1.014610\n",
      "running epoch: 26\n"
     ]
    },
    {
     "data": {
      "application/vnd.jupyter.widget-view+json": {
       "model_id": "63a09b0c5d494b94a9e0ba02e5f60f79",
       "version_major": 2,
       "version_minor": 0
      },
      "text/plain": [
       "HBox(children=(FloatProgress(value=0.0, max=817.0), HTML(value='')))"
      ]
     },
     "metadata": {},
     "output_type": "display_data"
    },
    {
     "name": "stdout",
     "output_type": "stream",
     "text": [
      "\n"
     ]
    },
    {
     "data": {
      "application/vnd.jupyter.widget-view+json": {
       "model_id": "c6a0bd00acac4f699df4c26421b7e9db",
       "version_major": 2,
       "version_minor": 0
      },
      "text/plain": [
       "HBox(children=(FloatProgress(value=0.0, max=50.0), HTML(value='')))"
      ]
     },
     "metadata": {},
     "output_type": "display_data"
    },
    {
     "name": "stdout",
     "output_type": "stream",
     "text": [
      "\n",
      "\tTraining Loss: 1.219471 \tValidation Loss: 0.986018\n",
      "validation loss decreased (0.987966 --> 0.986018).  Saving model ...\n",
      "running epoch: 27\n"
     ]
    },
    {
     "data": {
      "application/vnd.jupyter.widget-view+json": {
       "model_id": "ebc28422e21d4e309a6c71b4177394bb",
       "version_major": 2,
       "version_minor": 0
      },
      "text/plain": [
       "HBox(children=(FloatProgress(value=0.0, max=817.0), HTML(value='')))"
      ]
     },
     "metadata": {},
     "output_type": "display_data"
    },
    {
     "name": "stdout",
     "output_type": "stream",
     "text": [
      "\n"
     ]
    },
    {
     "data": {
      "application/vnd.jupyter.widget-view+json": {
       "model_id": "739887076a4744709b788e38e46ba941",
       "version_major": 2,
       "version_minor": 0
      },
      "text/plain": [
       "HBox(children=(FloatProgress(value=0.0, max=50.0), HTML(value='')))"
      ]
     },
     "metadata": {},
     "output_type": "display_data"
    },
    {
     "name": "stdout",
     "output_type": "stream",
     "text": [
      "\n",
      "\tTraining Loss: 1.209724 \tValidation Loss: 1.001808\n",
      "running epoch: 28\n"
     ]
    },
    {
     "data": {
      "application/vnd.jupyter.widget-view+json": {
       "model_id": "5925864f7fd74b3ba58a215d6764bef2",
       "version_major": 2,
       "version_minor": 0
      },
      "text/plain": [
       "HBox(children=(FloatProgress(value=0.0, max=817.0), HTML(value='')))"
      ]
     },
     "metadata": {},
     "output_type": "display_data"
    },
    {
     "name": "stdout",
     "output_type": "stream",
     "text": [
      "\n"
     ]
    },
    {
     "data": {
      "application/vnd.jupyter.widget-view+json": {
       "model_id": "f007f2df7e5a4349bda89687a405ce09",
       "version_major": 2,
       "version_minor": 0
      },
      "text/plain": [
       "HBox(children=(FloatProgress(value=0.0, max=50.0), HTML(value='')))"
      ]
     },
     "metadata": {},
     "output_type": "display_data"
    },
    {
     "name": "stdout",
     "output_type": "stream",
     "text": [
      "\n",
      "\tTraining Loss: 1.203154 \tValidation Loss: 0.995965\n",
      "running epoch: 29\n"
     ]
    },
    {
     "data": {
      "application/vnd.jupyter.widget-view+json": {
       "model_id": "832367dbbe9e4602919b3074f3548033",
       "version_major": 2,
       "version_minor": 0
      },
      "text/plain": [
       "HBox(children=(FloatProgress(value=0.0, max=817.0), HTML(value='')))"
      ]
     },
     "metadata": {},
     "output_type": "display_data"
    },
    {
     "name": "stdout",
     "output_type": "stream",
     "text": [
      "\n"
     ]
    },
    {
     "data": {
      "application/vnd.jupyter.widget-view+json": {
       "model_id": "836ffcd97be0474cb1adbc92059c8b6d",
       "version_major": 2,
       "version_minor": 0
      },
      "text/plain": [
       "HBox(children=(FloatProgress(value=0.0, max=50.0), HTML(value='')))"
      ]
     },
     "metadata": {},
     "output_type": "display_data"
    },
    {
     "name": "stdout",
     "output_type": "stream",
     "text": [
      "\n",
      "\tTraining Loss: 1.195754 \tValidation Loss: 0.976707\n",
      "validation loss decreased (0.986018 --> 0.976707).  Saving model ...\n",
      "running epoch: 30\n"
     ]
    },
    {
     "data": {
      "application/vnd.jupyter.widget-view+json": {
       "model_id": "254cc23ac4614586850194e639e6b807",
       "version_major": 2,
       "version_minor": 0
      },
      "text/plain": [
       "HBox(children=(FloatProgress(value=0.0, max=817.0), HTML(value='')))"
      ]
     },
     "metadata": {},
     "output_type": "display_data"
    },
    {
     "name": "stdout",
     "output_type": "stream",
     "text": [
      "\n"
     ]
    },
    {
     "data": {
      "application/vnd.jupyter.widget-view+json": {
       "model_id": "3591d6f499184d72846be7e5505ee9a0",
       "version_major": 2,
       "version_minor": 0
      },
      "text/plain": [
       "HBox(children=(FloatProgress(value=0.0, max=50.0), HTML(value='')))"
      ]
     },
     "metadata": {},
     "output_type": "display_data"
    },
    {
     "name": "stdout",
     "output_type": "stream",
     "text": [
      "\n",
      "\tTraining Loss: 1.195544 \tValidation Loss: 1.004179\n",
      "running epoch: 31\n"
     ]
    },
    {
     "data": {
      "application/vnd.jupyter.widget-view+json": {
       "model_id": "26b93c96e9564b4ab8fbcf903ca7ff94",
       "version_major": 2,
       "version_minor": 0
      },
      "text/plain": [
       "HBox(children=(FloatProgress(value=0.0, max=817.0), HTML(value='')))"
      ]
     },
     "metadata": {},
     "output_type": "display_data"
    },
    {
     "name": "stdout",
     "output_type": "stream",
     "text": [
      "\n"
     ]
    },
    {
     "data": {
      "application/vnd.jupyter.widget-view+json": {
       "model_id": "76badcd7bc8a4c18bbd0db44866e787d",
       "version_major": 2,
       "version_minor": 0
      },
      "text/plain": [
       "HBox(children=(FloatProgress(value=0.0, max=50.0), HTML(value='')))"
      ]
     },
     "metadata": {},
     "output_type": "display_data"
    },
    {
     "name": "stdout",
     "output_type": "stream",
     "text": [
      "\n",
      "\tTraining Loss: 1.176614 \tValidation Loss: 0.986323\n",
      "running epoch: 32\n"
     ]
    },
    {
     "data": {
      "application/vnd.jupyter.widget-view+json": {
       "model_id": "d560d30c214f4040acf05d77cd31602b",
       "version_major": 2,
       "version_minor": 0
      },
      "text/plain": [
       "HBox(children=(FloatProgress(value=0.0, max=817.0), HTML(value='')))"
      ]
     },
     "metadata": {},
     "output_type": "display_data"
    },
    {
     "name": "stdout",
     "output_type": "stream",
     "text": [
      "\n"
     ]
    },
    {
     "data": {
      "application/vnd.jupyter.widget-view+json": {
       "model_id": "4d7888170a7c412b9bf82e9ce1420ad0",
       "version_major": 2,
       "version_minor": 0
      },
      "text/plain": [
       "HBox(children=(FloatProgress(value=0.0, max=50.0), HTML(value='')))"
      ]
     },
     "metadata": {},
     "output_type": "display_data"
    },
    {
     "name": "stdout",
     "output_type": "stream",
     "text": [
      "\n",
      "\tTraining Loss: 1.172559 \tValidation Loss: 1.025916\n",
      "running epoch: 33\n"
     ]
    },
    {
     "data": {
      "application/vnd.jupyter.widget-view+json": {
       "model_id": "c9c257018c4a4586ad329ff6904f040d",
       "version_major": 2,
       "version_minor": 0
      },
      "text/plain": [
       "HBox(children=(FloatProgress(value=0.0, max=817.0), HTML(value='')))"
      ]
     },
     "metadata": {},
     "output_type": "display_data"
    },
    {
     "name": "stdout",
     "output_type": "stream",
     "text": [
      "\n"
     ]
    },
    {
     "data": {
      "application/vnd.jupyter.widget-view+json": {
       "model_id": "b8bd70a38c7b4fcba7b6b84607bb544b",
       "version_major": 2,
       "version_minor": 0
      },
      "text/plain": [
       "HBox(children=(FloatProgress(value=0.0, max=50.0), HTML(value='')))"
      ]
     },
     "metadata": {},
     "output_type": "display_data"
    },
    {
     "name": "stdout",
     "output_type": "stream",
     "text": [
      "\n",
      "\tTraining Loss: 1.169459 \tValidation Loss: 0.974141\n",
      "validation loss decreased (0.976707 --> 0.974141).  Saving model ...\n",
      "running epoch: 34\n"
     ]
    },
    {
     "data": {
      "application/vnd.jupyter.widget-view+json": {
       "model_id": "a7f526e65fc04fa6a50e989b1979f1bc",
       "version_major": 2,
       "version_minor": 0
      },
      "text/plain": [
       "HBox(children=(FloatProgress(value=0.0, max=817.0), HTML(value='')))"
      ]
     },
     "metadata": {},
     "output_type": "display_data"
    },
    {
     "name": "stdout",
     "output_type": "stream",
     "text": [
      "\n"
     ]
    },
    {
     "data": {
      "application/vnd.jupyter.widget-view+json": {
       "model_id": "3cf861e6795a4290ae6c241587fff124",
       "version_major": 2,
       "version_minor": 0
      },
      "text/plain": [
       "HBox(children=(FloatProgress(value=0.0, max=50.0), HTML(value='')))"
      ]
     },
     "metadata": {},
     "output_type": "display_data"
    },
    {
     "name": "stdout",
     "output_type": "stream",
     "text": [
      "\n",
      "\tTraining Loss: 1.147595 \tValidation Loss: 0.925801\n",
      "validation loss decreased (0.974141 --> 0.925801).  Saving model ...\n",
      "running epoch: 35\n"
     ]
    },
    {
     "data": {
      "application/vnd.jupyter.widget-view+json": {
       "model_id": "e615995ffd0d4120bc480d9ef5ae77ee",
       "version_major": 2,
       "version_minor": 0
      },
      "text/plain": [
       "HBox(children=(FloatProgress(value=0.0, max=817.0), HTML(value='')))"
      ]
     },
     "metadata": {},
     "output_type": "display_data"
    },
    {
     "name": "stdout",
     "output_type": "stream",
     "text": [
      "\n"
     ]
    },
    {
     "data": {
      "application/vnd.jupyter.widget-view+json": {
       "model_id": "3a6a0c0cd5bc4921873a410c479427d0",
       "version_major": 2,
       "version_minor": 0
      },
      "text/plain": [
       "HBox(children=(FloatProgress(value=0.0, max=50.0), HTML(value='')))"
      ]
     },
     "metadata": {},
     "output_type": "display_data"
    },
    {
     "name": "stdout",
     "output_type": "stream",
     "text": [
      "\n",
      "\tTraining Loss: 1.139646 \tValidation Loss: 0.985376\n",
      "running epoch: 36\n"
     ]
    },
    {
     "data": {
      "application/vnd.jupyter.widget-view+json": {
       "model_id": "3092de61fcfe468d8adc327be384041e",
       "version_major": 2,
       "version_minor": 0
      },
      "text/plain": [
       "HBox(children=(FloatProgress(value=0.0, max=817.0), HTML(value='')))"
      ]
     },
     "metadata": {},
     "output_type": "display_data"
    },
    {
     "name": "stdout",
     "output_type": "stream",
     "text": [
      "\n"
     ]
    },
    {
     "data": {
      "application/vnd.jupyter.widget-view+json": {
       "model_id": "04b97fe94464476f9ffe5992ea4e1b8a",
       "version_major": 2,
       "version_minor": 0
      },
      "text/plain": [
       "HBox(children=(FloatProgress(value=0.0, max=50.0), HTML(value='')))"
      ]
     },
     "metadata": {},
     "output_type": "display_data"
    },
    {
     "name": "stdout",
     "output_type": "stream",
     "text": [
      "\n",
      "\tTraining Loss: 1.141539 \tValidation Loss: 0.960929\n",
      "running epoch: 37\n"
     ]
    },
    {
     "data": {
      "application/vnd.jupyter.widget-view+json": {
       "model_id": "5204726ba31d4d76b5080b3ad30c23e3",
       "version_major": 2,
       "version_minor": 0
      },
      "text/plain": [
       "HBox(children=(FloatProgress(value=0.0, max=817.0), HTML(value='')))"
      ]
     },
     "metadata": {},
     "output_type": "display_data"
    },
    {
     "name": "stdout",
     "output_type": "stream",
     "text": [
      "\n"
     ]
    },
    {
     "data": {
      "application/vnd.jupyter.widget-view+json": {
       "model_id": "1379c057360a42339982c5a32aef52aa",
       "version_major": 2,
       "version_minor": 0
      },
      "text/plain": [
       "HBox(children=(FloatProgress(value=0.0, max=50.0), HTML(value='')))"
      ]
     },
     "metadata": {},
     "output_type": "display_data"
    },
    {
     "name": "stdout",
     "output_type": "stream",
     "text": [
      "\n",
      "\tTraining Loss: 1.131807 \tValidation Loss: 1.041704\n",
      "running epoch: 38\n"
     ]
    },
    {
     "data": {
      "application/vnd.jupyter.widget-view+json": {
       "model_id": "d71755c7d11e4630b210fd26ebc487e8",
       "version_major": 2,
       "version_minor": 0
      },
      "text/plain": [
       "HBox(children=(FloatProgress(value=0.0, max=817.0), HTML(value='')))"
      ]
     },
     "metadata": {},
     "output_type": "display_data"
    },
    {
     "name": "stdout",
     "output_type": "stream",
     "text": [
      "\n"
     ]
    },
    {
     "data": {
      "application/vnd.jupyter.widget-view+json": {
       "model_id": "421c6d1d2f154a64994f834366b5efae",
       "version_major": 2,
       "version_minor": 0
      },
      "text/plain": [
       "HBox(children=(FloatProgress(value=0.0, max=50.0), HTML(value='')))"
      ]
     },
     "metadata": {},
     "output_type": "display_data"
    },
    {
     "name": "stdout",
     "output_type": "stream",
     "text": [
      "\n",
      "\tTraining Loss: 1.133312 \tValidation Loss: 0.940677\n",
      "running epoch: 39\n"
     ]
    },
    {
     "data": {
      "application/vnd.jupyter.widget-view+json": {
       "model_id": "1b93f4c9116940e6abc649dff565b729",
       "version_major": 2,
       "version_minor": 0
      },
      "text/plain": [
       "HBox(children=(FloatProgress(value=0.0, max=817.0), HTML(value='')))"
      ]
     },
     "metadata": {},
     "output_type": "display_data"
    },
    {
     "name": "stdout",
     "output_type": "stream",
     "text": [
      "\n"
     ]
    },
    {
     "data": {
      "application/vnd.jupyter.widget-view+json": {
       "model_id": "80c1dfc7910f4e1bb57f77ca113aaa3f",
       "version_major": 2,
       "version_minor": 0
      },
      "text/plain": [
       "HBox(children=(FloatProgress(value=0.0, max=50.0), HTML(value='')))"
      ]
     },
     "metadata": {},
     "output_type": "display_data"
    },
    {
     "name": "stdout",
     "output_type": "stream",
     "text": [
      "\n",
      "\tTraining Loss: 1.115711 \tValidation Loss: 0.952827\n",
      "running epoch: 40\n"
     ]
    },
    {
     "data": {
      "application/vnd.jupyter.widget-view+json": {
       "model_id": "10d5b84a3ce34f12bc1db825f30a96a6",
       "version_major": 2,
       "version_minor": 0
      },
      "text/plain": [
       "HBox(children=(FloatProgress(value=0.0, max=817.0), HTML(value='')))"
      ]
     },
     "metadata": {},
     "output_type": "display_data"
    },
    {
     "name": "stdout",
     "output_type": "stream",
     "text": [
      "\n"
     ]
    },
    {
     "data": {
      "application/vnd.jupyter.widget-view+json": {
       "model_id": "8a94444084e9482f9711837f4d942f17",
       "version_major": 2,
       "version_minor": 0
      },
      "text/plain": [
       "HBox(children=(FloatProgress(value=0.0, max=50.0), HTML(value='')))"
      ]
     },
     "metadata": {},
     "output_type": "display_data"
    },
    {
     "name": "stdout",
     "output_type": "stream",
     "text": [
      "\n",
      "\tTraining Loss: 1.119465 \tValidation Loss: 0.949982\n",
      "running epoch: 41\n"
     ]
    },
    {
     "data": {
      "application/vnd.jupyter.widget-view+json": {
       "model_id": "5bf3ae410a624de69c91f18ab53cd364",
       "version_major": 2,
       "version_minor": 0
      },
      "text/plain": [
       "HBox(children=(FloatProgress(value=0.0, max=817.0), HTML(value='')))"
      ]
     },
     "metadata": {},
     "output_type": "display_data"
    },
    {
     "name": "stdout",
     "output_type": "stream",
     "text": [
      "\n"
     ]
    },
    {
     "data": {
      "application/vnd.jupyter.widget-view+json": {
       "model_id": "f7a795b93e0d47da8fdc618aec541b18",
       "version_major": 2,
       "version_minor": 0
      },
      "text/plain": [
       "HBox(children=(FloatProgress(value=0.0, max=50.0), HTML(value='')))"
      ]
     },
     "metadata": {},
     "output_type": "display_data"
    },
    {
     "name": "stdout",
     "output_type": "stream",
     "text": [
      "\n",
      "\tTraining Loss: 1.091109 \tValidation Loss: 0.918449\n",
      "validation loss decreased (0.925801 --> 0.918449).  Saving model ...\n",
      "running epoch: 42\n"
     ]
    },
    {
     "data": {
      "application/vnd.jupyter.widget-view+json": {
       "model_id": "720184dcb4a743748f28143b127b4d4a",
       "version_major": 2,
       "version_minor": 0
      },
      "text/plain": [
       "HBox(children=(FloatProgress(value=0.0, max=817.0), HTML(value='')))"
      ]
     },
     "metadata": {},
     "output_type": "display_data"
    },
    {
     "name": "stdout",
     "output_type": "stream",
     "text": [
      "\n"
     ]
    },
    {
     "data": {
      "application/vnd.jupyter.widget-view+json": {
       "model_id": "aa08af3af39142a885a9774a4e665945",
       "version_major": 2,
       "version_minor": 0
      },
      "text/plain": [
       "HBox(children=(FloatProgress(value=0.0, max=50.0), HTML(value='')))"
      ]
     },
     "metadata": {},
     "output_type": "display_data"
    },
    {
     "name": "stdout",
     "output_type": "stream",
     "text": [
      "\n",
      "\tTraining Loss: 1.087580 \tValidation Loss: 0.946411\n",
      "running epoch: 43\n"
     ]
    },
    {
     "data": {
      "application/vnd.jupyter.widget-view+json": {
       "model_id": "c848484e096747af9ae688ceac142c20",
       "version_major": 2,
       "version_minor": 0
      },
      "text/plain": [
       "HBox(children=(FloatProgress(value=0.0, max=817.0), HTML(value='')))"
      ]
     },
     "metadata": {},
     "output_type": "display_data"
    },
    {
     "name": "stdout",
     "output_type": "stream",
     "text": [
      "\n"
     ]
    },
    {
     "data": {
      "application/vnd.jupyter.widget-view+json": {
       "model_id": "a06d24018a9743b8a9e43b3ae1aa5189",
       "version_major": 2,
       "version_minor": 0
      },
      "text/plain": [
       "HBox(children=(FloatProgress(value=0.0, max=50.0), HTML(value='')))"
      ]
     },
     "metadata": {},
     "output_type": "display_data"
    },
    {
     "name": "stdout",
     "output_type": "stream",
     "text": [
      "\n",
      "\tTraining Loss: 1.104032 \tValidation Loss: 0.964133\n",
      "running epoch: 44\n"
     ]
    },
    {
     "data": {
      "application/vnd.jupyter.widget-view+json": {
       "model_id": "6c1f3d6f982048869b4b3bf9b8048d10",
       "version_major": 2,
       "version_minor": 0
      },
      "text/plain": [
       "HBox(children=(FloatProgress(value=0.0, max=817.0), HTML(value='')))"
      ]
     },
     "metadata": {},
     "output_type": "display_data"
    },
    {
     "name": "stdout",
     "output_type": "stream",
     "text": [
      "\n"
     ]
    },
    {
     "data": {
      "application/vnd.jupyter.widget-view+json": {
       "model_id": "adc6d980b79645028f54e1e0fe531d6c",
       "version_major": 2,
       "version_minor": 0
      },
      "text/plain": [
       "HBox(children=(FloatProgress(value=0.0, max=50.0), HTML(value='')))"
      ]
     },
     "metadata": {},
     "output_type": "display_data"
    },
    {
     "name": "stdout",
     "output_type": "stream",
     "text": [
      "\n",
      "\tTraining Loss: 1.074305 \tValidation Loss: 0.948670\n",
      "running epoch: 45\n"
     ]
    },
    {
     "data": {
      "application/vnd.jupyter.widget-view+json": {
       "model_id": "df3ed5f881ec40f592d48ee2337b55c7",
       "version_major": 2,
       "version_minor": 0
      },
      "text/plain": [
       "HBox(children=(FloatProgress(value=0.0, max=817.0), HTML(value='')))"
      ]
     },
     "metadata": {},
     "output_type": "display_data"
    },
    {
     "name": "stdout",
     "output_type": "stream",
     "text": [
      "\n"
     ]
    },
    {
     "data": {
      "application/vnd.jupyter.widget-view+json": {
       "model_id": "17882ae923dc4f53af446096bb0f193b",
       "version_major": 2,
       "version_minor": 0
      },
      "text/plain": [
       "HBox(children=(FloatProgress(value=0.0, max=50.0), HTML(value='')))"
      ]
     },
     "metadata": {},
     "output_type": "display_data"
    },
    {
     "name": "stdout",
     "output_type": "stream",
     "text": [
      "\n",
      "\tTraining Loss: 1.078911 \tValidation Loss: 0.948809\n",
      "running epoch: 46\n"
     ]
    },
    {
     "data": {
      "application/vnd.jupyter.widget-view+json": {
       "model_id": "f2fc341a33a947b7a6ce28f8639f8e38",
       "version_major": 2,
       "version_minor": 0
      },
      "text/plain": [
       "HBox(children=(FloatProgress(value=0.0, max=817.0), HTML(value='')))"
      ]
     },
     "metadata": {},
     "output_type": "display_data"
    },
    {
     "name": "stdout",
     "output_type": "stream",
     "text": [
      "\n"
     ]
    },
    {
     "data": {
      "application/vnd.jupyter.widget-view+json": {
       "model_id": "361048a724bb4828ab83156f7d19785e",
       "version_major": 2,
       "version_minor": 0
      },
      "text/plain": [
       "HBox(children=(FloatProgress(value=0.0, max=50.0), HTML(value='')))"
      ]
     },
     "metadata": {},
     "output_type": "display_data"
    },
    {
     "name": "stdout",
     "output_type": "stream",
     "text": [
      "\n",
      "\tTraining Loss: 1.066041 \tValidation Loss: 0.926217\n",
      "running epoch: 47\n"
     ]
    },
    {
     "data": {
      "application/vnd.jupyter.widget-view+json": {
       "model_id": "662cc97fab36485c9f6efc83e803db0b",
       "version_major": 2,
       "version_minor": 0
      },
      "text/plain": [
       "HBox(children=(FloatProgress(value=0.0, max=817.0), HTML(value='')))"
      ]
     },
     "metadata": {},
     "output_type": "display_data"
    },
    {
     "name": "stdout",
     "output_type": "stream",
     "text": [
      "\n"
     ]
    },
    {
     "data": {
      "application/vnd.jupyter.widget-view+json": {
       "model_id": "2bd58610fcc54d8a981a6bdf02536e5d",
       "version_major": 2,
       "version_minor": 0
      },
      "text/plain": [
       "HBox(children=(FloatProgress(value=0.0, max=50.0), HTML(value='')))"
      ]
     },
     "metadata": {},
     "output_type": "display_data"
    },
    {
     "name": "stdout",
     "output_type": "stream",
     "text": [
      "\n",
      "\tTraining Loss: 1.068099 \tValidation Loss: 0.938125\n",
      "running epoch: 48\n"
     ]
    },
    {
     "data": {
      "application/vnd.jupyter.widget-view+json": {
       "model_id": "d27a2ba94fe34864bcac0f31e0112da4",
       "version_major": 2,
       "version_minor": 0
      },
      "text/plain": [
       "HBox(children=(FloatProgress(value=0.0, max=817.0), HTML(value='')))"
      ]
     },
     "metadata": {},
     "output_type": "display_data"
    },
    {
     "name": "stdout",
     "output_type": "stream",
     "text": [
      "\n"
     ]
    },
    {
     "data": {
      "application/vnd.jupyter.widget-view+json": {
       "model_id": "c091d1252b2c405281d5952d5debe5f4",
       "version_major": 2,
       "version_minor": 0
      },
      "text/plain": [
       "HBox(children=(FloatProgress(value=0.0, max=50.0), HTML(value='')))"
      ]
     },
     "metadata": {},
     "output_type": "display_data"
    },
    {
     "name": "stdout",
     "output_type": "stream",
     "text": [
      "\n",
      "\tTraining Loss: 1.073583 \tValidation Loss: 0.954201\n",
      "running epoch: 49\n"
     ]
    },
    {
     "data": {
      "application/vnd.jupyter.widget-view+json": {
       "model_id": "854e455fe0154432bc4d1cc615d82fbe",
       "version_major": 2,
       "version_minor": 0
      },
      "text/plain": [
       "HBox(children=(FloatProgress(value=0.0, max=817.0), HTML(value='')))"
      ]
     },
     "metadata": {},
     "output_type": "display_data"
    },
    {
     "name": "stdout",
     "output_type": "stream",
     "text": [
      "\n"
     ]
    },
    {
     "data": {
      "application/vnd.jupyter.widget-view+json": {
       "model_id": "8306cb0062a7452dbf9cabf968e136ef",
       "version_major": 2,
       "version_minor": 0
      },
      "text/plain": [
       "HBox(children=(FloatProgress(value=0.0, max=50.0), HTML(value='')))"
      ]
     },
     "metadata": {},
     "output_type": "display_data"
    },
    {
     "name": "stdout",
     "output_type": "stream",
     "text": [
      "\n",
      "\tTraining Loss: 1.056101 \tValidation Loss: 0.981588\n",
      "running epoch: 50\n"
     ]
    },
    {
     "data": {
      "application/vnd.jupyter.widget-view+json": {
       "model_id": "00c3d6a39b7f4447af1d7bd0cf1e0b8b",
       "version_major": 2,
       "version_minor": 0
      },
      "text/plain": [
       "HBox(children=(FloatProgress(value=0.0, max=817.0), HTML(value='')))"
      ]
     },
     "metadata": {},
     "output_type": "display_data"
    },
    {
     "name": "stdout",
     "output_type": "stream",
     "text": [
      "\n"
     ]
    },
    {
     "data": {
      "application/vnd.jupyter.widget-view+json": {
       "model_id": "27c69d8ea1c04549a333f6e81787ba76",
       "version_major": 2,
       "version_minor": 0
      },
      "text/plain": [
       "HBox(children=(FloatProgress(value=0.0, max=50.0), HTML(value='')))"
      ]
     },
     "metadata": {},
     "output_type": "display_data"
    },
    {
     "name": "stdout",
     "output_type": "stream",
     "text": [
      "\n",
      "\tTraining Loss: 1.047178 \tValidation Loss: 0.950762\n",
      "running epoch: 51\n"
     ]
    },
    {
     "data": {
      "application/vnd.jupyter.widget-view+json": {
       "model_id": "f55af98f79be4d898b4807970941f912",
       "version_major": 2,
       "version_minor": 0
      },
      "text/plain": [
       "HBox(children=(FloatProgress(value=0.0, max=817.0), HTML(value='')))"
      ]
     },
     "metadata": {},
     "output_type": "display_data"
    },
    {
     "name": "stdout",
     "output_type": "stream",
     "text": [
      "\n"
     ]
    },
    {
     "data": {
      "application/vnd.jupyter.widget-view+json": {
       "model_id": "e7a6ea07edb144a88b242e0f731bf5fb",
       "version_major": 2,
       "version_minor": 0
      },
      "text/plain": [
       "HBox(children=(FloatProgress(value=0.0, max=50.0), HTML(value='')))"
      ]
     },
     "metadata": {},
     "output_type": "display_data"
    },
    {
     "name": "stdout",
     "output_type": "stream",
     "text": [
      "\n",
      "\tTraining Loss: 1.058583 \tValidation Loss: 0.913161\n",
      "validation loss decreased (0.918449 --> 0.913161).  Saving model ...\n",
      "running epoch: 52\n"
     ]
    },
    {
     "data": {
      "application/vnd.jupyter.widget-view+json": {
       "model_id": "9e0e15afec37480f9cc098c4b241bec2",
       "version_major": 2,
       "version_minor": 0
      },
      "text/plain": [
       "HBox(children=(FloatProgress(value=0.0, max=817.0), HTML(value='')))"
      ]
     },
     "metadata": {},
     "output_type": "display_data"
    },
    {
     "name": "stdout",
     "output_type": "stream",
     "text": [
      "\n"
     ]
    },
    {
     "data": {
      "application/vnd.jupyter.widget-view+json": {
       "model_id": "7cb157c144de499e8635953ccd91a0ea",
       "version_major": 2,
       "version_minor": 0
      },
      "text/plain": [
       "HBox(children=(FloatProgress(value=0.0, max=50.0), HTML(value='')))"
      ]
     },
     "metadata": {},
     "output_type": "display_data"
    },
    {
     "name": "stdout",
     "output_type": "stream",
     "text": [
      "\n",
      "\tTraining Loss: 1.037246 \tValidation Loss: 0.910010\n",
      "validation loss decreased (0.913161 --> 0.910010).  Saving model ...\n",
      "running epoch: 53\n"
     ]
    },
    {
     "data": {
      "application/vnd.jupyter.widget-view+json": {
       "model_id": "82f14f8ee42e431d956669b47afbc653",
       "version_major": 2,
       "version_minor": 0
      },
      "text/plain": [
       "HBox(children=(FloatProgress(value=0.0, max=817.0), HTML(value='')))"
      ]
     },
     "metadata": {},
     "output_type": "display_data"
    },
    {
     "name": "stdout",
     "output_type": "stream",
     "text": [
      "\n"
     ]
    },
    {
     "data": {
      "application/vnd.jupyter.widget-view+json": {
       "model_id": "d80568686c3043eb8610814aab070470",
       "version_major": 2,
       "version_minor": 0
      },
      "text/plain": [
       "HBox(children=(FloatProgress(value=0.0, max=50.0), HTML(value='')))"
      ]
     },
     "metadata": {},
     "output_type": "display_data"
    },
    {
     "name": "stdout",
     "output_type": "stream",
     "text": [
      "\n",
      "\tTraining Loss: 1.039459 \tValidation Loss: 0.943504\n",
      "running epoch: 54\n"
     ]
    },
    {
     "data": {
      "application/vnd.jupyter.widget-view+json": {
       "model_id": "9b1fb5323a424d58a999c1de0b1c26de",
       "version_major": 2,
       "version_minor": 0
      },
      "text/plain": [
       "HBox(children=(FloatProgress(value=0.0, max=817.0), HTML(value='')))"
      ]
     },
     "metadata": {},
     "output_type": "display_data"
    },
    {
     "name": "stdout",
     "output_type": "stream",
     "text": [
      "\n"
     ]
    },
    {
     "data": {
      "application/vnd.jupyter.widget-view+json": {
       "model_id": "f5251252ec8f4b5c950b31756a1df0ac",
       "version_major": 2,
       "version_minor": 0
      },
      "text/plain": [
       "HBox(children=(FloatProgress(value=0.0, max=50.0), HTML(value='')))"
      ]
     },
     "metadata": {},
     "output_type": "display_data"
    },
    {
     "name": "stdout",
     "output_type": "stream",
     "text": [
      "\n",
      "\tTraining Loss: 1.028165 \tValidation Loss: 0.920266\n",
      "running epoch: 55\n"
     ]
    },
    {
     "data": {
      "application/vnd.jupyter.widget-view+json": {
       "model_id": "3083259a5dd74d979731813bd503ec68",
       "version_major": 2,
       "version_minor": 0
      },
      "text/plain": [
       "HBox(children=(FloatProgress(value=0.0, max=817.0), HTML(value='')))"
      ]
     },
     "metadata": {},
     "output_type": "display_data"
    },
    {
     "name": "stdout",
     "output_type": "stream",
     "text": [
      "\n"
     ]
    },
    {
     "data": {
      "application/vnd.jupyter.widget-view+json": {
       "model_id": "40389e2a06f84a238a5a08447d1e6683",
       "version_major": 2,
       "version_minor": 0
      },
      "text/plain": [
       "HBox(children=(FloatProgress(value=0.0, max=50.0), HTML(value='')))"
      ]
     },
     "metadata": {},
     "output_type": "display_data"
    },
    {
     "name": "stdout",
     "output_type": "stream",
     "text": [
      "\n",
      "\tTraining Loss: 1.025750 \tValidation Loss: 0.971430\n",
      "running epoch: 56\n"
     ]
    },
    {
     "data": {
      "application/vnd.jupyter.widget-view+json": {
       "model_id": "0ddd28859bf24659a9d65b93056fe6f4",
       "version_major": 2,
       "version_minor": 0
      },
      "text/plain": [
       "HBox(children=(FloatProgress(value=0.0, max=817.0), HTML(value='')))"
      ]
     },
     "metadata": {},
     "output_type": "display_data"
    },
    {
     "name": "stdout",
     "output_type": "stream",
     "text": [
      "\n"
     ]
    },
    {
     "data": {
      "application/vnd.jupyter.widget-view+json": {
       "model_id": "12fbb7b9a0464298a94bccc149f4e243",
       "version_major": 2,
       "version_minor": 0
      },
      "text/plain": [
       "HBox(children=(FloatProgress(value=0.0, max=50.0), HTML(value='')))"
      ]
     },
     "metadata": {},
     "output_type": "display_data"
    },
    {
     "name": "stdout",
     "output_type": "stream",
     "text": [
      "\n",
      "\tTraining Loss: 1.007043 \tValidation Loss: 0.931622\n",
      "running epoch: 57\n"
     ]
    },
    {
     "data": {
      "application/vnd.jupyter.widget-view+json": {
       "model_id": "c76d0c8796bb4753a7afec0682ba1a8b",
       "version_major": 2,
       "version_minor": 0
      },
      "text/plain": [
       "HBox(children=(FloatProgress(value=0.0, max=817.0), HTML(value='')))"
      ]
     },
     "metadata": {},
     "output_type": "display_data"
    },
    {
     "name": "stdout",
     "output_type": "stream",
     "text": [
      "\n"
     ]
    },
    {
     "data": {
      "application/vnd.jupyter.widget-view+json": {
       "model_id": "645b41af594a45c796060b183b36c8f0",
       "version_major": 2,
       "version_minor": 0
      },
      "text/plain": [
       "HBox(children=(FloatProgress(value=0.0, max=50.0), HTML(value='')))"
      ]
     },
     "metadata": {},
     "output_type": "display_data"
    },
    {
     "name": "stdout",
     "output_type": "stream",
     "text": [
      "\n",
      "\tTraining Loss: 1.025886 \tValidation Loss: 0.927302\n",
      "running epoch: 58\n"
     ]
    },
    {
     "data": {
      "application/vnd.jupyter.widget-view+json": {
       "model_id": "f26912efbc444c0ea5ac1d7e641b2ce4",
       "version_major": 2,
       "version_minor": 0
      },
      "text/plain": [
       "HBox(children=(FloatProgress(value=0.0, max=817.0), HTML(value='')))"
      ]
     },
     "metadata": {},
     "output_type": "display_data"
    },
    {
     "name": "stdout",
     "output_type": "stream",
     "text": [
      "\n"
     ]
    },
    {
     "data": {
      "application/vnd.jupyter.widget-view+json": {
       "model_id": "8012f94d37b14dadabaacde98d498c27",
       "version_major": 2,
       "version_minor": 0
      },
      "text/plain": [
       "HBox(children=(FloatProgress(value=0.0, max=50.0), HTML(value='')))"
      ]
     },
     "metadata": {},
     "output_type": "display_data"
    },
    {
     "name": "stdout",
     "output_type": "stream",
     "text": [
      "\n",
      "\tTraining Loss: 1.021005 \tValidation Loss: 0.983000\n",
      "running epoch: 59\n"
     ]
    },
    {
     "data": {
      "application/vnd.jupyter.widget-view+json": {
       "model_id": "a8e7b1e8f4494c25a2ee2c302a66f65e",
       "version_major": 2,
       "version_minor": 0
      },
      "text/plain": [
       "HBox(children=(FloatProgress(value=0.0, max=817.0), HTML(value='')))"
      ]
     },
     "metadata": {},
     "output_type": "display_data"
    },
    {
     "name": "stdout",
     "output_type": "stream",
     "text": [
      "\n"
     ]
    },
    {
     "data": {
      "application/vnd.jupyter.widget-view+json": {
       "model_id": "d3e92bb07d0f417189e5bb3ad2c995a3",
       "version_major": 2,
       "version_minor": 0
      },
      "text/plain": [
       "HBox(children=(FloatProgress(value=0.0, max=50.0), HTML(value='')))"
      ]
     },
     "metadata": {},
     "output_type": "display_data"
    },
    {
     "name": "stdout",
     "output_type": "stream",
     "text": [
      "\n",
      "\tTraining Loss: 1.016974 \tValidation Loss: 0.952960\n",
      "running epoch: 60\n"
     ]
    },
    {
     "data": {
      "application/vnd.jupyter.widget-view+json": {
       "model_id": "1f10457f568840c997311db9f97fe0ef",
       "version_major": 2,
       "version_minor": 0
      },
      "text/plain": [
       "HBox(children=(FloatProgress(value=0.0, max=817.0), HTML(value='')))"
      ]
     },
     "metadata": {},
     "output_type": "display_data"
    },
    {
     "name": "stdout",
     "output_type": "stream",
     "text": [
      "\n"
     ]
    },
    {
     "data": {
      "application/vnd.jupyter.widget-view+json": {
       "model_id": "ecd3992dc13342dbb2f9cd662d81819c",
       "version_major": 2,
       "version_minor": 0
      },
      "text/plain": [
       "HBox(children=(FloatProgress(value=0.0, max=50.0), HTML(value='')))"
      ]
     },
     "metadata": {},
     "output_type": "display_data"
    },
    {
     "name": "stdout",
     "output_type": "stream",
     "text": [
      "\n",
      "\tTraining Loss: 1.009952 \tValidation Loss: 0.925668\n",
      "running epoch: 61\n"
     ]
    },
    {
     "data": {
      "application/vnd.jupyter.widget-view+json": {
       "model_id": "3384712791d14b27ac30e65725925567",
       "version_major": 2,
       "version_minor": 0
      },
      "text/plain": [
       "HBox(children=(FloatProgress(value=0.0, max=817.0), HTML(value='')))"
      ]
     },
     "metadata": {},
     "output_type": "display_data"
    },
    {
     "name": "stdout",
     "output_type": "stream",
     "text": [
      "\n"
     ]
    },
    {
     "data": {
      "application/vnd.jupyter.widget-view+json": {
       "model_id": "07bd1532102f496ca94f61ec6a14c377",
       "version_major": 2,
       "version_minor": 0
      },
      "text/plain": [
       "HBox(children=(FloatProgress(value=0.0, max=50.0), HTML(value='')))"
      ]
     },
     "metadata": {},
     "output_type": "display_data"
    },
    {
     "name": "stdout",
     "output_type": "stream",
     "text": [
      "\n",
      "\tTraining Loss: 1.003935 \tValidation Loss: 0.944624\n",
      "running epoch: 62\n"
     ]
    },
    {
     "data": {
      "application/vnd.jupyter.widget-view+json": {
       "model_id": "003167cb46c142e394199c23b9547ad4",
       "version_major": 2,
       "version_minor": 0
      },
      "text/plain": [
       "HBox(children=(FloatProgress(value=0.0, max=817.0), HTML(value='')))"
      ]
     },
     "metadata": {},
     "output_type": "display_data"
    },
    {
     "name": "stdout",
     "output_type": "stream",
     "text": [
      "\n"
     ]
    },
    {
     "data": {
      "application/vnd.jupyter.widget-view+json": {
       "model_id": "38ac472aa7fa4b75bf65c209310cb977",
       "version_major": 2,
       "version_minor": 0
      },
      "text/plain": [
       "HBox(children=(FloatProgress(value=0.0, max=50.0), HTML(value='')))"
      ]
     },
     "metadata": {},
     "output_type": "display_data"
    },
    {
     "name": "stdout",
     "output_type": "stream",
     "text": [
      "\n",
      "\tTraining Loss: 1.007526 \tValidation Loss: 0.946147\n",
      "running epoch: 63\n"
     ]
    },
    {
     "data": {
      "application/vnd.jupyter.widget-view+json": {
       "model_id": "842df50ef00b48d0891b2c0416038a1a",
       "version_major": 2,
       "version_minor": 0
      },
      "text/plain": [
       "HBox(children=(FloatProgress(value=0.0, max=817.0), HTML(value='')))"
      ]
     },
     "metadata": {},
     "output_type": "display_data"
    },
    {
     "name": "stdout",
     "output_type": "stream",
     "text": [
      "\n"
     ]
    },
    {
     "data": {
      "application/vnd.jupyter.widget-view+json": {
       "model_id": "3f83d0bf765a44489d83479f88a65e35",
       "version_major": 2,
       "version_minor": 0
      },
      "text/plain": [
       "HBox(children=(FloatProgress(value=0.0, max=50.0), HTML(value='')))"
      ]
     },
     "metadata": {},
     "output_type": "display_data"
    },
    {
     "name": "stdout",
     "output_type": "stream",
     "text": [
      "\n",
      "\tTraining Loss: 0.978084 \tValidation Loss: 0.949362\n",
      "running epoch: 64\n"
     ]
    },
    {
     "data": {
      "application/vnd.jupyter.widget-view+json": {
       "model_id": "333e5f787c814520af27e21bfcea1032",
       "version_major": 2,
       "version_minor": 0
      },
      "text/plain": [
       "HBox(children=(FloatProgress(value=0.0, max=817.0), HTML(value='')))"
      ]
     },
     "metadata": {},
     "output_type": "display_data"
    },
    {
     "name": "stdout",
     "output_type": "stream",
     "text": [
      "\n"
     ]
    },
    {
     "data": {
      "application/vnd.jupyter.widget-view+json": {
       "model_id": "f06399f97b0c43a193b19b7f77289f83",
       "version_major": 2,
       "version_minor": 0
      },
      "text/plain": [
       "HBox(children=(FloatProgress(value=0.0, max=50.0), HTML(value='')))"
      ]
     },
     "metadata": {},
     "output_type": "display_data"
    },
    {
     "name": "stdout",
     "output_type": "stream",
     "text": [
      "\n",
      "\tTraining Loss: 0.992710 \tValidation Loss: 0.926423\n",
      "running epoch: 65\n"
     ]
    },
    {
     "data": {
      "application/vnd.jupyter.widget-view+json": {
       "model_id": "c8f9c4da16a94abe9f7930dde0d0ea88",
       "version_major": 2,
       "version_minor": 0
      },
      "text/plain": [
       "HBox(children=(FloatProgress(value=0.0, max=817.0), HTML(value='')))"
      ]
     },
     "metadata": {},
     "output_type": "display_data"
    },
    {
     "name": "stdout",
     "output_type": "stream",
     "text": [
      "\n"
     ]
    },
    {
     "data": {
      "application/vnd.jupyter.widget-view+json": {
       "model_id": "0d805936016745abae17b8dd2343a4d4",
       "version_major": 2,
       "version_minor": 0
      },
      "text/plain": [
       "HBox(children=(FloatProgress(value=0.0, max=50.0), HTML(value='')))"
      ]
     },
     "metadata": {},
     "output_type": "display_data"
    },
    {
     "name": "stdout",
     "output_type": "stream",
     "text": [
      "\n",
      "\tTraining Loss: 0.987204 \tValidation Loss: 1.022231\n",
      "running epoch: 66\n"
     ]
    },
    {
     "data": {
      "application/vnd.jupyter.widget-view+json": {
       "model_id": "59c7e1e6ddca4c1b8cb3141d1e0bf1bf",
       "version_major": 2,
       "version_minor": 0
      },
      "text/plain": [
       "HBox(children=(FloatProgress(value=0.0, max=817.0), HTML(value='')))"
      ]
     },
     "metadata": {},
     "output_type": "display_data"
    },
    {
     "name": "stdout",
     "output_type": "stream",
     "text": [
      "\n"
     ]
    },
    {
     "data": {
      "application/vnd.jupyter.widget-view+json": {
       "model_id": "7010ee67e73e42dc9ba72e70d4c40966",
       "version_major": 2,
       "version_minor": 0
      },
      "text/plain": [
       "HBox(children=(FloatProgress(value=0.0, max=50.0), HTML(value='')))"
      ]
     },
     "metadata": {},
     "output_type": "display_data"
    },
    {
     "name": "stdout",
     "output_type": "stream",
     "text": [
      "\n",
      "\tTraining Loss: 0.983187 \tValidation Loss: 0.948427\n",
      "running epoch: 67\n"
     ]
    },
    {
     "data": {
      "application/vnd.jupyter.widget-view+json": {
       "model_id": "581bd572e07d4fcfbb0ec5705b990077",
       "version_major": 2,
       "version_minor": 0
      },
      "text/plain": [
       "HBox(children=(FloatProgress(value=0.0, max=817.0), HTML(value='')))"
      ]
     },
     "metadata": {},
     "output_type": "display_data"
    },
    {
     "name": "stdout",
     "output_type": "stream",
     "text": [
      "\n"
     ]
    },
    {
     "data": {
      "application/vnd.jupyter.widget-view+json": {
       "model_id": "0ea6923a5d9546909a522fb6d4833719",
       "version_major": 2,
       "version_minor": 0
      },
      "text/plain": [
       "HBox(children=(FloatProgress(value=0.0, max=50.0), HTML(value='')))"
      ]
     },
     "metadata": {},
     "output_type": "display_data"
    },
    {
     "name": "stdout",
     "output_type": "stream",
     "text": [
      "\n",
      "\tTraining Loss: 0.969168 \tValidation Loss: 0.936821\n",
      "running epoch: 68\n"
     ]
    },
    {
     "data": {
      "application/vnd.jupyter.widget-view+json": {
       "model_id": "b87fc6dbf9224c1a876fe68d5985e227",
       "version_major": 2,
       "version_minor": 0
      },
      "text/plain": [
       "HBox(children=(FloatProgress(value=0.0, max=817.0), HTML(value='')))"
      ]
     },
     "metadata": {},
     "output_type": "display_data"
    },
    {
     "name": "stdout",
     "output_type": "stream",
     "text": [
      "\n"
     ]
    },
    {
     "data": {
      "application/vnd.jupyter.widget-view+json": {
       "model_id": "dca7a19957894e999d9be055bf55153d",
       "version_major": 2,
       "version_minor": 0
      },
      "text/plain": [
       "HBox(children=(FloatProgress(value=0.0, max=50.0), HTML(value='')))"
      ]
     },
     "metadata": {},
     "output_type": "display_data"
    },
    {
     "name": "stdout",
     "output_type": "stream",
     "text": [
      "\n",
      "\tTraining Loss: 0.983604 \tValidation Loss: 0.937683\n",
      "running epoch: 69\n"
     ]
    },
    {
     "data": {
      "application/vnd.jupyter.widget-view+json": {
       "model_id": "5e8a79f825354c7a90a307b6628c7e75",
       "version_major": 2,
       "version_minor": 0
      },
      "text/plain": [
       "HBox(children=(FloatProgress(value=0.0, max=817.0), HTML(value='')))"
      ]
     },
     "metadata": {},
     "output_type": "display_data"
    },
    {
     "name": "stdout",
     "output_type": "stream",
     "text": [
      "\n"
     ]
    },
    {
     "data": {
      "application/vnd.jupyter.widget-view+json": {
       "model_id": "93ce7a93ba084b0ba8acd02e02210f4c",
       "version_major": 2,
       "version_minor": 0
      },
      "text/plain": [
       "HBox(children=(FloatProgress(value=0.0, max=50.0), HTML(value='')))"
      ]
     },
     "metadata": {},
     "output_type": "display_data"
    },
    {
     "name": "stdout",
     "output_type": "stream",
     "text": [
      "\n",
      "\tTraining Loss: 0.981009 \tValidation Loss: 0.960076\n",
      "running epoch: 70\n"
     ]
    },
    {
     "data": {
      "application/vnd.jupyter.widget-view+json": {
       "model_id": "8d6816e95a4c447ebc99b55216e4f06a",
       "version_major": 2,
       "version_minor": 0
      },
      "text/plain": [
       "HBox(children=(FloatProgress(value=0.0, max=817.0), HTML(value='')))"
      ]
     },
     "metadata": {},
     "output_type": "display_data"
    },
    {
     "name": "stdout",
     "output_type": "stream",
     "text": [
      "\n"
     ]
    },
    {
     "data": {
      "application/vnd.jupyter.widget-view+json": {
       "model_id": "5329c8bd3c894969baa95285091a1f82",
       "version_major": 2,
       "version_minor": 0
      },
      "text/plain": [
       "HBox(children=(FloatProgress(value=0.0, max=50.0), HTML(value='')))"
      ]
     },
     "metadata": {},
     "output_type": "display_data"
    },
    {
     "name": "stdout",
     "output_type": "stream",
     "text": [
      "\n",
      "\tTraining Loss: 0.968425 \tValidation Loss: 0.925741\n",
      "running epoch: 71\n"
     ]
    },
    {
     "data": {
      "application/vnd.jupyter.widget-view+json": {
       "model_id": "ad5c4847d4194b34be7f468f3f6fb3a3",
       "version_major": 2,
       "version_minor": 0
      },
      "text/plain": [
       "HBox(children=(FloatProgress(value=0.0, max=817.0), HTML(value='')))"
      ]
     },
     "metadata": {},
     "output_type": "display_data"
    },
    {
     "name": "stdout",
     "output_type": "stream",
     "text": [
      "\n"
     ]
    },
    {
     "data": {
      "application/vnd.jupyter.widget-view+json": {
       "model_id": "94db586aa888417688d85795fbe3a1a3",
       "version_major": 2,
       "version_minor": 0
      },
      "text/plain": [
       "HBox(children=(FloatProgress(value=0.0, max=50.0), HTML(value='')))"
      ]
     },
     "metadata": {},
     "output_type": "display_data"
    },
    {
     "name": "stdout",
     "output_type": "stream",
     "text": [
      "\n",
      "\tTraining Loss: 0.971960 \tValidation Loss: 0.986827\n",
      "running epoch: 72\n"
     ]
    },
    {
     "data": {
      "application/vnd.jupyter.widget-view+json": {
       "model_id": "fe922ea9c4e14312a6514cfca35317a9",
       "version_major": 2,
       "version_minor": 0
      },
      "text/plain": [
       "HBox(children=(FloatProgress(value=0.0, max=817.0), HTML(value='')))"
      ]
     },
     "metadata": {},
     "output_type": "display_data"
    },
    {
     "name": "stdout",
     "output_type": "stream",
     "text": [
      "\n"
     ]
    },
    {
     "data": {
      "application/vnd.jupyter.widget-view+json": {
       "model_id": "b07ce21c2a21464aa26ad13d23d00a18",
       "version_major": 2,
       "version_minor": 0
      },
      "text/plain": [
       "HBox(children=(FloatProgress(value=0.0, max=50.0), HTML(value='')))"
      ]
     },
     "metadata": {},
     "output_type": "display_data"
    },
    {
     "name": "stdout",
     "output_type": "stream",
     "text": [
      "\n",
      "\tTraining Loss: 0.957004 \tValidation Loss: 0.960374\n",
      "running epoch: 73\n"
     ]
    },
    {
     "data": {
      "application/vnd.jupyter.widget-view+json": {
       "model_id": "cd2fc6da1d9a4eaabb51196ff388fbde",
       "version_major": 2,
       "version_minor": 0
      },
      "text/plain": [
       "HBox(children=(FloatProgress(value=0.0, max=817.0), HTML(value='')))"
      ]
     },
     "metadata": {},
     "output_type": "display_data"
    },
    {
     "name": "stdout",
     "output_type": "stream",
     "text": [
      "\n"
     ]
    },
    {
     "data": {
      "application/vnd.jupyter.widget-view+json": {
       "model_id": "319e8e3ecbe84103a65b40578d261300",
       "version_major": 2,
       "version_minor": 0
      },
      "text/plain": [
       "HBox(children=(FloatProgress(value=0.0, max=50.0), HTML(value='')))"
      ]
     },
     "metadata": {},
     "output_type": "display_data"
    },
    {
     "name": "stdout",
     "output_type": "stream",
     "text": [
      "\n",
      "\tTraining Loss: 0.959974 \tValidation Loss: 0.930454\n",
      "running epoch: 74\n"
     ]
    },
    {
     "data": {
      "application/vnd.jupyter.widget-view+json": {
       "model_id": "d0672dca0b8943109ccc3f1d06be957d",
       "version_major": 2,
       "version_minor": 0
      },
      "text/plain": [
       "HBox(children=(FloatProgress(value=0.0, max=817.0), HTML(value='')))"
      ]
     },
     "metadata": {},
     "output_type": "display_data"
    },
    {
     "name": "stdout",
     "output_type": "stream",
     "text": [
      "\n"
     ]
    },
    {
     "data": {
      "application/vnd.jupyter.widget-view+json": {
       "model_id": "8a833f0e28b84c5a9b3f9b3f2a222735",
       "version_major": 2,
       "version_minor": 0
      },
      "text/plain": [
       "HBox(children=(FloatProgress(value=0.0, max=50.0), HTML(value='')))"
      ]
     },
     "metadata": {},
     "output_type": "display_data"
    },
    {
     "name": "stdout",
     "output_type": "stream",
     "text": [
      "\n",
      "\tTraining Loss: 0.959989 \tValidation Loss: 0.979567\n",
      "running epoch: 75\n"
     ]
    },
    {
     "data": {
      "application/vnd.jupyter.widget-view+json": {
       "model_id": "55628dfebf5d4edf8f509f2b5c569267",
       "version_major": 2,
       "version_minor": 0
      },
      "text/plain": [
       "HBox(children=(FloatProgress(value=0.0, max=817.0), HTML(value='')))"
      ]
     },
     "metadata": {},
     "output_type": "display_data"
    },
    {
     "name": "stdout",
     "output_type": "stream",
     "text": [
      "\n"
     ]
    },
    {
     "data": {
      "application/vnd.jupyter.widget-view+json": {
       "model_id": "28daf0abb76648a890d4bf05e1355a27",
       "version_major": 2,
       "version_minor": 0
      },
      "text/plain": [
       "HBox(children=(FloatProgress(value=0.0, max=50.0), HTML(value='')))"
      ]
     },
     "metadata": {},
     "output_type": "display_data"
    },
    {
     "name": "stdout",
     "output_type": "stream",
     "text": [
      "\n",
      "\tTraining Loss: 0.950186 \tValidation Loss: 0.924241\n",
      "running epoch: 76\n"
     ]
    },
    {
     "data": {
      "application/vnd.jupyter.widget-view+json": {
       "model_id": "325cc84cb4f04626a57a5b0792d75162",
       "version_major": 2,
       "version_minor": 0
      },
      "text/plain": [
       "HBox(children=(FloatProgress(value=0.0, max=817.0), HTML(value='')))"
      ]
     },
     "metadata": {},
     "output_type": "display_data"
    },
    {
     "name": "stdout",
     "output_type": "stream",
     "text": [
      "\n"
     ]
    },
    {
     "data": {
      "application/vnd.jupyter.widget-view+json": {
       "model_id": "17c5b56b6943445f91a6435c1cf239ee",
       "version_major": 2,
       "version_minor": 0
      },
      "text/plain": [
       "HBox(children=(FloatProgress(value=0.0, max=50.0), HTML(value='')))"
      ]
     },
     "metadata": {},
     "output_type": "display_data"
    },
    {
     "name": "stdout",
     "output_type": "stream",
     "text": [
      "\n",
      "\tTraining Loss: 0.937148 \tValidation Loss: 0.969888\n",
      "running epoch: 77\n"
     ]
    },
    {
     "data": {
      "application/vnd.jupyter.widget-view+json": {
       "model_id": "f0568c46a9924c529c9ad4a8e60d3ed3",
       "version_major": 2,
       "version_minor": 0
      },
      "text/plain": [
       "HBox(children=(FloatProgress(value=0.0, max=817.0), HTML(value='')))"
      ]
     },
     "metadata": {},
     "output_type": "display_data"
    },
    {
     "name": "stdout",
     "output_type": "stream",
     "text": [
      "\n"
     ]
    },
    {
     "data": {
      "application/vnd.jupyter.widget-view+json": {
       "model_id": "b794da2b0d1f49c4b9e5f79429d2040f",
       "version_major": 2,
       "version_minor": 0
      },
      "text/plain": [
       "HBox(children=(FloatProgress(value=0.0, max=50.0), HTML(value='')))"
      ]
     },
     "metadata": {},
     "output_type": "display_data"
    },
    {
     "name": "stdout",
     "output_type": "stream",
     "text": [
      "\n",
      "\tTraining Loss: 0.929484 \tValidation Loss: 0.905010\n",
      "validation loss decreased (0.910010 --> 0.905010).  Saving model ...\n",
      "running epoch: 78\n"
     ]
    },
    {
     "data": {
      "application/vnd.jupyter.widget-view+json": {
       "model_id": "4b3aa0c9eb344c5bbc81779de689149d",
       "version_major": 2,
       "version_minor": 0
      },
      "text/plain": [
       "HBox(children=(FloatProgress(value=0.0, max=817.0), HTML(value='')))"
      ]
     },
     "metadata": {},
     "output_type": "display_data"
    },
    {
     "name": "stdout",
     "output_type": "stream",
     "text": [
      "\n"
     ]
    },
    {
     "data": {
      "application/vnd.jupyter.widget-view+json": {
       "model_id": "c8c2b7ae64904e79b28d01b580dfa9e0",
       "version_major": 2,
       "version_minor": 0
      },
      "text/plain": [
       "HBox(children=(FloatProgress(value=0.0, max=50.0), HTML(value='')))"
      ]
     },
     "metadata": {},
     "output_type": "display_data"
    },
    {
     "name": "stdout",
     "output_type": "stream",
     "text": [
      "\n",
      "\tTraining Loss: 0.925573 \tValidation Loss: 0.968072\n",
      "running epoch: 79\n"
     ]
    },
    {
     "data": {
      "application/vnd.jupyter.widget-view+json": {
       "model_id": "724a7807f9884758ad0ef7386e77655b",
       "version_major": 2,
       "version_minor": 0
      },
      "text/plain": [
       "HBox(children=(FloatProgress(value=0.0, max=817.0), HTML(value='')))"
      ]
     },
     "metadata": {},
     "output_type": "display_data"
    },
    {
     "name": "stdout",
     "output_type": "stream",
     "text": [
      "\n"
     ]
    },
    {
     "data": {
      "application/vnd.jupyter.widget-view+json": {
       "model_id": "f9de0a1951b242f5b1cde3c150f47acb",
       "version_major": 2,
       "version_minor": 0
      },
      "text/plain": [
       "HBox(children=(FloatProgress(value=0.0, max=50.0), HTML(value='')))"
      ]
     },
     "metadata": {},
     "output_type": "display_data"
    },
    {
     "name": "stdout",
     "output_type": "stream",
     "text": [
      "\n",
      "\tTraining Loss: 0.942364 \tValidation Loss: 0.995535\n",
      "running epoch: 80\n"
     ]
    },
    {
     "data": {
      "application/vnd.jupyter.widget-view+json": {
       "model_id": "de638fa776ac49e58c9250756bfc14d6",
       "version_major": 2,
       "version_minor": 0
      },
      "text/plain": [
       "HBox(children=(FloatProgress(value=0.0, max=817.0), HTML(value='')))"
      ]
     },
     "metadata": {},
     "output_type": "display_data"
    },
    {
     "name": "stdout",
     "output_type": "stream",
     "text": [
      "\n"
     ]
    },
    {
     "data": {
      "application/vnd.jupyter.widget-view+json": {
       "model_id": "30c52d783eb741f5adc3c0f6c3050a42",
       "version_major": 2,
       "version_minor": 0
      },
      "text/plain": [
       "HBox(children=(FloatProgress(value=0.0, max=50.0), HTML(value='')))"
      ]
     },
     "metadata": {},
     "output_type": "display_data"
    },
    {
     "name": "stdout",
     "output_type": "stream",
     "text": [
      "\n",
      "\tTraining Loss: 0.929657 \tValidation Loss: 0.947818\n",
      "running epoch: 81\n"
     ]
    },
    {
     "data": {
      "application/vnd.jupyter.widget-view+json": {
       "model_id": "95c2c22133b44830b559a4610819567c",
       "version_major": 2,
       "version_minor": 0
      },
      "text/plain": [
       "HBox(children=(FloatProgress(value=0.0, max=817.0), HTML(value='')))"
      ]
     },
     "metadata": {},
     "output_type": "display_data"
    },
    {
     "name": "stdout",
     "output_type": "stream",
     "text": [
      "\n"
     ]
    },
    {
     "data": {
      "application/vnd.jupyter.widget-view+json": {
       "model_id": "5414f8c696974ebb8d2f0cb5c5af9448",
       "version_major": 2,
       "version_minor": 0
      },
      "text/plain": [
       "HBox(children=(FloatProgress(value=0.0, max=50.0), HTML(value='')))"
      ]
     },
     "metadata": {},
     "output_type": "display_data"
    },
    {
     "name": "stdout",
     "output_type": "stream",
     "text": [
      "\n",
      "\tTraining Loss: 0.935816 \tValidation Loss: 0.929792\n",
      "running epoch: 82\n"
     ]
    },
    {
     "data": {
      "application/vnd.jupyter.widget-view+json": {
       "model_id": "482876adb853497eb65bbf5f0e97fe60",
       "version_major": 2,
       "version_minor": 0
      },
      "text/plain": [
       "HBox(children=(FloatProgress(value=0.0, max=817.0), HTML(value='')))"
      ]
     },
     "metadata": {},
     "output_type": "display_data"
    },
    {
     "name": "stdout",
     "output_type": "stream",
     "text": [
      "\n"
     ]
    },
    {
     "data": {
      "application/vnd.jupyter.widget-view+json": {
       "model_id": "60edc29af4bb4986a2fe85fcf0b0b47a",
       "version_major": 2,
       "version_minor": 0
      },
      "text/plain": [
       "HBox(children=(FloatProgress(value=0.0, max=50.0), HTML(value='')))"
      ]
     },
     "metadata": {},
     "output_type": "display_data"
    },
    {
     "name": "stdout",
     "output_type": "stream",
     "text": [
      "\n",
      "\tTraining Loss: 0.924316 \tValidation Loss: 0.958320\n",
      "running epoch: 83\n"
     ]
    },
    {
     "data": {
      "application/vnd.jupyter.widget-view+json": {
       "model_id": "345a74435f1b411fa6736e44591852c4",
       "version_major": 2,
       "version_minor": 0
      },
      "text/plain": [
       "HBox(children=(FloatProgress(value=0.0, max=817.0), HTML(value='')))"
      ]
     },
     "metadata": {},
     "output_type": "display_data"
    },
    {
     "name": "stdout",
     "output_type": "stream",
     "text": [
      "\n"
     ]
    },
    {
     "data": {
      "application/vnd.jupyter.widget-view+json": {
       "model_id": "95e21754d56b4ff99384ad9d803df1bb",
       "version_major": 2,
       "version_minor": 0
      },
      "text/plain": [
       "HBox(children=(FloatProgress(value=0.0, max=50.0), HTML(value='')))"
      ]
     },
     "metadata": {},
     "output_type": "display_data"
    },
    {
     "name": "stdout",
     "output_type": "stream",
     "text": [
      "\n",
      "\tTraining Loss: 0.919131 \tValidation Loss: 0.954994\n",
      "running epoch: 84\n"
     ]
    },
    {
     "data": {
      "application/vnd.jupyter.widget-view+json": {
       "model_id": "294800ecbcd64a188a156ef2e58caeba",
       "version_major": 2,
       "version_minor": 0
      },
      "text/plain": [
       "HBox(children=(FloatProgress(value=0.0, max=817.0), HTML(value='')))"
      ]
     },
     "metadata": {},
     "output_type": "display_data"
    },
    {
     "name": "stdout",
     "output_type": "stream",
     "text": [
      "\n"
     ]
    },
    {
     "data": {
      "application/vnd.jupyter.widget-view+json": {
       "model_id": "1673f2548a8443b5b047e2bc84933731",
       "version_major": 2,
       "version_minor": 0
      },
      "text/plain": [
       "HBox(children=(FloatProgress(value=0.0, max=50.0), HTML(value='')))"
      ]
     },
     "metadata": {},
     "output_type": "display_data"
    },
    {
     "name": "stdout",
     "output_type": "stream",
     "text": [
      "\n",
      "\tTraining Loss: 0.930161 \tValidation Loss: 0.963352\n",
      "running epoch: 85\n"
     ]
    },
    {
     "data": {
      "application/vnd.jupyter.widget-view+json": {
       "model_id": "b41c068ed2fc496eb441503e3a9f5229",
       "version_major": 2,
       "version_minor": 0
      },
      "text/plain": [
       "HBox(children=(FloatProgress(value=0.0, max=817.0), HTML(value='')))"
      ]
     },
     "metadata": {},
     "output_type": "display_data"
    },
    {
     "name": "stdout",
     "output_type": "stream",
     "text": [
      "\n"
     ]
    },
    {
     "data": {
      "application/vnd.jupyter.widget-view+json": {
       "model_id": "fca85ae5cebd4c9aaba50e0b15ecfc06",
       "version_major": 2,
       "version_minor": 0
      },
      "text/plain": [
       "HBox(children=(FloatProgress(value=0.0, max=50.0), HTML(value='')))"
      ]
     },
     "metadata": {},
     "output_type": "display_data"
    },
    {
     "name": "stdout",
     "output_type": "stream",
     "text": [
      "\n",
      "\tTraining Loss: 0.911109 \tValidation Loss: 0.929390\n",
      "running epoch: 86\n"
     ]
    },
    {
     "data": {
      "application/vnd.jupyter.widget-view+json": {
       "model_id": "77d856d350384b719bcf4e781635d6fb",
       "version_major": 2,
       "version_minor": 0
      },
      "text/plain": [
       "HBox(children=(FloatProgress(value=0.0, max=817.0), HTML(value='')))"
      ]
     },
     "metadata": {},
     "output_type": "display_data"
    },
    {
     "name": "stdout",
     "output_type": "stream",
     "text": [
      "\n"
     ]
    },
    {
     "data": {
      "application/vnd.jupyter.widget-view+json": {
       "model_id": "ea86bddffae8403392c13f856fa818eb",
       "version_major": 2,
       "version_minor": 0
      },
      "text/plain": [
       "HBox(children=(FloatProgress(value=0.0, max=50.0), HTML(value='')))"
      ]
     },
     "metadata": {},
     "output_type": "display_data"
    },
    {
     "name": "stdout",
     "output_type": "stream",
     "text": [
      "\n",
      "\tTraining Loss: 0.909076 \tValidation Loss: 0.975416\n",
      "running epoch: 87\n"
     ]
    },
    {
     "data": {
      "application/vnd.jupyter.widget-view+json": {
       "model_id": "ea8f8c0b3eb34b3c926a1f297af0eb92",
       "version_major": 2,
       "version_minor": 0
      },
      "text/plain": [
       "HBox(children=(FloatProgress(value=0.0, max=817.0), HTML(value='')))"
      ]
     },
     "metadata": {},
     "output_type": "display_data"
    },
    {
     "name": "stdout",
     "output_type": "stream",
     "text": [
      "\n"
     ]
    },
    {
     "data": {
      "application/vnd.jupyter.widget-view+json": {
       "model_id": "33ac079896ed41069886daa7f4151046",
       "version_major": 2,
       "version_minor": 0
      },
      "text/plain": [
       "HBox(children=(FloatProgress(value=0.0, max=50.0), HTML(value='')))"
      ]
     },
     "metadata": {},
     "output_type": "display_data"
    },
    {
     "name": "stdout",
     "output_type": "stream",
     "text": [
      "\n",
      "\tTraining Loss: 0.905404 \tValidation Loss: 0.939046\n",
      "running epoch: 88\n"
     ]
    },
    {
     "data": {
      "application/vnd.jupyter.widget-view+json": {
       "model_id": "92cb397d9d3844fa892b8280d41cdc5a",
       "version_major": 2,
       "version_minor": 0
      },
      "text/plain": [
       "HBox(children=(FloatProgress(value=0.0, max=817.0), HTML(value='')))"
      ]
     },
     "metadata": {},
     "output_type": "display_data"
    },
    {
     "name": "stdout",
     "output_type": "stream",
     "text": [
      "\n"
     ]
    },
    {
     "data": {
      "application/vnd.jupyter.widget-view+json": {
       "model_id": "7c8563f3d8d443d0b7de69e77e666307",
       "version_major": 2,
       "version_minor": 0
      },
      "text/plain": [
       "HBox(children=(FloatProgress(value=0.0, max=50.0), HTML(value='')))"
      ]
     },
     "metadata": {},
     "output_type": "display_data"
    },
    {
     "name": "stdout",
     "output_type": "stream",
     "text": [
      "\n",
      "\tTraining Loss: 0.890621 \tValidation Loss: 0.957928\n",
      "running epoch: 89\n"
     ]
    },
    {
     "data": {
      "application/vnd.jupyter.widget-view+json": {
       "model_id": "f1602fb9da744555a77c1ad7c2b9db1e",
       "version_major": 2,
       "version_minor": 0
      },
      "text/plain": [
       "HBox(children=(FloatProgress(value=0.0, max=817.0), HTML(value='')))"
      ]
     },
     "metadata": {},
     "output_type": "display_data"
    },
    {
     "name": "stdout",
     "output_type": "stream",
     "text": [
      "\n"
     ]
    },
    {
     "data": {
      "application/vnd.jupyter.widget-view+json": {
       "model_id": "d60ae42536b1433ebd4fd87dbb1e6da8",
       "version_major": 2,
       "version_minor": 0
      },
      "text/plain": [
       "HBox(children=(FloatProgress(value=0.0, max=50.0), HTML(value='')))"
      ]
     },
     "metadata": {},
     "output_type": "display_data"
    },
    {
     "name": "stdout",
     "output_type": "stream",
     "text": [
      "\n",
      "\tTraining Loss: 0.917258 \tValidation Loss: 0.919284\n",
      "running epoch: 90\n"
     ]
    },
    {
     "data": {
      "application/vnd.jupyter.widget-view+json": {
       "model_id": "fea278e33cff48c09e1debd5268f4189",
       "version_major": 2,
       "version_minor": 0
      },
      "text/plain": [
       "HBox(children=(FloatProgress(value=0.0, max=817.0), HTML(value='')))"
      ]
     },
     "metadata": {},
     "output_type": "display_data"
    },
    {
     "name": "stdout",
     "output_type": "stream",
     "text": [
      "\n"
     ]
    },
    {
     "data": {
      "application/vnd.jupyter.widget-view+json": {
       "model_id": "706297118478497ab915366bafef5e55",
       "version_major": 2,
       "version_minor": 0
      },
      "text/plain": [
       "HBox(children=(FloatProgress(value=0.0, max=50.0), HTML(value='')))"
      ]
     },
     "metadata": {},
     "output_type": "display_data"
    },
    {
     "name": "stdout",
     "output_type": "stream",
     "text": [
      "\n",
      "\tTraining Loss: 0.896898 \tValidation Loss: 0.949445\n",
      "running epoch: 91\n"
     ]
    },
    {
     "data": {
      "application/vnd.jupyter.widget-view+json": {
       "model_id": "ff0945b524ab4d05aeb289f94ac9d59e",
       "version_major": 2,
       "version_minor": 0
      },
      "text/plain": [
       "HBox(children=(FloatProgress(value=0.0, max=817.0), HTML(value='')))"
      ]
     },
     "metadata": {},
     "output_type": "display_data"
    },
    {
     "name": "stdout",
     "output_type": "stream",
     "text": [
      "\n"
     ]
    },
    {
     "data": {
      "application/vnd.jupyter.widget-view+json": {
       "model_id": "e18c40fc634e4b3da3eaf1f55e3a77d4",
       "version_major": 2,
       "version_minor": 0
      },
      "text/plain": [
       "HBox(children=(FloatProgress(value=0.0, max=50.0), HTML(value='')))"
      ]
     },
     "metadata": {},
     "output_type": "display_data"
    },
    {
     "name": "stdout",
     "output_type": "stream",
     "text": [
      "\n",
      "\tTraining Loss: 0.892050 \tValidation Loss: 0.990197\n",
      "running epoch: 92\n"
     ]
    },
    {
     "data": {
      "application/vnd.jupyter.widget-view+json": {
       "model_id": "928ee839497c4c88a146be2b090fe9ec",
       "version_major": 2,
       "version_minor": 0
      },
      "text/plain": [
       "HBox(children=(FloatProgress(value=0.0, max=817.0), HTML(value='')))"
      ]
     },
     "metadata": {},
     "output_type": "display_data"
    },
    {
     "name": "stdout",
     "output_type": "stream",
     "text": [
      "\n"
     ]
    },
    {
     "data": {
      "application/vnd.jupyter.widget-view+json": {
       "model_id": "2e25e32c5d4040f9a21572b3f6357df6",
       "version_major": 2,
       "version_minor": 0
      },
      "text/plain": [
       "HBox(children=(FloatProgress(value=0.0, max=50.0), HTML(value='')))"
      ]
     },
     "metadata": {},
     "output_type": "display_data"
    },
    {
     "name": "stdout",
     "output_type": "stream",
     "text": [
      "\n",
      "\tTraining Loss: 0.895691 \tValidation Loss: 1.016320\n",
      "running epoch: 93\n"
     ]
    },
    {
     "data": {
      "application/vnd.jupyter.widget-view+json": {
       "model_id": "5545268e64784f1098ce9c4b59cf773d",
       "version_major": 2,
       "version_minor": 0
      },
      "text/plain": [
       "HBox(children=(FloatProgress(value=0.0, max=817.0), HTML(value='')))"
      ]
     },
     "metadata": {},
     "output_type": "display_data"
    },
    {
     "name": "stdout",
     "output_type": "stream",
     "text": [
      "\n"
     ]
    },
    {
     "data": {
      "application/vnd.jupyter.widget-view+json": {
       "model_id": "b4053d981bec4bd3ac1a6e0be4c55cb5",
       "version_major": 2,
       "version_minor": 0
      },
      "text/plain": [
       "HBox(children=(FloatProgress(value=0.0, max=50.0), HTML(value='')))"
      ]
     },
     "metadata": {},
     "output_type": "display_data"
    },
    {
     "name": "stdout",
     "output_type": "stream",
     "text": [
      "\n",
      "\tTraining Loss: 0.884887 \tValidation Loss: 0.976816\n",
      "running epoch: 94\n"
     ]
    },
    {
     "data": {
      "application/vnd.jupyter.widget-view+json": {
       "model_id": "aee3dc835da64312b35fc0c20839925b",
       "version_major": 2,
       "version_minor": 0
      },
      "text/plain": [
       "HBox(children=(FloatProgress(value=0.0, max=817.0), HTML(value='')))"
      ]
     },
     "metadata": {},
     "output_type": "display_data"
    },
    {
     "name": "stdout",
     "output_type": "stream",
     "text": [
      "\n"
     ]
    },
    {
     "data": {
      "application/vnd.jupyter.widget-view+json": {
       "model_id": "a84c84ed619b41f2be95c094bb6207f2",
       "version_major": 2,
       "version_minor": 0
      },
      "text/plain": [
       "HBox(children=(FloatProgress(value=0.0, max=50.0), HTML(value='')))"
      ]
     },
     "metadata": {},
     "output_type": "display_data"
    },
    {
     "name": "stdout",
     "output_type": "stream",
     "text": [
      "\n",
      "\tTraining Loss: 0.875701 \tValidation Loss: 0.999757\n",
      "running epoch: 95\n"
     ]
    },
    {
     "data": {
      "application/vnd.jupyter.widget-view+json": {
       "model_id": "93b3237f8401401097b2d4487887580a",
       "version_major": 2,
       "version_minor": 0
      },
      "text/plain": [
       "HBox(children=(FloatProgress(value=0.0, max=817.0), HTML(value='')))"
      ]
     },
     "metadata": {},
     "output_type": "display_data"
    },
    {
     "name": "stdout",
     "output_type": "stream",
     "text": [
      "\n"
     ]
    },
    {
     "data": {
      "application/vnd.jupyter.widget-view+json": {
       "model_id": "236915955a9a4ed496cc9d3b9f03e65b",
       "version_major": 2,
       "version_minor": 0
      },
      "text/plain": [
       "HBox(children=(FloatProgress(value=0.0, max=50.0), HTML(value='')))"
      ]
     },
     "metadata": {},
     "output_type": "display_data"
    },
    {
     "name": "stdout",
     "output_type": "stream",
     "text": [
      "\n",
      "\tTraining Loss: 0.898870 \tValidation Loss: 0.957783\n",
      "running epoch: 96\n"
     ]
    },
    {
     "data": {
      "application/vnd.jupyter.widget-view+json": {
       "model_id": "64bdef7fc0f946c588349a3e9be7e81b",
       "version_major": 2,
       "version_minor": 0
      },
      "text/plain": [
       "HBox(children=(FloatProgress(value=0.0, max=817.0), HTML(value='')))"
      ]
     },
     "metadata": {},
     "output_type": "display_data"
    },
    {
     "name": "stdout",
     "output_type": "stream",
     "text": [
      "\n"
     ]
    },
    {
     "data": {
      "application/vnd.jupyter.widget-view+json": {
       "model_id": "5e7968c9ea724d82ad0ba1757a3197af",
       "version_major": 2,
       "version_minor": 0
      },
      "text/plain": [
       "HBox(children=(FloatProgress(value=0.0, max=50.0), HTML(value='')))"
      ]
     },
     "metadata": {},
     "output_type": "display_data"
    },
    {
     "name": "stdout",
     "output_type": "stream",
     "text": [
      "\n",
      "\tTraining Loss: 0.893461 \tValidation Loss: 0.926358\n",
      "running epoch: 97\n"
     ]
    },
    {
     "data": {
      "application/vnd.jupyter.widget-view+json": {
       "model_id": "903d24f2474b4724b0cb13e88df13bff",
       "version_major": 2,
       "version_minor": 0
      },
      "text/plain": [
       "HBox(children=(FloatProgress(value=0.0, max=817.0), HTML(value='')))"
      ]
     },
     "metadata": {},
     "output_type": "display_data"
    },
    {
     "name": "stdout",
     "output_type": "stream",
     "text": [
      "\n"
     ]
    },
    {
     "data": {
      "application/vnd.jupyter.widget-view+json": {
       "model_id": "cf56e0db54124f628cc817a63c3213c0",
       "version_major": 2,
       "version_minor": 0
      },
      "text/plain": [
       "HBox(children=(FloatProgress(value=0.0, max=50.0), HTML(value='')))"
      ]
     },
     "metadata": {},
     "output_type": "display_data"
    },
    {
     "name": "stdout",
     "output_type": "stream",
     "text": [
      "\n",
      "\tTraining Loss: 0.881843 \tValidation Loss: 0.914909\n",
      "running epoch: 98\n"
     ]
    },
    {
     "data": {
      "application/vnd.jupyter.widget-view+json": {
       "model_id": "cb4fa7525d3641b7b35d0c26e24a0e65",
       "version_major": 2,
       "version_minor": 0
      },
      "text/plain": [
       "HBox(children=(FloatProgress(value=0.0, max=817.0), HTML(value='')))"
      ]
     },
     "metadata": {},
     "output_type": "display_data"
    },
    {
     "name": "stdout",
     "output_type": "stream",
     "text": [
      "\n"
     ]
    },
    {
     "data": {
      "application/vnd.jupyter.widget-view+json": {
       "model_id": "9658e53089d5446d99305a67dcff0a21",
       "version_major": 2,
       "version_minor": 0
      },
      "text/plain": [
       "HBox(children=(FloatProgress(value=0.0, max=50.0), HTML(value='')))"
      ]
     },
     "metadata": {},
     "output_type": "display_data"
    },
    {
     "name": "stdout",
     "output_type": "stream",
     "text": [
      "\n",
      "\tTraining Loss: 0.883378 \tValidation Loss: 1.005576\n",
      "running epoch: 99\n"
     ]
    },
    {
     "data": {
      "application/vnd.jupyter.widget-view+json": {
       "model_id": "89bee16e7d3446a6b3691dea8b0f89ae",
       "version_major": 2,
       "version_minor": 0
      },
      "text/plain": [
       "HBox(children=(FloatProgress(value=0.0, max=817.0), HTML(value='')))"
      ]
     },
     "metadata": {},
     "output_type": "display_data"
    },
    {
     "name": "stdout",
     "output_type": "stream",
     "text": [
      "\n"
     ]
    },
    {
     "data": {
      "application/vnd.jupyter.widget-view+json": {
       "model_id": "55e1fd57a05c4dc29245a0c15aeee6f2",
       "version_major": 2,
       "version_minor": 0
      },
      "text/plain": [
       "HBox(children=(FloatProgress(value=0.0, max=50.0), HTML(value='')))"
      ]
     },
     "metadata": {},
     "output_type": "display_data"
    },
    {
     "name": "stdout",
     "output_type": "stream",
     "text": [
      "\n",
      "\tTraining Loss: 0.888132 \tValidation Loss: 0.930703\n",
      "running epoch: 100\n"
     ]
    },
    {
     "data": {
      "application/vnd.jupyter.widget-view+json": {
       "model_id": "05182ec35c3a4af8890084f844664bcd",
       "version_major": 2,
       "version_minor": 0
      },
      "text/plain": [
       "HBox(children=(FloatProgress(value=0.0, max=817.0), HTML(value='')))"
      ]
     },
     "metadata": {},
     "output_type": "display_data"
    },
    {
     "name": "stdout",
     "output_type": "stream",
     "text": [
      "\n"
     ]
    },
    {
     "data": {
      "application/vnd.jupyter.widget-view+json": {
       "model_id": "6bb550f0601d4718a522b8aa08c078e0",
       "version_major": 2,
       "version_minor": 0
      },
      "text/plain": [
       "HBox(children=(FloatProgress(value=0.0, max=50.0), HTML(value='')))"
      ]
     },
     "metadata": {},
     "output_type": "display_data"
    },
    {
     "name": "stdout",
     "output_type": "stream",
     "text": [
      "\n",
      "\tTraining Loss: 0.871931 \tValidation Loss: 1.004326\n",
      "running epoch: 101\n"
     ]
    },
    {
     "data": {
      "application/vnd.jupyter.widget-view+json": {
       "model_id": "ef4e6d29e5e540cb9ff3347d810f64fe",
       "version_major": 2,
       "version_minor": 0
      },
      "text/plain": [
       "HBox(children=(FloatProgress(value=0.0, max=817.0), HTML(value='')))"
      ]
     },
     "metadata": {},
     "output_type": "display_data"
    },
    {
     "name": "stdout",
     "output_type": "stream",
     "text": [
      "\n"
     ]
    },
    {
     "data": {
      "application/vnd.jupyter.widget-view+json": {
       "model_id": "faca19f4b2424bf8a9fdb2e64d9e9e78",
       "version_major": 2,
       "version_minor": 0
      },
      "text/plain": [
       "HBox(children=(FloatProgress(value=0.0, max=50.0), HTML(value='')))"
      ]
     },
     "metadata": {},
     "output_type": "display_data"
    },
    {
     "name": "stdout",
     "output_type": "stream",
     "text": [
      "\n",
      "\tTraining Loss: 0.864386 \tValidation Loss: 0.935000\n",
      "running epoch: 102\n"
     ]
    },
    {
     "data": {
      "application/vnd.jupyter.widget-view+json": {
       "model_id": "f2798ceca7724d16864df214dee6024a",
       "version_major": 2,
       "version_minor": 0
      },
      "text/plain": [
       "HBox(children=(FloatProgress(value=0.0, max=817.0), HTML(value='')))"
      ]
     },
     "metadata": {},
     "output_type": "display_data"
    },
    {
     "name": "stdout",
     "output_type": "stream",
     "text": [
      "\n"
     ]
    },
    {
     "data": {
      "application/vnd.jupyter.widget-view+json": {
       "model_id": "f5c6454dcb414d3692f87ba452845915",
       "version_major": 2,
       "version_minor": 0
      },
      "text/plain": [
       "HBox(children=(FloatProgress(value=0.0, max=50.0), HTML(value='')))"
      ]
     },
     "metadata": {},
     "output_type": "display_data"
    },
    {
     "name": "stdout",
     "output_type": "stream",
     "text": [
      "\n",
      "\tTraining Loss: 0.865427 \tValidation Loss: 0.934672\n",
      "running epoch: 103\n"
     ]
    },
    {
     "data": {
      "application/vnd.jupyter.widget-view+json": {
       "model_id": "99c78b18d6b84170bd86237e9578a7a3",
       "version_major": 2,
       "version_minor": 0
      },
      "text/plain": [
       "HBox(children=(FloatProgress(value=0.0, max=817.0), HTML(value='')))"
      ]
     },
     "metadata": {},
     "output_type": "display_data"
    },
    {
     "name": "stdout",
     "output_type": "stream",
     "text": [
      "\n"
     ]
    },
    {
     "data": {
      "application/vnd.jupyter.widget-view+json": {
       "model_id": "c8217392384b41f1a46bfdab596395e7",
       "version_major": 2,
       "version_minor": 0
      },
      "text/plain": [
       "HBox(children=(FloatProgress(value=0.0, max=50.0), HTML(value='')))"
      ]
     },
     "metadata": {},
     "output_type": "display_data"
    },
    {
     "name": "stdout",
     "output_type": "stream",
     "text": [
      "\n",
      "\tTraining Loss: 0.861062 \tValidation Loss: 0.937794\n",
      "running epoch: 104\n"
     ]
    },
    {
     "data": {
      "application/vnd.jupyter.widget-view+json": {
       "model_id": "e3a6a600c31a4932a1701b2f01713fd7",
       "version_major": 2,
       "version_minor": 0
      },
      "text/plain": [
       "HBox(children=(FloatProgress(value=0.0, max=817.0), HTML(value='')))"
      ]
     },
     "metadata": {},
     "output_type": "display_data"
    },
    {
     "name": "stdout",
     "output_type": "stream",
     "text": [
      "\n"
     ]
    },
    {
     "data": {
      "application/vnd.jupyter.widget-view+json": {
       "model_id": "2a0001a51ebf48b5918abb4bad5c2c51",
       "version_major": 2,
       "version_minor": 0
      },
      "text/plain": [
       "HBox(children=(FloatProgress(value=0.0, max=50.0), HTML(value='')))"
      ]
     },
     "metadata": {},
     "output_type": "display_data"
    },
    {
     "name": "stdout",
     "output_type": "stream",
     "text": [
      "\n",
      "\tTraining Loss: 0.851492 \tValidation Loss: 0.943253\n",
      "running epoch: 105\n"
     ]
    },
    {
     "data": {
      "application/vnd.jupyter.widget-view+json": {
       "model_id": "622365ae8a114babb162efcd5a0c12fc",
       "version_major": 2,
       "version_minor": 0
      },
      "text/plain": [
       "HBox(children=(FloatProgress(value=0.0, max=817.0), HTML(value='')))"
      ]
     },
     "metadata": {},
     "output_type": "display_data"
    },
    {
     "name": "stdout",
     "output_type": "stream",
     "text": [
      "\n"
     ]
    },
    {
     "data": {
      "application/vnd.jupyter.widget-view+json": {
       "model_id": "2433ff146b1847a8b21d83355fb851a6",
       "version_major": 2,
       "version_minor": 0
      },
      "text/plain": [
       "HBox(children=(FloatProgress(value=0.0, max=50.0), HTML(value='')))"
      ]
     },
     "metadata": {},
     "output_type": "display_data"
    },
    {
     "name": "stdout",
     "output_type": "stream",
     "text": [
      "\n",
      "\tTraining Loss: 0.864960 \tValidation Loss: 0.919786\n",
      "running epoch: 106\n"
     ]
    },
    {
     "data": {
      "application/vnd.jupyter.widget-view+json": {
       "model_id": "b2e6ab95804a456ca5d88c227c720cef",
       "version_major": 2,
       "version_minor": 0
      },
      "text/plain": [
       "HBox(children=(FloatProgress(value=0.0, max=817.0), HTML(value='')))"
      ]
     },
     "metadata": {},
     "output_type": "display_data"
    },
    {
     "name": "stdout",
     "output_type": "stream",
     "text": [
      "\n"
     ]
    },
    {
     "data": {
      "application/vnd.jupyter.widget-view+json": {
       "model_id": "905c7390665942c7b79918731acd38bf",
       "version_major": 2,
       "version_minor": 0
      },
      "text/plain": [
       "HBox(children=(FloatProgress(value=0.0, max=50.0), HTML(value='')))"
      ]
     },
     "metadata": {},
     "output_type": "display_data"
    },
    {
     "name": "stdout",
     "output_type": "stream",
     "text": [
      "\n",
      "\tTraining Loss: 0.866265 \tValidation Loss: 0.913638\n",
      "running epoch: 107\n"
     ]
    },
    {
     "data": {
      "application/vnd.jupyter.widget-view+json": {
       "model_id": "cd05425a808a45f6aca9e217556e673c",
       "version_major": 2,
       "version_minor": 0
      },
      "text/plain": [
       "HBox(children=(FloatProgress(value=0.0, max=817.0), HTML(value='')))"
      ]
     },
     "metadata": {},
     "output_type": "display_data"
    },
    {
     "name": "stdout",
     "output_type": "stream",
     "text": [
      "\n"
     ]
    },
    {
     "data": {
      "application/vnd.jupyter.widget-view+json": {
       "model_id": "cdccc7b493da4f84ad30381091b0f769",
       "version_major": 2,
       "version_minor": 0
      },
      "text/plain": [
       "HBox(children=(FloatProgress(value=0.0, max=50.0), HTML(value='')))"
      ]
     },
     "metadata": {},
     "output_type": "display_data"
    },
    {
     "name": "stdout",
     "output_type": "stream",
     "text": [
      "\n",
      "\tTraining Loss: 0.852097 \tValidation Loss: 0.970722\n",
      "running epoch: 108\n"
     ]
    },
    {
     "data": {
      "application/vnd.jupyter.widget-view+json": {
       "model_id": "bed0f44f82bc4e00b06e50a282d48eb6",
       "version_major": 2,
       "version_minor": 0
      },
      "text/plain": [
       "HBox(children=(FloatProgress(value=0.0, max=817.0), HTML(value='')))"
      ]
     },
     "metadata": {},
     "output_type": "display_data"
    },
    {
     "name": "stdout",
     "output_type": "stream",
     "text": [
      "\n"
     ]
    },
    {
     "data": {
      "application/vnd.jupyter.widget-view+json": {
       "model_id": "d0fbf75a817b4db293ebdf347f05f5b5",
       "version_major": 2,
       "version_minor": 0
      },
      "text/plain": [
       "HBox(children=(FloatProgress(value=0.0, max=50.0), HTML(value='')))"
      ]
     },
     "metadata": {},
     "output_type": "display_data"
    },
    {
     "name": "stdout",
     "output_type": "stream",
     "text": [
      "\n",
      "\tTraining Loss: 0.856454 \tValidation Loss: 0.966166\n",
      "running epoch: 109\n"
     ]
    },
    {
     "data": {
      "application/vnd.jupyter.widget-view+json": {
       "model_id": "5d4f93fa670a4ec8862c3e145c9a3acf",
       "version_major": 2,
       "version_minor": 0
      },
      "text/plain": [
       "HBox(children=(FloatProgress(value=0.0, max=817.0), HTML(value='')))"
      ]
     },
     "metadata": {},
     "output_type": "display_data"
    },
    {
     "name": "stdout",
     "output_type": "stream",
     "text": [
      "\n"
     ]
    },
    {
     "data": {
      "application/vnd.jupyter.widget-view+json": {
       "model_id": "c87ff8c7d1974141b83e63c97c30c506",
       "version_major": 2,
       "version_minor": 0
      },
      "text/plain": [
       "HBox(children=(FloatProgress(value=0.0, max=50.0), HTML(value='')))"
      ]
     },
     "metadata": {},
     "output_type": "display_data"
    },
    {
     "name": "stdout",
     "output_type": "stream",
     "text": [
      "\n",
      "\tTraining Loss: 0.856577 \tValidation Loss: 0.952059\n",
      "running epoch: 110\n"
     ]
    },
    {
     "data": {
      "application/vnd.jupyter.widget-view+json": {
       "model_id": "a18c7e44b34347c5b451bbfc57d6ef7e",
       "version_major": 2,
       "version_minor": 0
      },
      "text/plain": [
       "HBox(children=(FloatProgress(value=0.0, max=817.0), HTML(value='')))"
      ]
     },
     "metadata": {},
     "output_type": "display_data"
    },
    {
     "name": "stdout",
     "output_type": "stream",
     "text": [
      "\n"
     ]
    },
    {
     "data": {
      "application/vnd.jupyter.widget-view+json": {
       "model_id": "cd376eac5c5f4421a9c22950dd12dce4",
       "version_major": 2,
       "version_minor": 0
      },
      "text/plain": [
       "HBox(children=(FloatProgress(value=0.0, max=50.0), HTML(value='')))"
      ]
     },
     "metadata": {},
     "output_type": "display_data"
    },
    {
     "name": "stdout",
     "output_type": "stream",
     "text": [
      "\n",
      "\tTraining Loss: 0.844755 \tValidation Loss: 0.957334\n",
      "running epoch: 111\n"
     ]
    },
    {
     "data": {
      "application/vnd.jupyter.widget-view+json": {
       "model_id": "b267c869f34d4ea492874dff34f43dc4",
       "version_major": 2,
       "version_minor": 0
      },
      "text/plain": [
       "HBox(children=(FloatProgress(value=0.0, max=817.0), HTML(value='')))"
      ]
     },
     "metadata": {},
     "output_type": "display_data"
    },
    {
     "name": "stdout",
     "output_type": "stream",
     "text": [
      "\n"
     ]
    },
    {
     "data": {
      "application/vnd.jupyter.widget-view+json": {
       "model_id": "cd0e74c88679474b835a184bdfaf0f92",
       "version_major": 2,
       "version_minor": 0
      },
      "text/plain": [
       "HBox(children=(FloatProgress(value=0.0, max=50.0), HTML(value='')))"
      ]
     },
     "metadata": {},
     "output_type": "display_data"
    },
    {
     "name": "stdout",
     "output_type": "stream",
     "text": [
      "\n",
      "\tTraining Loss: 0.842976 \tValidation Loss: 0.972976\n",
      "running epoch: 112\n"
     ]
    },
    {
     "data": {
      "application/vnd.jupyter.widget-view+json": {
       "model_id": "6da3d5c976bd4a5ba0f602e9b580fd6b",
       "version_major": 2,
       "version_minor": 0
      },
      "text/plain": [
       "HBox(children=(FloatProgress(value=0.0, max=817.0), HTML(value='')))"
      ]
     },
     "metadata": {},
     "output_type": "display_data"
    },
    {
     "name": "stdout",
     "output_type": "stream",
     "text": [
      "\n"
     ]
    },
    {
     "data": {
      "application/vnd.jupyter.widget-view+json": {
       "model_id": "4154ac0c537d4883ba0da985736dc266",
       "version_major": 2,
       "version_minor": 0
      },
      "text/plain": [
       "HBox(children=(FloatProgress(value=0.0, max=50.0), HTML(value='')))"
      ]
     },
     "metadata": {},
     "output_type": "display_data"
    },
    {
     "name": "stdout",
     "output_type": "stream",
     "text": [
      "\n",
      "\tTraining Loss: 0.856355 \tValidation Loss: 0.968978\n",
      "running epoch: 113\n"
     ]
    },
    {
     "data": {
      "application/vnd.jupyter.widget-view+json": {
       "model_id": "f85fd0220a9e42419fff5c34452559a9",
       "version_major": 2,
       "version_minor": 0
      },
      "text/plain": [
       "HBox(children=(FloatProgress(value=0.0, max=817.0), HTML(value='')))"
      ]
     },
     "metadata": {},
     "output_type": "display_data"
    },
    {
     "name": "stdout",
     "output_type": "stream",
     "text": [
      "\n"
     ]
    },
    {
     "data": {
      "application/vnd.jupyter.widget-view+json": {
       "model_id": "af9e2f5f8fc64020b6b31647b2932d3b",
       "version_major": 2,
       "version_minor": 0
      },
      "text/plain": [
       "HBox(children=(FloatProgress(value=0.0, max=50.0), HTML(value='')))"
      ]
     },
     "metadata": {},
     "output_type": "display_data"
    },
    {
     "name": "stdout",
     "output_type": "stream",
     "text": [
      "\n",
      "\tTraining Loss: 0.846921 \tValidation Loss: 0.950520\n",
      "running epoch: 114\n"
     ]
    },
    {
     "data": {
      "application/vnd.jupyter.widget-view+json": {
       "model_id": "21157f98e26945d993fecb964dc36e9f",
       "version_major": 2,
       "version_minor": 0
      },
      "text/plain": [
       "HBox(children=(FloatProgress(value=0.0, max=817.0), HTML(value='')))"
      ]
     },
     "metadata": {},
     "output_type": "display_data"
    },
    {
     "name": "stdout",
     "output_type": "stream",
     "text": [
      "\n"
     ]
    },
    {
     "data": {
      "application/vnd.jupyter.widget-view+json": {
       "model_id": "3eeecd538fed4d2287abd71b49a9edc5",
       "version_major": 2,
       "version_minor": 0
      },
      "text/plain": [
       "HBox(children=(FloatProgress(value=0.0, max=50.0), HTML(value='')))"
      ]
     },
     "metadata": {},
     "output_type": "display_data"
    },
    {
     "name": "stdout",
     "output_type": "stream",
     "text": [
      "\n",
      "\tTraining Loss: 0.844377 \tValidation Loss: 0.956461\n",
      "running epoch: 115\n"
     ]
    },
    {
     "data": {
      "application/vnd.jupyter.widget-view+json": {
       "model_id": "0e3d58bf13e1401e89aa7b6ff683b2e6",
       "version_major": 2,
       "version_minor": 0
      },
      "text/plain": [
       "HBox(children=(FloatProgress(value=0.0, max=817.0), HTML(value='')))"
      ]
     },
     "metadata": {},
     "output_type": "display_data"
    },
    {
     "name": "stdout",
     "output_type": "stream",
     "text": [
      "\n"
     ]
    },
    {
     "data": {
      "application/vnd.jupyter.widget-view+json": {
       "model_id": "cccb1485544f40efa0adb482e822279a",
       "version_major": 2,
       "version_minor": 0
      },
      "text/plain": [
       "HBox(children=(FloatProgress(value=0.0, max=50.0), HTML(value='')))"
      ]
     },
     "metadata": {},
     "output_type": "display_data"
    },
    {
     "name": "stdout",
     "output_type": "stream",
     "text": [
      "\n",
      "\tTraining Loss: 0.829416 \tValidation Loss: 0.982632\n",
      "running epoch: 116\n"
     ]
    },
    {
     "data": {
      "application/vnd.jupyter.widget-view+json": {
       "model_id": "fe435dc5bb0b42f9b4d0bbbc71ada9c4",
       "version_major": 2,
       "version_minor": 0
      },
      "text/plain": [
       "HBox(children=(FloatProgress(value=0.0, max=817.0), HTML(value='')))"
      ]
     },
     "metadata": {},
     "output_type": "display_data"
    },
    {
     "name": "stdout",
     "output_type": "stream",
     "text": [
      "\n"
     ]
    },
    {
     "data": {
      "application/vnd.jupyter.widget-view+json": {
       "model_id": "4754b5a0263d40f6af49fbd6ab8b97f5",
       "version_major": 2,
       "version_minor": 0
      },
      "text/plain": [
       "HBox(children=(FloatProgress(value=0.0, max=50.0), HTML(value='')))"
      ]
     },
     "metadata": {},
     "output_type": "display_data"
    },
    {
     "name": "stdout",
     "output_type": "stream",
     "text": [
      "\n",
      "\tTraining Loss: 0.840758 \tValidation Loss: 0.928855\n",
      "running epoch: 117\n"
     ]
    },
    {
     "data": {
      "application/vnd.jupyter.widget-view+json": {
       "model_id": "7666989a29ed40c58e165abbbd4cb05f",
       "version_major": 2,
       "version_minor": 0
      },
      "text/plain": [
       "HBox(children=(FloatProgress(value=0.0, max=817.0), HTML(value='')))"
      ]
     },
     "metadata": {},
     "output_type": "display_data"
    },
    {
     "name": "stdout",
     "output_type": "stream",
     "text": [
      "\n"
     ]
    },
    {
     "data": {
      "application/vnd.jupyter.widget-view+json": {
       "model_id": "9d894b239ad84f26af28b47845192f97",
       "version_major": 2,
       "version_minor": 0
      },
      "text/plain": [
       "HBox(children=(FloatProgress(value=0.0, max=50.0), HTML(value='')))"
      ]
     },
     "metadata": {},
     "output_type": "display_data"
    },
    {
     "name": "stdout",
     "output_type": "stream",
     "text": [
      "\n",
      "\tTraining Loss: 0.832951 \tValidation Loss: 1.036125\n",
      "running epoch: 118\n"
     ]
    },
    {
     "data": {
      "application/vnd.jupyter.widget-view+json": {
       "model_id": "aeb4024aa64a41fd8b08e61e3df1d12c",
       "version_major": 2,
       "version_minor": 0
      },
      "text/plain": [
       "HBox(children=(FloatProgress(value=0.0, max=817.0), HTML(value='')))"
      ]
     },
     "metadata": {},
     "output_type": "display_data"
    },
    {
     "name": "stdout",
     "output_type": "stream",
     "text": [
      "\n"
     ]
    },
    {
     "data": {
      "application/vnd.jupyter.widget-view+json": {
       "model_id": "9098cbe4ed7c4abaa7e7c9ca15034255",
       "version_major": 2,
       "version_minor": 0
      },
      "text/plain": [
       "HBox(children=(FloatProgress(value=0.0, max=50.0), HTML(value='')))"
      ]
     },
     "metadata": {},
     "output_type": "display_data"
    },
    {
     "name": "stdout",
     "output_type": "stream",
     "text": [
      "\n",
      "\tTraining Loss: 0.832404 \tValidation Loss: 0.933137\n",
      "running epoch: 119\n"
     ]
    },
    {
     "data": {
      "application/vnd.jupyter.widget-view+json": {
       "model_id": "3153a4c405b043968b5adbb77e4af625",
       "version_major": 2,
       "version_minor": 0
      },
      "text/plain": [
       "HBox(children=(FloatProgress(value=0.0, max=817.0), HTML(value='')))"
      ]
     },
     "metadata": {},
     "output_type": "display_data"
    },
    {
     "name": "stdout",
     "output_type": "stream",
     "text": [
      "\n"
     ]
    },
    {
     "data": {
      "application/vnd.jupyter.widget-view+json": {
       "model_id": "1f4a6c47705147df9beb3b1e1681bd33",
       "version_major": 2,
       "version_minor": 0
      },
      "text/plain": [
       "HBox(children=(FloatProgress(value=0.0, max=50.0), HTML(value='')))"
      ]
     },
     "metadata": {},
     "output_type": "display_data"
    },
    {
     "name": "stdout",
     "output_type": "stream",
     "text": [
      "\n",
      "\tTraining Loss: 0.822965 \tValidation Loss: 0.907008\n",
      "running epoch: 120\n"
     ]
    },
    {
     "data": {
      "application/vnd.jupyter.widget-view+json": {
       "model_id": "0841f33616e9415fb44d442362424688",
       "version_major": 2,
       "version_minor": 0
      },
      "text/plain": [
       "HBox(children=(FloatProgress(value=0.0, max=817.0), HTML(value='')))"
      ]
     },
     "metadata": {},
     "output_type": "display_data"
    }
   ],
   "source": [
    "dml.train(300, train_loader, valid_loader)"
   ]
  },
  {
   "cell_type": "code",
   "execution_count": 8,
   "metadata": {},
   "outputs": [
    {
     "name": "stdout",
     "output_type": "stream",
     "text": [
      "Test Loss: 0.914517\n",
      "Test Accuracy: 83% (667/800)\n"
     ]
    }
   ],
   "source": [
    "dml.test(valid_loader)"
   ]
  },
  {
   "cell_type": "code",
   "execution_count": 23,
   "metadata": {
    "scrolled": true
   },
   "outputs": [
    {
     "name": "stdout",
     "output_type": "stream",
     "text": [
      "running epoch: 1\n"
     ]
    },
    {
     "name": "stderr",
     "output_type": "stream",
     "text": [
      "/home/mmlab206/anaconda3/lib/python3.7/site-packages/ipykernel_launcher.py:38: UserWarning: Implicit dimension choice for log_softmax has been deprecated. Change the call to include dim=X as an argument.\n"
     ]
    },
    {
     "name": "stdout",
     "output_type": "stream",
     "text": [
      "train_loss:  0.6399870793077741\n",
      "val_loss:  0.8275227844715118\n",
      "running epoch: 2\n",
      "train_loss:  0.6359500726938301\n",
      "val_loss:  0.8220354437828064\n",
      "running epoch: 3\n",
      "train_loss:  0.6322457080462106\n",
      "val_loss:  0.8166169106960297\n",
      "running epoch: 4\n",
      "train_loss:  0.6285778681484534\n",
      "val_loss:  0.8112451374530792\n",
      "running epoch: 5\n",
      "train_loss:  0.624940221669366\n",
      "val_loss:  0.8059158951044083\n",
      "running epoch: 6\n",
      "train_loss:  0.621331217531811\n",
      "val_loss:  0.8006271332502365\n",
      "running epoch: 7\n",
      "train_loss:  0.6177498354296397\n",
      "val_loss:  0.7953776061534882\n",
      "running epoch: 8\n",
      "train_loss:  0.6141951975966535\n",
      "val_loss:  0.7901664674282074\n",
      "running epoch: 9\n",
      "train_loss:  0.6106666537859408\n",
      "val_loss:  0.7849928438663483\n",
      "running epoch: 10\n",
      "train_loss:  0.6071634355770505\n",
      "val_loss:  0.779856052994728\n",
      "running epoch: 11\n",
      "train_loss:  0.60368501677628\n",
      "val_loss:  0.7747552573680878\n",
      "running epoch: 12\n",
      "train_loss:  0.6002306150726665\n",
      "val_loss:  0.7696897894144058\n",
      "running epoch: 13\n",
      "train_loss:  0.5967997779589959\n",
      "val_loss:  0.7646591156721115\n",
      "running epoch: 14\n",
      "train_loss:  0.593392039025702\n",
      "val_loss:  0.7596627980470657\n",
      "running epoch: 15\n",
      "train_loss:  0.590006955362953\n",
      "val_loss:  0.7547001242637634\n",
      "running epoch: 16\n",
      "train_loss:  0.5866439882789007\n",
      "val_loss:  0.7497706204652786\n",
      "running epoch: 17\n",
      "train_loss:  0.5833028183225614\n",
      "val_loss:  0.7448738127946853\n",
      "running epoch: 18\n",
      "train_loss:  0.5799831441247695\n",
      "val_loss:  0.7400094151496888\n",
      "running epoch: 19\n",
      "train_loss:  0.5766845542767971\n",
      "val_loss:  0.7351770728826523\n",
      "running epoch: 20\n",
      "train_loss:  0.5734068564071346\n",
      "val_loss:  0.7303763061761857\n",
      "running epoch: 21\n",
      "train_loss:  0.5701497729399786\n",
      "val_loss:  0.725606894493103\n",
      "running epoch: 22\n",
      "train_loss:  0.5669130932041481\n",
      "val_loss:  0.7208685338497162\n",
      "running epoch: 23\n",
      "train_loss:  0.5636965552382333\n",
      "val_loss:  0.7161608904600143\n",
      "running epoch: 24\n",
      "train_loss:  0.5605000497249021\n",
      "val_loss:  0.7114837467670441\n",
      "running epoch: 25\n",
      "train_loss:  0.5573234182753819\n",
      "val_loss:  0.7068368762731552\n",
      "running epoch: 26\n",
      "train_loss:  0.5541664851294722\n",
      "val_loss:  0.7022201240062713\n",
      "running epoch: 27\n",
      "train_loss:  0.5510291187417073\n",
      "val_loss:  0.6976332813501358\n",
      "running epoch: 28\n",
      "train_loss:  0.5479112965903253\n",
      "val_loss:  0.6930761396884918\n",
      "running epoch: 29\n",
      "train_loss:  0.5448130039299774\n",
      "val_loss:  0.6885487318038941\n",
      "running epoch: 30\n",
      "train_loss:  0.5417340329949816\n",
      "val_loss:  0.6840507715940476\n",
      "running epoch: 31\n",
      "train_loss:  0.5386745598202227\n",
      "val_loss:  0.6795822143554687\n",
      "running epoch: 32\n",
      "train_loss:  0.5356343359867111\n",
      "val_loss:  0.6751430198550225\n",
      "running epoch: 33\n",
      "train_loss:  0.5326134982068227\n",
      "val_loss:  0.6707330241799354\n",
      "running epoch: 34\n",
      "train_loss:  0.5296119926423933\n",
      "val_loss:  0.666352228820324\n",
      "running epoch: 35\n",
      "train_loss:  0.5266298677326158\n",
      "val_loss:  0.662000659108162\n",
      "running epoch: 36\n",
      "train_loss:  0.5236671417961056\n",
      "val_loss:  0.6576780870556831\n",
      "running epoch: 37\n",
      "train_loss:  0.5207238530329535\n",
      "val_loss:  0.6533846899867057\n",
      "running epoch: 38\n",
      "train_loss:  0.5178001023518306\n",
      "val_loss:  0.6491204306483269\n",
      "running epoch: 39\n",
      "train_loss:  0.5148959046283236\n",
      "val_loss:  0.6448852777481079\n",
      "running epoch: 40\n",
      "train_loss:  0.5120113683154557\n",
      "val_loss:  0.6406793251633645\n",
      "running epoch: 41\n",
      "train_loss:  0.5091465637940291\n",
      "val_loss:  0.6365025594830513\n",
      "running epoch: 42\n",
      "train_loss:  0.506301726847546\n",
      "val_loss:  0.6323550999164581\n",
      "running epoch: 43\n",
      "train_loss:  0.503476826247219\n",
      "val_loss:  0.628236997127533\n",
      "running epoch: 44\n",
      "train_loss:  0.5006719234844913\n",
      "val_loss:  0.6241481989622116\n",
      "running epoch: 45\n",
      "train_loss:  0.4978872975156927\n",
      "val_loss:  0.6200890228152275\n",
      "running epoch: 46\n",
      "train_loss:  0.495122986574066\n",
      "val_loss:  0.6160593643784523\n",
      "running epoch: 47\n",
      "train_loss:  0.4923791755838549\n",
      "val_loss:  0.6120594590902328\n",
      "running epoch: 48\n",
      "train_loss:  0.48965601832102706\n",
      "val_loss:  0.6080893158912659\n",
      "running epoch: 49\n",
      "train_loss:  0.4869536152443388\n",
      "val_loss:  0.6041491523385047\n",
      "running epoch: 50\n",
      "train_loss:  0.48427209428573365\n",
      "val_loss:  0.6002390205860137\n",
      "running epoch: 51\n",
      "train_loss:  0.481611748708816\n",
      "val_loss:  0.5963592112064362\n",
      "running epoch: 52\n",
      "train_loss:  0.4789726996731355\n",
      "val_loss:  0.5925098493695259\n",
      "running epoch: 53\n",
      "train_loss:  0.47635506447371473\n",
      "val_loss:  0.5886910513043404\n",
      "running epoch: 54\n",
      "train_loss:  0.4737590997179834\n",
      "val_loss:  0.5849030509591102\n",
      "running epoch: 55\n",
      "train_loss:  0.47118492945915047\n",
      "val_loss:  0.5811458453536034\n",
      "running epoch: 56\n",
      "train_loss:  0.46863272737833855\n",
      "val_loss:  0.5774197936058044\n",
      "running epoch: 57\n",
      "train_loss:  0.46610273017782217\n",
      "val_loss:  0.5737250402569771\n",
      "running epoch: 58\n",
      "train_loss:  0.46359515671959034\n",
      "val_loss:  0.5700618714094162\n",
      "running epoch: 59\n",
      "train_loss:  0.46111016995312604\n",
      "val_loss:  0.5664304077625275\n",
      "running epoch: 60\n",
      "train_loss:  0.4586479642035138\n",
      "val_loss:  0.5628309026360512\n",
      "running epoch: 61\n",
      "train_loss:  0.4562088188154307\n",
      "val_loss:  0.5592636346817017\n",
      "running epoch: 62\n",
      "train_loss:  0.4537928293459354\n",
      "val_loss:  0.5557288020849228\n",
      "running epoch: 63\n",
      "train_loss:  0.45140029539058385\n",
      "val_loss:  0.5522266253829002\n",
      "running epoch: 64\n",
      "train_loss:  0.44903134105468023\n",
      "val_loss:  0.5487573310732842\n",
      "running epoch: 65\n",
      "train_loss:  0.44668622062977964\n",
      "val_loss:  0.5453212395310402\n",
      "running epoch: 66\n",
      "train_loss:  0.4443651191679964\n",
      "val_loss:  0.5419184938073158\n",
      "running epoch: 67\n",
      "train_loss:  0.4420682881666812\n",
      "val_loss:  0.5385494336485863\n",
      "running epoch: 68\n",
      "train_loss:  0.43979593000201633\n",
      "val_loss:  0.5352143034338951\n",
      "running epoch: 69\n",
      "train_loss:  0.4375482072398737\n",
      "val_loss:  0.531913374364376\n",
      "running epoch: 70\n",
      "train_loss:  0.43532534257361766\n",
      "val_loss:  0.5286468043923378\n",
      "running epoch: 71\n",
      "train_loss:  0.43312754236709183\n",
      "val_loss:  0.5254149690270424\n",
      "running epoch: 72\n",
      "train_loss:  0.4309550564316524\n",
      "val_loss:  0.5222181960940361\n",
      "running epoch: 73\n",
      "train_loss:  0.4288080772737829\n",
      "val_loss:  0.5190565750002861\n",
      "running epoch: 74\n",
      "train_loss:  0.4266867228752173\n",
      "val_loss:  0.5159305885434151\n",
      "running epoch: 75\n",
      "train_loss:  0.42459128952582553\n",
      "val_loss:  0.5128403559327126\n",
      "running epoch: 76\n",
      "train_loss:  0.42252195460549935\n",
      "val_loss:  0.50978624522686\n",
      "running epoch: 77\n",
      "train_loss:  0.42047887890886904\n",
      "val_loss:  0.506768362224102\n",
      "running epoch: 78\n",
      "train_loss:  0.4184622427994684\n",
      "val_loss:  0.5037871465086937\n",
      "running epoch: 79\n",
      "train_loss:  0.41647229142848874\n",
      "val_loss:  0.5008428767323494\n",
      "running epoch: 80\n",
      "train_loss:  0.4145091769711498\n",
      "val_loss:  0.49793573170900346\n",
      "running epoch: 81\n",
      "train_loss:  0.41257296671568516\n",
      "val_loss:  0.49506599456071854\n",
      "running epoch: 82\n",
      "train_loss:  0.4106639412949475\n",
      "val_loss:  0.4922339007258415\n",
      "running epoch: 83\n",
      "train_loss:  0.40878221292229605\n",
      "val_loss:  0.48943970650434493\n",
      "running epoch: 84\n",
      "train_loss:  0.4069279349664074\n",
      "val_loss:  0.486683689057827\n",
      "running epoch: 85\n",
      "train_loss:  0.4051012614305741\n",
      "val_loss:  0.4839660570025444\n",
      "running epoch: 86\n",
      "train_loss:  0.4033022879713096\n",
      "val_loss:  0.48128705471754074\n",
      "running epoch: 87\n",
      "train_loss:  0.4015311886059883\n",
      "val_loss:  0.47864690572023394\n",
      "running epoch: 88\n",
      "train_loss:  0.3997880303102718\n",
      "val_loss:  0.4760458007454872\n",
      "running epoch: 89\n",
      "train_loss:  0.39807291362816344\n",
      "val_loss:  0.47348397225141525\n",
      "running epoch: 90\n",
      "train_loss:  0.3963859954234634\n",
      "val_loss:  0.4709615156054497\n",
      "running epoch: 91\n",
      "train_loss:  0.3947273111020582\n",
      "val_loss:  0.46847873777151106\n",
      "running epoch: 92\n",
      "train_loss:  0.39309693574753846\n",
      "val_loss:  0.466035832464695\n",
      "running epoch: 93\n",
      "train_loss:  0.3914949701691201\n",
      "val_loss:  0.46363293528556826\n",
      "running epoch: 94\n",
      "train_loss:  0.3899214421667702\n",
      "val_loss:  0.4612701088190079\n",
      "running epoch: 95\n",
      "train_loss:  0.38837636905508494\n",
      "val_loss:  0.4589476391673088\n",
      "running epoch: 96\n",
      "train_loss:  0.38685982996214746\n",
      "val_loss:  0.45666549205780027\n",
      "running epoch: 97\n",
      "train_loss:  0.385371753053222\n",
      "val_loss:  0.45442386716604233\n",
      "running epoch: 98\n",
      "train_loss:  0.3839122084296904\n",
      "val_loss:  0.4522229015827179\n",
      "running epoch: 99\n",
      "train_loss:  0.3824811439867423\n",
      "val_loss:  0.45006257891654966\n",
      "running epoch: 100\n",
      "train_loss:  0.38107852081389576\n",
      "val_loss:  0.4479429334402084\n",
      "running epoch: 101\n",
      "train_loss:  0.37970427972137427\n",
      "val_loss:  0.44586407095193864\n",
      "running epoch: 102\n",
      "train_loss:  0.3783583841098346\n",
      "val_loss:  0.44382596760988235\n",
      "running epoch: 103\n",
      "train_loss:  0.3770407004163006\n",
      "val_loss:  0.44182868897914884\n",
      "running epoch: 104\n"
     ]
    },
    {
     "name": "stdout",
     "output_type": "stream",
     "text": [
      "train_loss:  0.37575120556727337\n",
      "val_loss:  0.43987224251031876\n",
      "running epoch: 105\n",
      "train_loss:  0.37448973943115405\n",
      "val_loss:  0.43795647770166396\n",
      "running epoch: 106\n",
      "train_loss:  0.3732561642489238\n",
      "val_loss:  0.43608138859272005\n",
      "running epoch: 107\n",
      "train_loss:  0.3720503452736217\n",
      "val_loss:  0.4342468813061714\n",
      "running epoch: 108\n",
      "train_loss:  0.37087213391039836\n",
      "val_loss:  0.43245290219783783\n",
      "running epoch: 109\n",
      "train_loss:  0.3697212727514503\n",
      "val_loss:  0.43069922775030134\n",
      "running epoch: 110\n",
      "train_loss:  0.3685976856428644\n",
      "val_loss:  0.42898581326007845\n",
      "running epoch: 111\n",
      "train_loss:  0.36750103091499503\n",
      "val_loss:  0.4273124158382416\n",
      "running epoch: 112\n",
      "train_loss:  0.3664311361796311\n",
      "val_loss:  0.4256788149476051\n",
      "running epoch: 113\n",
      "train_loss:  0.36538773379933887\n",
      "val_loss:  0.42408488392829896\n",
      "running epoch: 114\n",
      "train_loss:  0.3643705634868633\n",
      "val_loss:  0.4225303366780281\n",
      "running epoch: 115\n",
      "train_loss:  0.3633792543802254\n",
      "val_loss:  0.4210148945450783\n",
      "running epoch: 116\n",
      "train_loss:  0.36241361675767414\n",
      "val_loss:  0.41953824311494825\n",
      "running epoch: 117\n",
      "train_loss:  0.3614732379672972\n",
      "val_loss:  0.41810004562139513\n",
      "running epoch: 118\n",
      "train_loss:  0.3605578561684511\n",
      "val_loss:  0.41670010089874265\n",
      "running epoch: 119\n",
      "train_loss:  0.35966712484188795\n",
      "val_loss:  0.41533799171447755\n",
      "running epoch: 120\n",
      "train_loss:  0.35880060519330714\n",
      "val_loss:  0.4140133231878281\n",
      "running epoch: 121\n",
      "train_loss:  0.3579579219657775\n",
      "val_loss:  0.41272570937871933\n",
      "running epoch: 122\n",
      "train_loss:  0.35713871325771834\n",
      "val_loss:  0.41147466450929643\n",
      "running epoch: 123\n",
      "train_loss:  0.3563425783517856\n",
      "val_loss:  0.41025975346565247\n",
      "running epoch: 124\n",
      "train_loss:  0.3555690309806177\n",
      "val_loss:  0.4090805768966675\n",
      "running epoch: 125\n",
      "train_loss:  0.3548177484372721\n",
      "val_loss:  0.4079366445541382\n",
      "running epoch: 126\n",
      "train_loss:  0.3540882252833027\n",
      "val_loss:  0.40682746320962904\n",
      "running epoch: 127\n",
      "train_loss:  0.35338001768536886\n",
      "val_loss:  0.4057524785399437\n",
      "running epoch: 128\n",
      "train_loss:  0.3526926721867004\n",
      "val_loss:  0.40471114963293076\n",
      "running epoch: 129\n",
      "train_loss:  0.35202570157274776\n",
      "val_loss:  0.40370291024446486\n",
      "running epoch: 130\n",
      "train_loss:  0.35137861843952356\n",
      "val_loss:  0.40272724330425264\n",
      "running epoch: 131\n",
      "train_loss:  0.3507509817952513\n",
      "val_loss:  0.40178359001874925\n",
      "running epoch: 132\n",
      "train_loss:  0.35014226098734097\n",
      "val_loss:  0.40087134540081026\n",
      "running epoch: 133\n",
      "train_loss:  0.349552044235293\n",
      "val_loss:  0.3999899074435234\n",
      "save\n",
      "running epoch: 134\n"
     ]
    },
    {
     "name": "stderr",
     "output_type": "stream",
     "text": [
      "/home/mmlab206/anaconda3/lib/python3.7/site-packages/torch/serialization.py:402: UserWarning: Couldn't retrieve source code for container of type ensemble. It won't be checked for correctness upon loading.\n",
      "  \"type \" + obj.__name__ + \". It won't be checked \"\n"
     ]
    },
    {
     "name": "stdout",
     "output_type": "stream",
     "text": [
      "train_loss:  0.34897977567237354\n",
      "val_loss:  0.3991386562585831\n",
      "save\n",
      "running epoch: 135\n",
      "train_loss:  0.34842498579644804\n",
      "val_loss:  0.3983169808983803\n",
      "save\n",
      "running epoch: 136\n",
      "train_loss:  0.3478871805163822\n",
      "val_loss:  0.3975242838263512\n",
      "save\n",
      "running epoch: 137\n",
      "train_loss:  0.347365858542413\n",
      "val_loss:  0.3967599257826805\n",
      "save\n",
      "running epoch: 138\n",
      "train_loss:  0.3468605700928596\n",
      "val_loss:  0.39602320194244384\n",
      "save\n",
      "running epoch: 139\n",
      "train_loss:  0.34637074782106975\n",
      "val_loss:  0.3953135386109352\n",
      "save\n",
      "running epoch: 140\n",
      "train_loss:  0.34589595958200264\n",
      "val_loss:  0.3946302756667137\n",
      "save\n",
      "running epoch: 141\n",
      "train_loss:  0.34543569719036693\n",
      "val_loss:  0.3939727321267128\n",
      "save\n",
      "running epoch: 142\n",
      "train_loss:  0.34498951480478357\n",
      "val_loss:  0.39334032982587813\n",
      "save\n",
      "running epoch: 143\n",
      "train_loss:  0.34455689037312937\n",
      "val_loss:  0.3927323654294014\n",
      "save\n",
      "running epoch: 144\n",
      "train_loss:  0.3441373916745883\n",
      "val_loss:  0.3921482786536217\n",
      "save\n",
      "running epoch: 145\n",
      "train_loss:  0.3437305735118693\n",
      "val_loss:  0.39158736616373063\n",
      "save\n",
      "running epoch: 146\n",
      "train_loss:  0.3433359466055529\n",
      "val_loss:  0.3910490393638611\n",
      "save\n",
      "running epoch: 147\n",
      "train_loss:  0.3429531028312852\n",
      "val_loss:  0.3905325949192047\n",
      "save\n",
      "running epoch: 148\n",
      "train_loss:  0.34258156442745263\n",
      "val_loss:  0.3900375157594681\n",
      "save\n",
      "running epoch: 149\n",
      "train_loss:  0.3422209382731588\n",
      "val_loss:  0.3895630717277527\n",
      "save\n",
      "running epoch: 150\n",
      "train_loss:  0.3418707963341585\n",
      "val_loss:  0.38910874873399737\n",
      "save\n",
      "running epoch: 151\n",
      "train_loss:  0.3415307618569637\n",
      "val_loss:  0.3886738821864128\n",
      "save\n",
      "running epoch: 152\n",
      "train_loss:  0.34120037539857595\n",
      "val_loss:  0.3882579281926155\n",
      "save\n",
      "running epoch: 153\n",
      "train_loss:  0.34087932004884336\n",
      "val_loss:  0.3878602534532547\n",
      "save\n",
      "running epoch: 154\n",
      "train_loss:  0.34056720185334405\n",
      "val_loss:  0.3874803587794304\n",
      "save\n",
      "running epoch: 155\n",
      "train_loss:  0.3402636086905909\n",
      "val_loss:  0.3871175840497017\n",
      "save\n",
      "running epoch: 156\n",
      "train_loss:  0.3399682413439032\n",
      "val_loss:  0.3867714643478394\n",
      "save\n",
      "running epoch: 157\n",
      "train_loss:  0.33968078438074206\n",
      "val_loss:  0.38644138276576995\n",
      "save\n",
      "running epoch: 158\n",
      "train_loss:  0.3394008589259183\n",
      "val_loss:  0.386126908659935\n",
      "save\n",
      "running epoch: 159\n",
      "train_loss:  0.3391281409085388\n",
      "val_loss:  0.3858274146914482\n",
      "save\n",
      "running epoch: 160\n",
      "train_loss:  0.3388623142330331\n",
      "val_loss:  0.3855424761772156\n",
      "save\n",
      "running epoch: 161\n",
      "train_loss:  0.3386031469898978\n",
      "val_loss:  0.38527155965566634\n",
      "save\n",
      "running epoch: 162\n",
      "train_loss:  0.33835033734821346\n",
      "val_loss:  0.38501420617103577\n",
      "save\n",
      "running epoch: 163\n",
      "train_loss:  0.338103528937977\n",
      "val_loss:  0.3847699001431465\n",
      "save\n",
      "running epoch: 164\n",
      "train_loss:  0.33786262476714\n",
      "val_loss:  0.38453823775053025\n",
      "save\n",
      "running epoch: 165\n",
      "train_loss:  0.3376272094937763\n",
      "val_loss:  0.38431874811649325\n",
      "save\n",
      "running epoch: 166\n",
      "train_loss:  0.3373970818972727\n",
      "val_loss:  0.38411100655794145\n",
      "save\n",
      "running epoch: 167\n",
      "train_loss:  0.33717207256358844\n",
      "val_loss:  0.383914615213871\n",
      "save\n",
      "running epoch: 168\n",
      "train_loss:  0.33695191773876054\n",
      "val_loss:  0.38372915983200073\n",
      "save\n",
      "running epoch: 169\n",
      "train_loss:  0.33673640616198336\n",
      "val_loss:  0.38355419635772703\n",
      "save\n",
      "running epoch: 170\n",
      "train_loss:  0.3365253297171155\n",
      "val_loss:  0.3833893954753876\n",
      "save\n",
      "running epoch: 171\n",
      "train_loss:  0.33631854797406807\n",
      "val_loss:  0.38323434740304946\n",
      "save\n",
      "running epoch: 172\n",
      "train_loss:  0.3361157866650915\n",
      "val_loss:  0.3830887198448181\n",
      "save\n",
      "running epoch: 173\n",
      "train_loss:  0.33591693527229316\n",
      "val_loss:  0.38295214921236037\n",
      "save\n",
      "running epoch: 174\n",
      "train_loss:  0.3357218528351589\n",
      "val_loss:  0.38282433301210406\n",
      "save\n",
      "running epoch: 175\n",
      "train_loss:  0.335530315021689\n",
      "val_loss:  0.3827049195766449\n",
      "save\n",
      "running epoch: 176\n",
      "train_loss:  0.3353421766847986\n",
      "val_loss:  0.38259360641241075\n",
      "save\n",
      "running epoch: 177\n",
      "train_loss:  0.3351573524639075\n",
      "val_loss:  0.38249007910490035\n",
      "save\n",
      "running epoch: 178\n",
      "train_loss:  0.3349756443209543\n",
      "val_loss:  0.38239400684833524\n",
      "save\n",
      "running epoch: 179\n",
      "train_loss:  0.3347969328723668\n",
      "val_loss:  0.3823051944375038\n",
      "save\n",
      "running epoch: 180\n",
      "train_loss:  0.3346211445405833\n",
      "val_loss:  0.3822233140468597\n",
      "save\n",
      "running epoch: 181\n",
      "train_loss:  0.33444812391100115\n",
      "val_loss:  0.38214813023805616\n",
      "save\n",
      "running epoch: 182\n",
      "train_loss:  0.334277766584562\n",
      "val_loss:  0.3820793107151985\n",
      "save\n",
      "running epoch: 183\n",
      "train_loss:  0.3341099631231673\n",
      "val_loss:  0.3820167124271393\n",
      "save\n",
      "running epoch: 184\n",
      "train_loss:  0.3339446306668133\n",
      "val_loss:  0.3819600835442543\n",
      "save\n",
      "running epoch: 185\n",
      "train_loss:  0.33378167036696305\n",
      "val_loss:  0.3819091245532036\n",
      "save\n",
      "running epoch: 186\n",
      "train_loss:  0.3336209608130621\n",
      "val_loss:  0.3818636551499367\n",
      "save\n",
      "running epoch: 187\n",
      "train_loss:  0.3334624672243682\n",
      "val_loss:  0.3818234890699387\n",
      "save\n",
      "running epoch: 188\n",
      "train_loss:  0.3333060676030703\n",
      "val_loss:  0.3817884027957916\n",
      "save\n",
      "running epoch: 189\n",
      "train_loss:  0.33315174162251454\n",
      "val_loss:  0.3817581906914711\n",
      "save\n",
      "running epoch: 190\n",
      "train_loss:  0.3329993619427498\n",
      "val_loss:  0.3817326784133911\n",
      "save\n",
      "running epoch: 191\n",
      "train_loss:  0.33284889821587343\n",
      "val_loss:  0.38171167224645614\n",
      "save\n",
      "running epoch: 192\n",
      "train_loss:  0.3327002738901534\n",
      "val_loss:  0.3816950276494026\n",
      "save\n",
      "running epoch: 193\n",
      "train_loss:  0.332553440431678\n",
      "val_loss:  0.38168250769376755\n",
      "save\n",
      "running epoch: 194\n",
      "train_loss:  0.3324083371635857\n",
      "val_loss:  0.3816740348935127\n",
      "save\n",
      "running epoch: 195\n",
      "train_loss:  0.33226487537225086\n",
      "val_loss:  0.3816693738102913\n",
      "save\n",
      "running epoch: 196\n",
      "train_loss:  0.3321230411529541\n",
      "val_loss:  0.3816684648394585\n",
      "save\n",
      "running epoch: 197\n",
      "train_loss:  0.3319827973948706\n",
      "val_loss:  0.3816711112856865\n",
      "running epoch: 198\n",
      "train_loss:  0.3318440744039093\n",
      "val_loss:  0.3816771700978279\n",
      "running epoch: 199\n",
      "train_loss:  0.3317068178683118\n",
      "val_loss:  0.38168650567531587\n",
      "running epoch: 200\n",
      "train_loss:  0.3315710390975025\n",
      "val_loss:  0.38169898092746735\n",
      "running epoch: 201\n",
      "train_loss:  0.3314366591528357\n",
      "val_loss:  0.3817145451903343\n",
      "running epoch: 202\n",
      "train_loss:  0.33130364647400823\n",
      "val_loss:  0.3817330107092857\n",
      "running epoch: 203\n",
      "train_loss:  0.33117196122229386\n",
      "val_loss:  0.3817542776465416\n",
      "running epoch: 204\n",
      "train_loss:  0.33104160631503154\n",
      "val_loss:  0.38177819103002547\n",
      "running epoch: 205\n",
      "train_loss:  0.3309124978503107\n",
      "val_loss:  0.3818047359585762\n",
      "running epoch: 206\n",
      "train_loss:  0.33078466337235746\n",
      "val_loss:  0.38183375746011733\n",
      "running epoch: 207\n",
      "train_loss:  0.33065803896492746\n",
      "val_loss:  0.38186512887477875\n",
      "running epoch: 208\n",
      "train_loss:  0.3305326011188152\n",
      "val_loss:  0.3818988502025604\n",
      "running epoch: 209\n",
      "train_loss:  0.3304083404568598\n",
      "val_loss:  0.3819347515702248\n",
      "running epoch: 210\n",
      "train_loss:  0.33028524277124155\n",
      "val_loss:  0.3819727286696434\n",
      "running epoch: 211\n",
      "train_loss:  0.3301632598500927\n",
      "val_loss:  0.38201274424791337\n",
      "running epoch: 212\n",
      "train_loss:  0.33004233870771804\n",
      "val_loss:  0.3820547416806221\n",
      "running epoch: 213\n",
      "train_loss:  0.32992253526609544\n",
      "val_loss:  0.38209860026836395\n",
      "running epoch: 214\n",
      "train_loss:  0.32980377928176485\n",
      "val_loss:  0.3821442395448685\n",
      "running epoch: 215\n",
      "train_loss:  0.329686060146221\n",
      "val_loss:  0.3821916192770004\n",
      "running epoch: 216\n",
      "train_loss:  0.3295693889983944\n",
      "val_loss:  0.3822406157851219\n",
      "running epoch: 217\n",
      "train_loss:  0.32945374329521127\n",
      "val_loss:  0.3822911664843559\n",
      "running epoch: 218\n",
      "train_loss:  0.3293390820044887\n",
      "val_loss:  0.38234330266714095\n",
      "running epoch: 219\n",
      "train_loss:  0.3292254033834007\n",
      "val_loss:  0.382396924495697\n",
      "running epoch: 220\n",
      "train_loss:  0.3291126702832351\n",
      "val_loss:  0.38245192915201187\n",
      "running epoch: 221\n",
      "train_loss:  0.3290009009278885\n",
      "val_loss:  0.38250822275877\n",
      "running epoch: 222\n",
      "train_loss:  0.3288900670911591\n",
      "val_loss:  0.3825658351182938\n",
      "running epoch: 223\n",
      "train_loss:  0.32878017945732746\n",
      "val_loss:  0.3826246470212936\n",
      "running epoch: 224\n",
      "train_loss:  0.3286712154264884\n",
      "val_loss:  0.38268466144800184\n",
      "running epoch: 225\n",
      "train_loss:  0.32856315054224855\n",
      "val_loss:  0.3827458217740059\n",
      "running epoch: 226\n",
      "train_loss:  0.328455933599626\n",
      "val_loss:  0.38280805200338364\n",
      "running epoch: 227\n",
      "train_loss:  0.3283496299924785\n",
      "val_loss:  0.3828713044524193\n",
      "running epoch: 228\n",
      "train_loss:  0.3282442146582122\n",
      "val_loss:  0.3829356238245964\n",
      "running epoch: 229\n",
      "train_loss:  0.3281396392334093\n",
      "val_loss:  0.38300086557865143\n",
      "running epoch: 230\n",
      "train_loss:  0.3280358809666145\n",
      "val_loss:  0.38306698352098467\n",
      "running epoch: 231\n"
     ]
    },
    {
     "name": "stdout",
     "output_type": "stream",
     "text": [
      "train_loss:  0.32793299303296075\n",
      "val_loss:  0.3831339657306671\n",
      "running epoch: 232\n",
      "train_loss:  0.3278309260271234\n",
      "val_loss:  0.38320178389549253\n",
      "running epoch: 233\n",
      "train_loss:  0.32772969163740195\n",
      "val_loss:  0.3832704290747643\n",
      "running epoch: 234\n",
      "train_loss:  0.3276292755233705\n",
      "val_loss:  0.38333983570337293\n",
      "running epoch: 235\n",
      "train_loss:  0.32752965858971955\n",
      "val_loss:  0.3834099233150482\n",
      "running epoch: 236\n",
      "train_loss:  0.3274308354564214\n",
      "val_loss:  0.3834807321429253\n",
      "running epoch: 237\n",
      "train_loss:  0.32733279737145915\n",
      "val_loss:  0.3835521757602692\n",
      "running epoch: 238\n",
      "train_loss:  0.3272355453577958\n",
      "val_loss:  0.3836242616176605\n",
      "running epoch: 239\n",
      "train_loss:  0.3271390872392041\n",
      "val_loss:  0.3836969807744026\n",
      "running epoch: 240\n",
      "train_loss:  0.32704335521596883\n",
      "val_loss:  0.3837702378630638\n",
      "running epoch: 241\n",
      "train_loss:  0.3269484159511796\n",
      "val_loss:  0.38384406417608263\n",
      "running epoch: 242\n",
      "train_loss:  0.3268542099424879\n",
      "val_loss:  0.38391836881637575\n",
      "running epoch: 243\n",
      "train_loss:  0.32676073503030517\n",
      "val_loss:  0.3839931935071945\n",
      "running epoch: 244\n",
      "train_loss:  0.32666803315611487\n",
      "val_loss:  0.38406845182180405\n",
      "running epoch: 245\n",
      "train_loss:  0.32657604695821335\n",
      "val_loss:  0.38414417654275895\n",
      "running epoch: 246\n",
      "train_loss:  0.3264847666047894\n",
      "val_loss:  0.3842202976346016\n",
      "running epoch: 247\n",
      "train_loss:  0.32639422884673647\n",
      "val_loss:  0.3842968255281448\n",
      "running epoch: 248\n",
      "train_loss:  0.3263044005324754\n",
      "val_loss:  0.38437373489141463\n",
      "running epoch: 249\n",
      "train_loss:  0.32621524748746417\n",
      "val_loss:  0.38445100635290147\n",
      "running epoch: 250\n",
      "train_loss:  0.32612683915952495\n",
      "val_loss:  0.3845286026597023\n",
      "running epoch: 251\n",
      "train_loss:  0.32603909460197356\n",
      "val_loss:  0.3846065178513527\n",
      "running epoch: 252\n",
      "train_loss:  0.3259520246695842\n",
      "val_loss:  0.38468469232320784\n",
      "running epoch: 253\n",
      "train_loss:  0.32586567480843576\n",
      "val_loss:  0.38476318269968035\n",
      "running epoch: 254\n",
      "train_loss:  0.3257799818979218\n",
      "val_loss:  0.38484192043542864\n",
      "running epoch: 255\n",
      "train_loss:  0.3256949410505523\n",
      "val_loss:  0.38492092192173005\n",
      "running epoch: 256\n",
      "train_loss:  0.32561058774798873\n",
      "val_loss:  0.385000142455101\n",
      "running epoch: 257\n",
      "train_loss:  0.3255268804276229\n",
      "val_loss:  0.38507956117391584\n",
      "running epoch: 258\n",
      "train_loss:  0.3254438097122938\n",
      "val_loss:  0.38515915870666506\n",
      "running epoch: 259\n",
      "train_loss:  0.32536142964854725\n",
      "val_loss:  0.3852389767765999\n",
      "running epoch: 260\n",
      "train_loss:  0.3252796357994373\n",
      "val_loss:  0.3853189334273338\n",
      "running epoch: 261\n",
      "train_loss:  0.3251985020077383\n",
      "val_loss:  0.3853990450501442\n",
      "running epoch: 262\n",
      "train_loss:  0.32511800845827793\n",
      "val_loss:  0.3854792878031731\n",
      "running epoch: 263\n",
      "train_loss:  0.325038145470795\n",
      "val_loss:  0.3855597034096718\n",
      "running epoch: 264\n",
      "train_loss:  0.324958867333998\n",
      "val_loss:  0.38564018458127974\n",
      "running epoch: 265\n",
      "train_loss:  0.32488023970695723\n",
      "val_loss:  0.3857207953929901\n",
      "running epoch: 266\n",
      "train_loss:  0.324802206250932\n",
      "val_loss:  0.38580148220062255\n",
      "running epoch: 267\n",
      "train_loss:  0.3247247782185155\n",
      "val_loss:  0.3858822286128998\n",
      "running epoch: 268\n",
      "train_loss:  0.32464795682210823\n",
      "val_loss:  0.385963074862957\n",
      "running epoch: 269\n",
      "train_loss:  0.3245717447517241\n",
      "val_loss:  0.38604395985603335\n",
      "running epoch: 270\n",
      "train_loss:  0.3244960887185678\n",
      "val_loss:  0.3861249044537544\n",
      "running epoch: 271\n",
      "train_loss:  0.3244210307398977\n",
      "val_loss:  0.3862058863043785\n",
      "running epoch: 272\n",
      "train_loss:  0.32434655850227023\n",
      "val_loss:  0.38628690838813784\n",
      "running epoch: 273\n",
      "train_loss:  0.3242726410136949\n",
      "val_loss:  0.38636793196201324\n",
      "running epoch: 274\n",
      "train_loss:  0.32419931044067524\n",
      "val_loss:  0.38644894659519197\n",
      "running epoch: 275\n",
      "train_loss:  0.32412655007481544\n",
      "val_loss:  0.3865300014615059\n",
      "running epoch: 276\n",
      "train_loss:  0.32405431405327384\n",
      "val_loss:  0.3866110146045685\n",
      "running epoch: 277\n",
      "train_loss:  0.32398268858909973\n",
      "val_loss:  0.3866920292377472\n",
      "running epoch: 278\n",
      "train_loss:  0.323911598475568\n",
      "val_loss:  0.38677300065755843\n",
      "running epoch: 279\n",
      "train_loss:  0.32384104166675276\n",
      "val_loss:  0.38685396760702134\n",
      "running epoch: 280\n",
      "train_loss:  0.32377104000480855\n",
      "val_loss:  0.3869348704814911\n",
      "running epoch: 281\n",
      "train_loss:  0.323701581081573\n",
      "val_loss:  0.387015762925148\n",
      "running epoch: 282\n",
      "train_loss:  0.32363262179999325\n",
      "val_loss:  0.38709659278392794\n",
      "running epoch: 283\n",
      "train_loss:  0.32356423454417427\n",
      "val_loss:  0.38717735558748245\n",
      "running epoch: 284\n",
      "train_loss:  0.3234963383106006\n",
      "val_loss:  0.387258043885231\n",
      "running epoch: 285\n",
      "train_loss:  0.3234289740746239\n",
      "val_loss:  0.38733867555856705\n",
      "running epoch: 286\n",
      "train_loss:  0.32336213003428205\n",
      "val_loss:  0.3874192267656326\n",
      "running epoch: 287\n",
      "train_loss:  0.32329581785893097\n",
      "val_loss:  0.3874997034668922\n",
      "running epoch: 288\n",
      "train_loss:  0.3232299717000626\n",
      "val_loss:  0.3875800773501396\n",
      "running epoch: 289\n",
      "train_loss:  0.32316464378562193\n",
      "val_loss:  0.38766039311885836\n",
      "running epoch: 290\n",
      "train_loss:  0.32309983057312586\n",
      "val_loss:  0.38774058073759077\n",
      "running epoch: 291\n",
      "train_loss:  0.3230354947244245\n",
      "val_loss:  0.3878206491470337\n",
      "running epoch: 292\n",
      "train_loss:  0.3229716746764058\n",
      "val_loss:  0.38790060579776764\n",
      "running epoch: 293\n",
      "train_loss:  0.3229083141471604\n",
      "val_loss:  0.387980492413044\n",
      "running epoch: 294\n",
      "train_loss:  0.32284543060283455\n",
      "val_loss:  0.3880602404475212\n",
      "running epoch: 295\n",
      "train_loss:  0.32278306013129004\n",
      "val_loss:  0.3881398633122444\n",
      "running epoch: 296\n",
      "train_loss:  0.322721126161851\n",
      "val_loss:  0.3882193848490715\n",
      "running epoch: 297\n",
      "train_loss:  0.32265968622671504\n",
      "val_loss:  0.3882987484335899\n",
      "running epoch: 298\n",
      "train_loss:  0.3225987110009425\n",
      "val_loss:  0.38837798237800597\n",
      "running epoch: 299\n",
      "train_loss:  0.3225382019432028\n",
      "val_loss:  0.38845706433057786\n",
      "running epoch: 300\n",
      "train_loss:  0.32247812370444084\n",
      "val_loss:  0.38853603303432466\n",
      "running epoch: 301\n",
      "train_loss:  0.32241853355164146\n",
      "val_loss:  0.38861485570669174\n",
      "running epoch: 302\n",
      "train_loss:  0.32235937851805313\n",
      "val_loss:  0.38869354128837585\n",
      "running epoch: 303\n",
      "train_loss:  0.32230067574777826\n",
      "val_loss:  0.38877205550670624\n",
      "running epoch: 304\n",
      "train_loss:  0.32224241879993865\n",
      "val_loss:  0.3888503938913345\n",
      "running epoch: 305\n",
      "train_loss:  0.32218460185880005\n",
      "val_loss:  0.38892861008644103\n",
      "running epoch: 306\n",
      "train_loss:  0.3221272080075853\n",
      "val_loss:  0.3890066474676132\n",
      "running epoch: 307\n",
      "train_loss:  0.3220702635591763\n",
      "val_loss:  0.38908453434705736\n",
      "running epoch: 308\n",
      "train_loss:  0.32201374248484754\n",
      "val_loss:  0.3891622260212898\n",
      "running epoch: 309\n",
      "train_loss:  0.3219576454286869\n",
      "val_loss:  0.38923977464437487\n",
      "running epoch: 310\n",
      "train_loss:  0.32190198370011863\n",
      "val_loss:  0.38931715339422224\n",
      "running epoch: 311\n",
      "train_loss:  0.3218467174035855\n",
      "val_loss:  0.3893943399190903\n",
      "running epoch: 312\n",
      "train_loss:  0.3217918690442736\n",
      "val_loss:  0.38947134613990786\n",
      "running epoch: 313\n",
      "train_loss:  0.3217374534172591\n",
      "val_loss:  0.38954814076423644\n",
      "running epoch: 314\n",
      "train_loss:  0.32168343265396687\n",
      "val_loss:  0.3896248057484627\n",
      "running epoch: 315\n",
      "train_loss:  0.32162981772283367\n",
      "val_loss:  0.38970126807689665\n",
      "running epoch: 316\n",
      "train_loss:  0.32157658638388575\n",
      "val_loss:  0.3897775858640671\n",
      "running epoch: 317\n",
      "train_loss:  0.3215237890464672\n",
      "val_loss:  0.38985364735126493\n",
      "running epoch: 318\n",
      "train_loss:  0.32147134860947696\n",
      "val_loss:  0.3899295523762703\n",
      "running epoch: 319\n",
      "train_loss:  0.321419302164796\n",
      "val_loss:  0.3900052681565285\n",
      "running epoch: 320\n",
      "train_loss:  0.32136767881003886\n",
      "val_loss:  0.39008078426122667\n",
      "running epoch: 321\n",
      "train_loss:  0.32131640638842585\n",
      "val_loss:  0.39015609174966814\n",
      "running epoch: 322\n",
      "train_loss:  0.321265548210001\n",
      "val_loss:  0.39023124277591703\n",
      "running epoch: 323\n",
      "train_loss:  0.3212150289543767\n",
      "val_loss:  0.3903061643242836\n",
      "running epoch: 324\n",
      "train_loss:  0.32116491960381965\n",
      "val_loss:  0.39038088619709016\n",
      "running epoch: 325\n",
      "train_loss:  0.3211151445727296\n",
      "val_loss:  0.3904554069042206\n",
      "running epoch: 326\n",
      "train_loss:  0.3210657684024951\n",
      "val_loss:  0.390529702603817\n",
      "running epoch: 327\n",
      "train_loss:  0.32101676428769643\n",
      "val_loss:  0.3906038299202919\n",
      "running epoch: 328\n",
      "train_loss:  0.3209680997208424\n",
      "val_loss:  0.3906777426600456\n",
      "running epoch: 329\n",
      "train_loss:  0.3209198040837039\n",
      "val_loss:  0.39075143337249757\n",
      "running epoch: 330\n",
      "train_loss:  0.32087185581828265\n",
      "val_loss:  0.3908249080181122\n",
      "running epoch: 331\n",
      "train_loss:  0.3208242858218504\n",
      "val_loss:  0.39089820981025697\n",
      "running epoch: 332\n"
     ]
    },
    {
     "name": "stdout",
     "output_type": "stream",
     "text": [
      "train_loss:  0.32077702548011033\n",
      "val_loss:  0.39097127616405486\n",
      "running epoch: 333\n",
      "train_loss:  0.3207301355646428\n",
      "val_loss:  0.3910441130399704\n",
      "running epoch: 334\n",
      "train_loss:  0.3206836098050635\n",
      "val_loss:  0.39111677557229996\n",
      "running epoch: 335\n",
      "train_loss:  0.320637404668613\n",
      "val_loss:  0.39118919521570206\n",
      "running epoch: 336\n",
      "train_loss:  0.3205915350450864\n",
      "val_loss:  0.3912614032626152\n",
      "running epoch: 337\n",
      "train_loss:  0.3205460301836483\n",
      "val_loss:  0.3913333788514137\n",
      "running epoch: 338\n",
      "train_loss:  0.32050083128286927\n",
      "val_loss:  0.3914051830768585\n",
      "running epoch: 339\n",
      "train_loss:  0.320455957116015\n",
      "val_loss:  0.3914767473936081\n",
      "running epoch: 340\n",
      "train_loss:  0.3204114326509604\n",
      "val_loss:  0.39154810160398484\n",
      "running epoch: 341\n",
      "train_loss:  0.3203672155294593\n",
      "val_loss:  0.3916192352771759\n",
      "running epoch: 342\n",
      "train_loss:  0.32032336510231013\n",
      "val_loss:  0.3916900992393494\n",
      "running epoch: 343\n",
      "train_loss:  0.320279783865983\n",
      "val_loss:  0.391760790348053\n",
      "running epoch: 344\n",
      "train_loss:  0.3202365355851721\n",
      "val_loss:  0.39183124899864197\n",
      "running epoch: 345\n",
      "train_loss:  0.3201936159028129\n",
      "val_loss:  0.3919015020132065\n",
      "running epoch: 346\n",
      "train_loss:  0.32015099231141414\n",
      "val_loss:  0.3919715225696564\n",
      "running epoch: 347\n",
      "train_loss:  0.3201086696037469\n",
      "val_loss:  0.39204132556915283\n",
      "running epoch: 348\n",
      "train_loss:  0.32006668856572534\n",
      "val_loss:  0.39211087822914126\n",
      "running epoch: 349\n",
      "train_loss:  0.32002498789534384\n",
      "val_loss:  0.39218025654554367\n",
      "running epoch: 350\n",
      "train_loss:  0.31998357482911854\n",
      "val_loss:  0.39224936813116074\n",
      "running epoch: 351\n",
      "train_loss:  0.3199424920283957\n",
      "val_loss:  0.39231824576854707\n",
      "running epoch: 352\n",
      "train_loss:  0.31990167858898866\n",
      "val_loss:  0.3923869088292122\n",
      "running epoch: 353\n",
      "train_loss:  0.31986119746101016\n",
      "val_loss:  0.39245532751083373\n",
      "running epoch: 354\n",
      "train_loss:  0.319820976279299\n",
      "val_loss:  0.3925235465168953\n",
      "running epoch: 355\n",
      "train_loss:  0.3197810468693711\n",
      "val_loss:  0.3925915613770485\n",
      "running epoch: 356\n",
      "train_loss:  0.3197414149522418\n",
      "val_loss:  0.39265933483839033\n",
      "running epoch: 357\n",
      "train_loss:  0.31970205512432964\n",
      "val_loss:  0.3927268847823143\n",
      "running epoch: 358\n",
      "train_loss:  0.31966299491091715\n",
      "val_loss:  0.3927941918373108\n",
      "running epoch: 359\n",
      "train_loss:  0.3196242061426341\n",
      "val_loss:  0.39286129772663114\n",
      "running epoch: 360\n",
      "train_loss:  0.31958569810192244\n",
      "val_loss:  0.39292815923690794\n",
      "running epoch: 361\n",
      "train_loss:  0.31954745192079786\n",
      "val_loss:  0.39299478828907014\n",
      "running epoch: 362\n",
      "train_loss:  0.3195095039523348\n",
      "val_loss:  0.39306118339300156\n",
      "running epoch: 363\n",
      "train_loss:  0.3194718171425397\n",
      "val_loss:  0.3931273460388184\n",
      "running epoch: 364\n",
      "train_loss:  0.3194344053582444\n",
      "val_loss:  0.3931933045387268\n",
      "running epoch: 365\n",
      "train_loss:  0.3193972385735903\n",
      "val_loss:  0.3932590276002884\n",
      "running epoch: 366\n",
      "train_loss:  0.31936036384487587\n",
      "val_loss:  0.39332450926303864\n",
      "running epoch: 367\n",
      "train_loss:  0.31932372091200223\n",
      "val_loss:  0.3933898016810417\n",
      "running epoch: 368\n",
      "train_loss:  0.31928733534904463\n",
      "val_loss:  0.3934548392891884\n",
      "running epoch: 369\n",
      "train_loss:  0.31925125159806284\n",
      "val_loss:  0.39351964741945267\n",
      "running epoch: 370\n",
      "train_loss:  0.31921539553212597\n",
      "val_loss:  0.39358424991369245\n",
      "running epoch: 371\n",
      "train_loss:  0.3191797735163373\n",
      "val_loss:  0.39364861845970156\n",
      "running epoch: 372\n",
      "train_loss:  0.3191444285151433\n",
      "val_loss:  0.39371277391910553\n",
      "running epoch: 373\n",
      "train_loss:  0.3191093289492969\n",
      "val_loss:  0.3937767058610916\n",
      "running epoch: 374\n",
      "train_loss:  0.3190744798199506\n",
      "val_loss:  0.39384035021066666\n",
      "running epoch: 375\n",
      "train_loss:  0.31903988120287935\n",
      "val_loss:  0.393903848528862\n",
      "running epoch: 376\n",
      "train_loss:  0.31900550256074306\n",
      "val_loss:  0.39396707266569136\n",
      "running epoch: 377\n",
      "train_loss:  0.3189713958562739\n",
      "val_loss:  0.39403006285429\n",
      "running epoch: 378\n",
      "train_loss:  0.31893752699070477\n",
      "val_loss:  0.3940928250551224\n",
      "running epoch: 379\n",
      "train_loss:  0.3189038714318672\n",
      "val_loss:  0.394155353307724\n",
      "running epoch: 380\n",
      "train_loss:  0.3188704674840428\n",
      "val_loss:  0.3942176714539528\n",
      "running epoch: 381\n",
      "train_loss:  0.31883731916330865\n",
      "val_loss:  0.39427975863218306\n",
      "running epoch: 382\n",
      "train_loss:  0.31880436958155495\n",
      "val_loss:  0.3943416178226471\n",
      "running epoch: 383\n",
      "train_loss:  0.3187716642985234\n",
      "val_loss:  0.3944032609462738\n",
      "running epoch: 384\n",
      "train_loss:  0.31873918039226484\n",
      "val_loss:  0.39446465373039247\n",
      "running epoch: 385\n",
      "train_loss:  0.3187069425275542\n",
      "val_loss:  0.39452585726976397\n",
      "running epoch: 386\n",
      "train_loss:  0.3186749036102055\n",
      "val_loss:  0.3945868119597435\n",
      "running epoch: 387\n",
      "train_loss:  0.31864311098067355\n",
      "val_loss:  0.39464756548404695\n",
      "running epoch: 388\n",
      "train_loss:  0.31861153923537694\n",
      "val_loss:  0.39470808058977125\n",
      "running epoch: 389\n",
      "train_loss:  0.31858017282148915\n",
      "val_loss:  0.3947683498263359\n",
      "running epoch: 390\n",
      "train_loss:  0.31854902744338676\n",
      "val_loss:  0.39482840746641157\n",
      "running epoch: 391\n",
      "train_loss:  0.3185181055827023\n",
      "val_loss:  0.3948882415890694\n",
      "running epoch: 392\n",
      "train_loss:  0.3184874066142917\n",
      "val_loss:  0.39494787007570265\n",
      "running epoch: 393\n",
      "train_loss:  0.31845688584982634\n",
      "val_loss:  0.395007261633873\n",
      "running epoch: 394\n",
      "train_loss:  0.31842660332208006\n",
      "val_loss:  0.3950664237141609\n",
      "running epoch: 395\n",
      "train_loss:  0.3183965176768258\n",
      "val_loss:  0.39512537568807604\n",
      "running epoch: 396\n",
      "train_loss:  0.3183666564204024\n",
      "val_loss:  0.395184101164341\n",
      "running epoch: 397\n",
      "train_loss:  0.31833699265267146\n",
      "val_loss:  0.39524260312318804\n",
      "running epoch: 398\n",
      "train_loss:  0.31830752565377\n",
      "val_loss:  0.3953008860349655\n",
      "running epoch: 399\n",
      "train_loss:  0.3182782721699815\n",
      "val_loss:  0.39535894691944123\n",
      "running epoch: 400\n",
      "train_loss:  0.3182492163074917\n",
      "val_loss:  0.3954167827963829\n",
      "running epoch: 401\n",
      "train_loss:  0.3182203634842158\n",
      "val_loss:  0.39547440111637117\n",
      "running epoch: 402\n",
      "train_loss:  0.31819169674548914\n",
      "val_loss:  0.3955318033695221\n",
      "running epoch: 403\n",
      "train_loss:  0.3181632276280612\n",
      "val_loss:  0.39558896869421006\n",
      "running epoch: 404\n",
      "train_loss:  0.3181349670056499\n",
      "val_loss:  0.3956459626555443\n",
      "running epoch: 405\n",
      "train_loss:  0.3181068955556206\n",
      "val_loss:  0.39570272266864776\n",
      "running epoch: 406\n",
      "train_loss:  0.31807901125099103\n",
      "val_loss:  0.3957592472434044\n",
      "running epoch: 407\n",
      "train_loss:  0.3180513025739555\n",
      "val_loss:  0.3958155572414398\n",
      "running epoch: 408\n",
      "train_loss:  0.3180238059723071\n",
      "val_loss:  0.3958716407418251\n",
      "running epoch: 409\n",
      "train_loss:  0.31799651648278093\n",
      "val_loss:  0.39592752903699874\n",
      "running epoch: 410\n",
      "train_loss:  0.31796936479016114\n",
      "val_loss:  0.3959832042455673\n",
      "running epoch: 411\n",
      "train_loss:  0.31794242235030834\n",
      "val_loss:  0.396038655936718\n",
      "running epoch: 412\n",
      "train_loss:  0.3179156467860326\n",
      "val_loss:  0.3960938900709152\n",
      "running epoch: 413\n",
      "train_loss:  0.3178890708510942\n",
      "val_loss:  0.39614888429641726\n",
      "running epoch: 414\n",
      "train_loss:  0.3178626873089768\n",
      "val_loss:  0.3962036997079849\n",
      "running epoch: 415\n",
      "train_loss:  0.3178364632543704\n",
      "val_loss:  0.3962583109736443\n",
      "running epoch: 416\n",
      "train_loss:  0.3178104169111715\n",
      "val_loss:  0.39631270319223405\n",
      "running epoch: 417\n",
      "train_loss:  0.31778454583563515\n",
      "val_loss:  0.39636685848236086\n",
      "running epoch: 418\n",
      "train_loss:  0.3177588501414239\n",
      "val_loss:  0.3964207857847214\n",
      "running epoch: 419\n",
      "train_loss:  0.31773333969823647\n",
      "val_loss:  0.3964745596051216\n",
      "running epoch: 420\n",
      "train_loss:  0.31770798071040596\n",
      "val_loss:  0.3965280964970589\n",
      "running epoch: 421\n",
      "train_loss:  0.3176828081291685\n",
      "val_loss:  0.3965814158320427\n",
      "running epoch: 422\n",
      "train_loss:  0.3176578007943449\n",
      "val_loss:  0.39663451313972475\n",
      "running epoch: 423\n",
      "train_loss:  0.31763295870593505\n",
      "val_loss:  0.3966874286532402\n",
      "running epoch: 424\n",
      "train_loss:  0.3176082719374091\n",
      "val_loss:  0.39674014151096343\n",
      "running epoch: 425\n",
      "train_loss:  0.317583772143789\n",
      "val_loss:  0.3967926353216171\n",
      "running epoch: 426\n",
      "train_loss:  0.3175594417831536\n",
      "val_loss:  0.3968449130654335\n",
      "running epoch: 427\n",
      "train_loss:  0.31753523980437603\n",
      "val_loss:  0.3968970075249672\n",
      "running epoch: 428\n",
      "train_loss:  0.3175112077890084\n",
      "val_loss:  0.3969488576054573\n",
      "running epoch: 429\n",
      "train_loss:  0.31748737904017976\n",
      "val_loss:  0.3970005065202713\n",
      "running epoch: 430\n",
      "train_loss:  0.31746368083279763\n",
      "val_loss:  0.3970519408583641\n",
      "running epoch: 431\n",
      "train_loss:  0.3174401354068356\n",
      "val_loss:  0.3971032276749611\n",
      "running epoch: 432\n",
      "train_loss:  0.31741672982370583\n",
      "val_loss:  0.39715428501367567\n",
      "running epoch: 433\n"
     ]
    },
    {
     "name": "stdout",
     "output_type": "stream",
     "text": [
      "train_loss:  0.31739350420629103\n",
      "val_loss:  0.3972050935029984\n",
      "running epoch: 434\n",
      "train_loss:  0.3173704548226705\n",
      "val_loss:  0.39725575745105746\n",
      "running epoch: 435\n",
      "train_loss:  0.3173475232881776\n",
      "val_loss:  0.39730617552995684\n",
      "running epoch: 436\n",
      "train_loss:  0.31732474733878113\n",
      "val_loss:  0.397356404364109\n",
      "running epoch: 437\n",
      "train_loss:  0.317302125023274\n",
      "val_loss:  0.3974064365029335\n",
      "running epoch: 438\n",
      "train_loss:  0.3172796724817391\n",
      "val_loss:  0.39745631217956545\n",
      "running epoch: 439\n",
      "train_loss:  0.31725731818254077\n",
      "val_loss:  0.3975059360265732\n",
      "running epoch: 440\n",
      "train_loss:  0.31723515572679456\n",
      "val_loss:  0.3975553780794144\n",
      "running epoch: 441\n",
      "train_loss:  0.3172131402177905\n",
      "val_loss:  0.39760459363460543\n",
      "running epoch: 442\n",
      "train_loss:  0.31719126538514425\n",
      "val_loss:  0.397653628885746\n",
      "running epoch: 443\n",
      "train_loss:  0.3171695179303366\n",
      "val_loss:  0.39770248383283613\n",
      "running epoch: 444\n",
      "train_loss:  0.31714793610081793\n",
      "val_loss:  0.39775112867355344\n",
      "running epoch: 445\n",
      "train_loss:  0.31712647695108553\n",
      "val_loss:  0.39779957234859464\n",
      "running epoch: 446\n",
      "train_loss:  0.31710516876417233\n",
      "val_loss:  0.39784781634807587\n",
      "running epoch: 447\n",
      "train_loss:  0.3170840027312301\n",
      "val_loss:  0.39789587557315825\n",
      "running epoch: 448\n",
      "train_loss:  0.31706297072538614\n",
      "val_loss:  0.39794373214244844\n",
      "running epoch: 449\n",
      "train_loss:  0.31704206105834076\n",
      "val_loss:  0.39799138605594636\n",
      "running epoch: 450\n",
      "train_loss:  0.31702131578523995\n",
      "val_loss:  0.3980388715863228\n",
      "running epoch: 451\n",
      "train_loss:  0.31700070658516344\n",
      "val_loss:  0.39808614552021027\n",
      "running epoch: 452\n",
      "train_loss:  0.31698022792653335\n",
      "val_loss:  0.39813322275877\n",
      "running epoch: 453\n",
      "train_loss:  0.3169598411830242\n",
      "val_loss:  0.39818013906478883\n",
      "running epoch: 454\n",
      "train_loss:  0.31693965081052566\n",
      "val_loss:  0.3982268437743187\n",
      "running epoch: 455\n",
      "train_loss:  0.31691955752479434\n",
      "val_loss:  0.3982733428478241\n",
      "running epoch: 456\n",
      "train_loss:  0.3168996073591658\n",
      "val_loss:  0.3983196929097176\n",
      "running epoch: 457\n",
      "train_loss:  0.3168797763118967\n",
      "val_loss:  0.39836582243442537\n",
      "running epoch: 458\n",
      "train_loss:  0.31686004970157355\n",
      "val_loss:  0.39841176867485045\n",
      "running epoch: 459\n",
      "train_loss:  0.31684050593641677\n",
      "val_loss:  0.3984575316309929\n",
      "running epoch: 460\n",
      "train_loss:  0.31682106816159417\n",
      "val_loss:  0.39850312769412993\n",
      "running epoch: 461\n",
      "train_loss:  0.3168017444282035\n",
      "val_loss:  0.39854848235845564\n",
      "running epoch: 462\n",
      "train_loss:  0.3167825351530076\n",
      "val_loss:  0.3985936760902405\n",
      "running epoch: 463\n",
      "train_loss:  0.31676348295946505\n",
      "val_loss:  0.3986386865377426\n",
      "running epoch: 464\n",
      "train_loss:  0.3167445403745148\n",
      "val_loss:  0.3986835300922394\n",
      "running epoch: 465\n",
      "train_loss:  0.3167257115089527\n",
      "val_loss:  0.39872817844152453\n",
      "running epoch: 466\n",
      "train_loss:  0.3167070076532592\n",
      "val_loss:  0.3987726360559464\n",
      "running epoch: 467\n",
      "train_loss:  0.316688422461275\n",
      "val_loss:  0.39881693571805954\n",
      "running epoch: 468\n",
      "train_loss:  0.31666996606791137\n",
      "val_loss:  0.3988610416650772\n",
      "running epoch: 469\n",
      "train_loss:  0.31665161954835264\n",
      "val_loss:  0.39890495538711546\n",
      "running epoch: 470\n",
      "train_loss:  0.3166333889077706\n",
      "val_loss:  0.39894869476556777\n",
      "running epoch: 471\n",
      "train_loss:  0.31661528231092545\n",
      "val_loss:  0.3989922419190407\n",
      "running epoch: 472\n",
      "train_loss:  0.316597303641288\n",
      "val_loss:  0.3990356147289276\n",
      "running epoch: 473\n",
      "train_loss:  0.3165794293517652\n",
      "val_loss:  0.39907883256673815\n",
      "running epoch: 474\n",
      "train_loss:  0.3165616635720966\n",
      "val_loss:  0.3991218537092209\n",
      "running epoch: 475\n",
      "train_loss:  0.3165440274056302\n",
      "val_loss:  0.3991646870970726\n",
      "running epoch: 476\n",
      "train_loss:  0.31652648228287183\n",
      "val_loss:  0.39920736849308014\n",
      "running epoch: 477\n",
      "train_loss:  0.3165090555964976\n",
      "val_loss:  0.39924985319375994\n",
      "running epoch: 478\n",
      "train_loss:  0.31649174772538274\n",
      "val_loss:  0.39929217249155047\n",
      "running epoch: 479\n",
      "train_loss:  0.31647455319478074\n",
      "val_loss:  0.3993343099951744\n",
      "running epoch: 480\n",
      "train_loss:  0.3164574633663373\n",
      "val_loss:  0.39937629401683805\n",
      "running epoch: 481\n",
      "train_loss:  0.31644047820216487\n",
      "val_loss:  0.3994180768728256\n",
      "running epoch: 482\n",
      "train_loss:  0.3164236020972157\n",
      "val_loss:  0.399459670484066\n",
      "running epoch: 483\n",
      "train_loss:  0.31640682084367017\n",
      "val_loss:  0.3995011195540428\n",
      "running epoch: 484\n",
      "train_loss:  0.31639016501675604\n",
      "val_loss:  0.3995423838496208\n",
      "running epoch: 485\n",
      "train_loss:  0.3163736240458555\n",
      "val_loss:  0.3995834976434708\n",
      "running epoch: 486\n",
      "train_loss:  0.3163571669010906\n",
      "val_loss:  0.39962444454431534\n",
      "running epoch: 487\n",
      "train_loss:  0.3163408162770852\n",
      "val_loss:  0.3996651768684387\n",
      "running epoch: 488\n",
      "train_loss:  0.3163245627777346\n",
      "val_loss:  0.3997057467699051\n",
      "running epoch: 489\n",
      "train_loss:  0.31630845444441263\n",
      "val_loss:  0.3997461751103401\n",
      "running epoch: 490\n",
      "train_loss:  0.3162924015784185\n",
      "val_loss:  0.39978647232055664\n",
      "running epoch: 491\n",
      "train_loss:  0.31627645762009743\n",
      "val_loss:  0.3998265266418457\n",
      "running epoch: 492\n",
      "train_loss:  0.31626062880194644\n",
      "val_loss:  0.39986641258001326\n",
      "running epoch: 493\n",
      "train_loss:  0.31624489805563816\n",
      "val_loss:  0.39990619122982024\n",
      "running epoch: 494\n",
      "train_loss:  0.31622925244258493\n",
      "val_loss:  0.3999458193778992\n",
      "running epoch: 495\n",
      "train_loss:  0.3162136951074508\n",
      "val_loss:  0.39998524636030197\n",
      "running epoch: 496\n",
      "train_loss:  0.31619825130226714\n",
      "val_loss:  0.40002447217702863\n",
      "running epoch: 497\n",
      "train_loss:  0.3161829327721648\n",
      "val_loss:  0.40006356686353683\n",
      "running epoch: 498\n",
      "train_loss:  0.31616769537818423\n",
      "val_loss:  0.4001025065779686\n",
      "running epoch: 499\n",
      "train_loss:  0.31615252631434404\n",
      "val_loss:  0.40014128386974335\n",
      "running epoch: 500\n",
      "train_loss:  0.3161374799492339\n",
      "val_loss:  0.40017992109060285\n",
      "running epoch: 501\n",
      "train_loss:  0.31612249655318025\n",
      "val_loss:  0.4002183586359024\n",
      "running epoch: 502\n",
      "train_loss:  0.31610764275138503\n",
      "val_loss:  0.4002566382288933\n",
      "running epoch: 503\n",
      "train_loss:  0.31609284494734285\n",
      "val_loss:  0.4002947732806206\n",
      "running epoch: 504\n",
      "train_loss:  0.31607816840230496\n",
      "val_loss:  0.40033273994922636\n",
      "running epoch: 505\n",
      "train_loss:  0.3160635646581347\n",
      "val_loss:  0.40037055164575575\n",
      "running epoch: 506\n",
      "train_loss:  0.31604905195767236\n",
      "val_loss:  0.4004081845283508\n",
      "running epoch: 507\n",
      "train_loss:  0.3160346686051997\n",
      "val_loss:  0.40044570416212083\n",
      "running epoch: 508\n",
      "train_loss:  0.3160203448876818\n",
      "val_loss:  0.4004830434918404\n",
      "running epoch: 509\n",
      "train_loss:  0.3160060916598929\n",
      "val_loss:  0.4005202427506447\n",
      "running epoch: 510\n",
      "train_loss:  0.3159919382657163\n",
      "val_loss:  0.40055725872516634\n",
      "running epoch: 511\n",
      "train_loss:  0.31597789779528995\n",
      "val_loss:  0.40059415102005\n",
      "running epoch: 512\n",
      "train_loss:  0.3159639248404223\n",
      "val_loss:  0.4006308659911156\n",
      "running epoch: 513\n",
      "train_loss:  0.3159500482145715\n",
      "val_loss:  0.4006674408912659\n",
      "running epoch: 514\n",
      "train_loss:  0.3159362473637585\n",
      "val_loss:  0.40070385336875913\n",
      "running epoch: 515\n",
      "train_loss:  0.3159225165101368\n",
      "val_loss:  0.4007400795817375\n",
      "running epoch: 516\n",
      "train_loss:  0.31590890659347554\n",
      "val_loss:  0.4007761850953102\n",
      "running epoch: 517\n",
      "train_loss:  0.31589536169179666\n",
      "val_loss:  0.4008121684193611\n",
      "running epoch: 518\n",
      "train_loss:  0.31588188970464803\n",
      "val_loss:  0.4008479505777359\n",
      "running epoch: 519\n",
      "train_loss:  0.3158685183656934\n",
      "val_loss:  0.4008835986256599\n",
      "running epoch: 520\n",
      "train_loss:  0.3158552380325592\n",
      "val_loss:  0.4009190991520882\n",
      "running epoch: 521\n",
      "train_loss:  0.3158420168607859\n",
      "val_loss:  0.40095449090003965\n",
      "running epoch: 522\n",
      "train_loss:  0.315828875271746\n",
      "val_loss:  0.40098967403173447\n",
      "running epoch: 523\n",
      "train_loss:  0.31581582326774466\n",
      "val_loss:  0.40102471560239794\n",
      "running epoch: 524\n",
      "train_loss:  0.3158028621937887\n",
      "val_loss:  0.40105965584516523\n",
      "running epoch: 525\n",
      "train_loss:  0.3157899688058854\n",
      "val_loss:  0.4010944440960884\n",
      "running epoch: 526\n",
      "train_loss:  0.3157771427062156\n",
      "val_loss:  0.40112906843423846\n",
      "running epoch: 527\n",
      "train_loss:  0.31576440488446494\n",
      "val_loss:  0.40116351991891863\n",
      "running epoch: 528\n",
      "train_loss:  0.31575174939229295\n",
      "val_loss:  0.4011978477239609\n",
      "running epoch: 529\n",
      "train_loss:  0.3157391896797687\n",
      "val_loss:  0.40123202204704284\n",
      "running epoch: 530\n",
      "train_loss:  0.31572669416764537\n",
      "val_loss:  0.4012660712003708\n",
      "running epoch: 531\n",
      "train_loss:  0.3157142650912865\n",
      "val_loss:  0.40129995793104173\n",
      "running epoch: 532\n",
      "train_loss:  0.3157019072813506\n",
      "val_loss:  0.4013337269425392\n",
      "running epoch: 533\n",
      "train_loss:  0.31568961927916844\n",
      "val_loss:  0.40136735439300536\n",
      "running epoch: 534\n"
     ]
    },
    {
     "name": "stdout",
     "output_type": "stream",
     "text": [
      "train_loss:  0.3156774179636295\n",
      "val_loss:  0.40140083283185957\n",
      "running epoch: 535\n",
      "train_loss:  0.31566530619524164\n",
      "val_loss:  0.4014341324567795\n",
      "running epoch: 536\n",
      "train_loss:  0.3156532635336882\n",
      "val_loss:  0.4014673486351967\n",
      "running epoch: 537\n",
      "train_loss:  0.3156412982573923\n",
      "val_loss:  0.40150035470724105\n",
      "running epoch: 538\n",
      "train_loss:  0.31562939814762886\n",
      "val_loss:  0.4015332579612732\n",
      "running epoch: 539\n",
      "train_loss:  0.31561757587777306\n",
      "val_loss:  0.40156601518392565\n",
      "running epoch: 540\n",
      "train_loss:  0.3156058040362049\n",
      "val_loss:  0.4015986815094948\n",
      "running epoch: 541\n",
      "train_loss:  0.31559409664130655\n",
      "val_loss:  0.40163118690252303\n",
      "running epoch: 542\n",
      "train_loss:  0.31558248047955373\n",
      "val_loss:  0.4016635537147522\n",
      "running epoch: 543\n",
      "train_loss:  0.31557094035805133\n",
      "val_loss:  0.4016957595944405\n",
      "running epoch: 544\n",
      "train_loss:  0.3155594473875663\n",
      "val_loss:  0.4017278358340263\n",
      "running epoch: 545\n",
      "train_loss:  0.31554804803714054\n",
      "val_loss:  0.40175979137420653\n",
      "running epoch: 546\n",
      "train_loss:  0.31553670940146383\n",
      "val_loss:  0.4017916157841682\n",
      "running epoch: 547\n",
      "train_loss:  0.31552544100924723\n",
      "val_loss:  0.40182330161333085\n",
      "running epoch: 548\n",
      "train_loss:  0.3155142242387752\n",
      "val_loss:  0.4018548488616943\n",
      "running epoch: 549\n",
      "train_loss:  0.31550309786792324\n",
      "val_loss:  0.40188624411821366\n",
      "running epoch: 550\n",
      "train_loss:  0.31549203262858316\n",
      "val_loss:  0.4019175201654434\n",
      "running epoch: 551\n",
      "train_loss:  0.31548104570274466\n",
      "val_loss:  0.4019487097859383\n",
      "running epoch: 552\n",
      "train_loss:  0.31547009999852677\n",
      "val_loss:  0.40197977870702745\n",
      "running epoch: 553\n",
      "train_loss:  0.3154591890750512\n",
      "val_loss:  0.40201069563627245\n",
      "running epoch: 554\n",
      "train_loss:  0.31544838789277424\n",
      "val_loss:  0.4020414426922798\n",
      "running epoch: 555\n",
      "train_loss:  0.3154376565182509\n",
      "val_loss:  0.4020720571279526\n",
      "running epoch: 556\n",
      "train_loss:  0.31542700076721536\n",
      "val_loss:  0.4021025449037552\n",
      "running epoch: 557\n",
      "train_loss:  0.31541639574756763\n",
      "val_loss:  0.40213293880224227\n",
      "running epoch: 558\n",
      "train_loss:  0.3154058490557553\n",
      "val_loss:  0.4021631836891174\n",
      "running epoch: 559\n",
      "train_loss:  0.31539536055917206\n",
      "val_loss:  0.4021933063864708\n",
      "running epoch: 560\n",
      "train_loss:  0.3153849303525367\n",
      "val_loss:  0.40222329944372176\n",
      "running epoch: 561\n",
      "train_loss:  0.31537456726364105\n",
      "val_loss:  0.40225315392017363\n",
      "running epoch: 562\n",
      "train_loss:  0.3153642870915806\n",
      "val_loss:  0.4022829070687294\n",
      "running epoch: 563\n",
      "train_loss:  0.31535404147293744\n",
      "val_loss:  0.40231255292892454\n",
      "running epoch: 564\n",
      "train_loss:  0.31534385982736995\n",
      "val_loss:  0.40234203785657885\n",
      "running epoch: 565\n",
      "train_loss:  0.315333743196785\n",
      "val_loss:  0.40237139761447904\n",
      "running epoch: 566\n",
      "train_loss:  0.3153236811242272\n",
      "val_loss:  0.40240064412355425\n",
      "running epoch: 567\n",
      "train_loss:  0.3153136910190117\n",
      "val_loss:  0.4024297773838043\n",
      "running epoch: 568\n",
      "train_loss:  0.31530375520661075\n",
      "val_loss:  0.4024587795138359\n",
      "running epoch: 569\n",
      "train_loss:  0.315293883802992\n",
      "val_loss:  0.40248762518167497\n",
      "running epoch: 570\n",
      "train_loss:  0.3152840772059744\n",
      "val_loss:  0.4025163695216179\n",
      "running epoch: 571\n",
      "train_loss:  0.31527432281795786\n",
      "val_loss:  0.4025449827313423\n",
      "running epoch: 572\n",
      "train_loss:  0.3152646375746634\n",
      "val_loss:  0.4025735273957253\n",
      "running epoch: 573\n",
      "train_loss:  0.31525496655813223\n",
      "val_loss:  0.40260195434093476\n",
      "running epoch: 574\n",
      "train_loss:  0.31524535220238564\n",
      "val_loss:  0.40263025015592574\n",
      "running epoch: 575\n",
      "train_loss:  0.31523583093627305\n",
      "val_loss:  0.4026583760976791\n",
      "running epoch: 576\n",
      "train_loss:  0.3152263694756091\n",
      "val_loss:  0.4026864096522331\n",
      "running epoch: 577\n",
      "train_loss:  0.3152169566435757\n",
      "val_loss:  0.402714329957962\n",
      "running epoch: 578\n",
      "train_loss:  0.3152075892576212\n",
      "val_loss:  0.40274210572242736\n",
      "running epoch: 579\n",
      "train_loss:  0.31519826871958395\n",
      "val_loss:  0.4027698040008545\n",
      "running epoch: 580\n",
      "train_loss:  0.31518901154842205\n",
      "val_loss:  0.4027973681688309\n",
      "running epoch: 581\n",
      "train_loss:  0.31517982865574096\n",
      "val_loss:  0.4028248354792595\n",
      "running epoch: 582\n",
      "train_loss:  0.3151706993170679\n",
      "val_loss:  0.40285216420888903\n",
      "running epoch: 583\n",
      "train_loss:  0.3151616228314838\n",
      "val_loss:  0.4028793826699257\n",
      "running epoch: 584\n",
      "train_loss:  0.31515256966566757\n",
      "val_loss:  0.4029064759612083\n",
      "running epoch: 585\n",
      "train_loss:  0.3151435931463021\n",
      "val_loss:  0.40293345004320147\n",
      "running epoch: 586\n",
      "train_loss:  0.31513465387036776\n",
      "val_loss:  0.402960342168808\n",
      "running epoch: 587\n",
      "train_loss:  0.3151257811059729\n",
      "val_loss:  0.4029871359467506\n",
      "running epoch: 588\n",
      "train_loss:  0.3151169370034861\n",
      "val_loss:  0.4030137896537781\n",
      "running epoch: 589\n",
      "train_loss:  0.3151081566846374\n",
      "val_loss:  0.4030403450131416\n",
      "running epoch: 590\n",
      "train_loss:  0.31509944265000306\n",
      "val_loss:  0.40306675583124163\n",
      "running epoch: 591\n",
      "train_loss:  0.3150907789110501\n",
      "val_loss:  0.40309307128190996\n",
      "running epoch: 592\n",
      "train_loss:  0.315082145501056\n",
      "val_loss:  0.40311926752328875\n",
      "running epoch: 593\n",
      "train_loss:  0.3150736031726575\n",
      "val_loss:  0.4031453415751457\n",
      "running epoch: 594\n",
      "train_loss:  0.3150650831600076\n",
      "val_loss:  0.40317136943340304\n",
      "running epoch: 595\n",
      "train_loss:  0.31505658760375116\n",
      "val_loss:  0.4031972482800484\n",
      "running epoch: 596\n",
      "train_loss:  0.31504816376856803\n",
      "val_loss:  0.4032229945063591\n",
      "running epoch: 597\n",
      "train_loss:  0.31503981231748984\n",
      "val_loss:  0.4032486602663994\n",
      "running epoch: 598\n",
      "train_loss:  0.31503149314657775\n",
      "val_loss:  0.4032742276787758\n",
      "running epoch: 599\n",
      "train_loss:  0.3150232025239112\n",
      "val_loss:  0.40329968482255935\n",
      "running epoch: 600\n",
      "train_loss:  0.3150149777308087\n",
      "val_loss:  0.40332504361867905\n",
      "running epoch: 601\n",
      "train_loss:  0.31500678955599337\n",
      "val_loss:  0.4033502861857414\n",
      "running epoch: 602\n",
      "train_loss:  0.3149986659415102\n",
      "val_loss:  0.40337540209293365\n",
      "running epoch: 603\n",
      "train_loss:  0.3149905839085791\n",
      "val_loss:  0.40340042263269427\n",
      "running epoch: 604\n",
      "train_loss:  0.3149825553728247\n",
      "val_loss:  0.4034253343939781\n",
      "running epoch: 605\n",
      "train_loss:  0.31497455368037747\n",
      "val_loss:  0.40345019549131395\n",
      "running epoch: 606\n",
      "train_loss:  0.31496660537144444\n",
      "val_loss:  0.40347486883401873\n",
      "running epoch: 607\n",
      "train_loss:  0.31495870688459876\n",
      "val_loss:  0.40349949300289156\n",
      "running epoch: 608\n",
      "train_loss:  0.3149508667255885\n",
      "val_loss:  0.40352398008108137\n",
      "running epoch: 609\n",
      "train_loss:  0.3149430598318198\n",
      "val_loss:  0.4035483881831169\n",
      "running epoch: 610\n",
      "train_loss:  0.3149353121562432\n",
      "val_loss:  0.40357269793748857\n",
      "running epoch: 611\n",
      "train_loss:  0.31492758660697767\n",
      "val_loss:  0.403596918284893\n",
      "running epoch: 612\n",
      "train_loss:  0.31491989655831737\n",
      "val_loss:  0.403621019423008\n",
      "running epoch: 613\n",
      "train_loss:  0.314912272907534\n",
      "val_loss:  0.40364501178264617\n",
      "running epoch: 614\n",
      "train_loss:  0.3149046895880145\n",
      "val_loss:  0.4036688968539238\n",
      "running epoch: 615\n",
      "train_loss:  0.3148971440802389\n",
      "val_loss:  0.4036927089095116\n",
      "running epoch: 616\n",
      "train_loss:  0.31488963949098375\n",
      "val_loss:  0.403716379404068\n",
      "running epoch: 617\n",
      "train_loss:  0.31488218716756095\n",
      "val_loss:  0.4037399634718895\n",
      "running epoch: 618\n",
      "train_loss:  0.3148747866174328\n",
      "val_loss:  0.4037634491920471\n",
      "running epoch: 619\n",
      "train_loss:  0.3148674254324368\n",
      "val_loss:  0.4037868708372116\n",
      "running epoch: 620\n",
      "train_loss:  0.31486010939041953\n",
      "val_loss:  0.40381018072366714\n",
      "running epoch: 621\n",
      "train_loss:  0.3148528103220108\n",
      "val_loss:  0.40383340120315553\n",
      "running epoch: 622\n",
      "train_loss:  0.3148455599390639\n",
      "val_loss:  0.40385652631521224\n",
      "running epoch: 623\n",
      "train_loss:  0.31483836593274517\n",
      "val_loss:  0.4038795456290245\n",
      "running epoch: 624\n",
      "train_loss:  0.31483120513483676\n",
      "val_loss:  0.40390242636203766\n",
      "running epoch: 625\n",
      "train_loss:  0.314824093742253\n",
      "val_loss:  0.4039252743124962\n",
      "running epoch: 626\n",
      "train_loss:  0.3148170298985055\n",
      "val_loss:  0.4039479777216911\n",
      "running epoch: 627\n",
      "train_loss:  0.3148099926707401\n",
      "val_loss:  0.40397063493728635\n",
      "running epoch: 628\n",
      "train_loss:  0.314803001722579\n",
      "val_loss:  0.40399317890405656\n",
      "running epoch: 629\n",
      "train_loss:  0.31479603030543396\n",
      "val_loss:  0.40401563346385955\n",
      "running epoch: 630\n",
      "train_loss:  0.3147891053194434\n",
      "val_loss:  0.4040379524230957\n",
      "running epoch: 631\n",
      "train_loss:  0.3147822250217813\n",
      "val_loss:  0.40406021326780317\n",
      "running epoch: 632\n",
      "train_loss:  0.31477539369373747\n",
      "val_loss:  0.40408234149217603\n",
      "running epoch: 633\n",
      "train_loss:  0.31476860794437894\n",
      "val_loss:  0.4041044130921364\n",
      "running epoch: 634\n",
      "train_loss:  0.3147618582071071\n",
      "val_loss:  0.40412641912698744\n",
      "running epoch: 635\n"
     ]
    },
    {
     "name": "stdout",
     "output_type": "stream",
     "text": [
      "train_loss:  0.314755118964678\n",
      "val_loss:  0.40414829552173615\n",
      "running epoch: 636\n",
      "train_loss:  0.3147484431270119\n",
      "val_loss:  0.4041700974106789\n",
      "running epoch: 637\n",
      "train_loss:  0.31474179166996413\n",
      "val_loss:  0.4041917994618416\n",
      "running epoch: 638\n",
      "train_loss:  0.3147351944110123\n",
      "val_loss:  0.4042134404182434\n",
      "running epoch: 639\n",
      "train_loss:  0.3147286173271642\n",
      "val_loss:  0.4042349919676781\n",
      "running epoch: 640\n",
      "train_loss:  0.31472207045861245\n",
      "val_loss:  0.40425641685724256\n",
      "running epoch: 641\n",
      "train_loss:  0.3147155608145481\n",
      "val_loss:  0.40427776575088503\n",
      "running epoch: 642\n",
      "train_loss:  0.31470912355458863\n",
      "val_loss:  0.4042989909648895\n",
      "running epoch: 643\n",
      "train_loss:  0.3147027041207068\n",
      "val_loss:  0.404320153594017\n",
      "running epoch: 644\n",
      "train_loss:  0.31469630959786865\n",
      "val_loss:  0.4043412506580353\n",
      "running epoch: 645\n",
      "train_loss:  0.31468996620423734\n",
      "val_loss:  0.40436225533485415\n",
      "running epoch: 646\n",
      "train_loss:  0.31468365768606715\n",
      "val_loss:  0.4043831929564476\n",
      "running epoch: 647\n",
      "train_loss:  0.31467738688492214\n",
      "val_loss:  0.4044040232896805\n",
      "running epoch: 648\n",
      "train_loss:  0.3146711335878108\n",
      "val_loss:  0.4044247388839722\n",
      "running epoch: 649\n",
      "train_loss:  0.3146649215502076\n",
      "val_loss:  0.4044453725218773\n",
      "running epoch: 650\n",
      "train_loss:  0.31465874955971185\n",
      "val_loss:  0.40446594506502154\n",
      "running epoch: 651\n",
      "train_loss:  0.31465261426327823\n",
      "val_loss:  0.40448642075061797\n",
      "running epoch: 652\n",
      "train_loss:  0.3146465283342818\n",
      "val_loss:  0.40450681298971175\n",
      "running epoch: 653\n",
      "train_loss:  0.31464046025030673\n",
      "val_loss:  0.4045271322131157\n",
      "running epoch: 654\n",
      "train_loss:  0.3146344143873615\n",
      "val_loss:  0.40454736799001695\n",
      "running epoch: 655\n",
      "train_loss:  0.31462841749403453\n",
      "val_loss:  0.4045675367116928\n",
      "running epoch: 656\n",
      "train_loss:  0.31462244554963875\n",
      "val_loss:  0.4045876175165176\n",
      "running epoch: 657\n",
      "train_loss:  0.31461652399564316\n",
      "val_loss:  0.40460761934518813\n",
      "running epoch: 658\n",
      "train_loss:  0.31461061890377456\n",
      "val_loss:  0.40462750047445295\n",
      "running epoch: 659\n",
      "train_loss:  0.31460475130160587\n",
      "val_loss:  0.40464731901884077\n",
      "running epoch: 660\n",
      "train_loss:  0.31459892547042684\n",
      "val_loss:  0.40466703921556474\n",
      "running epoch: 661\n",
      "train_loss:  0.314593123091622\n",
      "val_loss:  0.4046866849064827\n",
      "running epoch: 662\n",
      "train_loss:  0.31458736083569977\n",
      "val_loss:  0.40470623821020124\n",
      "running epoch: 663\n",
      "train_loss:  0.314581618622275\n",
      "val_loss:  0.4047257393598557\n",
      "running epoch: 664\n",
      "train_loss:  0.3145759286746826\n",
      "val_loss:  0.40474514216184615\n",
      "running epoch: 665\n",
      "train_loss:  0.3145702422695732\n",
      "val_loss:  0.40476450473070147\n",
      "running epoch: 666\n",
      "train_loss:  0.31456459049365615\n",
      "val_loss:  0.40478377044200897\n",
      "running epoch: 667\n",
      "train_loss:  0.31455898058344745\n",
      "val_loss:  0.40480297058820724\n",
      "running epoch: 668\n",
      "train_loss:  0.31455340236614837\n",
      "val_loss:  0.40482207685709\n",
      "running epoch: 669\n",
      "train_loss:  0.3145478466729793\n",
      "val_loss:  0.40484109669923785\n",
      "running epoch: 670\n",
      "train_loss:  0.31454232617731526\n",
      "val_loss:  0.40486002862453463\n",
      "running epoch: 671\n",
      "train_loss:  0.314536841068594\n",
      "val_loss:  0.4048788666725159\n",
      "running epoch: 672\n",
      "train_loss:  0.31453138371248024\n",
      "val_loss:  0.4048976495862007\n",
      "running epoch: 673\n",
      "train_loss:  0.31452596879038774\n",
      "val_loss:  0.404916350543499\n",
      "running epoch: 674\n",
      "train_loss:  0.31452059060024484\n",
      "val_loss:  0.40493497252464294\n",
      "running epoch: 675\n",
      "train_loss:  0.31451522485615185\n",
      "val_loss:  0.40495350807905195\n",
      "running epoch: 676\n",
      "train_loss:  0.31450989925388523\n",
      "val_loss:  0.40497196912765504\n",
      "running epoch: 677\n",
      "train_loss:  0.3145045945086977\n",
      "val_loss:  0.4049903690814972\n",
      "running epoch: 678\n",
      "train_loss:  0.31449933149661236\n",
      "val_loss:  0.40500868409872054\n",
      "running epoch: 679\n",
      "train_loss:  0.31449407452758626\n",
      "val_loss:  0.4050269484519958\n",
      "running epoch: 680\n",
      "train_loss:  0.3144888675321976\n",
      "val_loss:  0.4050451129674911\n",
      "running epoch: 681\n",
      "train_loss:  0.3144836803330376\n",
      "val_loss:  0.40506319850683215\n",
      "running epoch: 682\n",
      "train_loss:  0.31447853937559445\n",
      "val_loss:  0.4050812408328056\n",
      "running epoch: 683\n",
      "train_loss:  0.3144733983234325\n",
      "val_loss:  0.4050991997122765\n",
      "running epoch: 684\n",
      "train_loss:  0.31446828680459155\n",
      "val_loss:  0.4051170736551285\n",
      "running epoch: 685\n",
      "train_loss:  0.3144632309046284\n",
      "val_loss:  0.40513488054275515\n",
      "running epoch: 686\n",
      "train_loss:  0.3144581833967507\n",
      "val_loss:  0.40515260547399523\n",
      "running epoch: 687\n",
      "train_loss:  0.31445317364378556\n",
      "val_loss:  0.4051702916622162\n",
      "running epoch: 688\n",
      "train_loss:  0.3144481722829059\n",
      "val_loss:  0.4051878899335861\n",
      "running epoch: 689\n",
      "train_loss:  0.31444321199209674\n",
      "val_loss:  0.40520540326833726\n",
      "running epoch: 690\n",
      "train_loss:  0.3144382827501093\n",
      "val_loss:  0.4052228212356567\n",
      "running epoch: 691\n",
      "train_loss:  0.31443338181009856\n",
      "val_loss:  0.40524019449949267\n",
      "running epoch: 692\n",
      "train_loss:  0.31442850381098053\n",
      "val_loss:  0.40525747984647753\n",
      "running epoch: 693\n",
      "train_loss:  0.3144236518784755\n",
      "val_loss:  0.40527471899986267\n",
      "running epoch: 694\n",
      "train_loss:  0.31441882495173296\n",
      "val_loss:  0.40529187172651293\n",
      "running epoch: 695\n",
      "train_loss:  0.3144140339234146\n",
      "val_loss:  0.4053089514374733\n",
      "running epoch: 696\n",
      "train_loss:  0.3144092670294458\n",
      "val_loss:  0.40532595813274386\n",
      "running epoch: 697\n",
      "train_loss:  0.31440451466534053\n",
      "val_loss:  0.4053428903222084\n",
      "running epoch: 698\n",
      "train_loss:  0.31439979520654543\n",
      "val_loss:  0.4053597465157509\n",
      "running epoch: 699\n",
      "train_loss:  0.3143951265170257\n",
      "val_loss:  0.4053765833377838\n",
      "running epoch: 700\n",
      "train_loss:  0.314390452390647\n",
      "val_loss:  0.40539332032203673\n",
      "running epoch: 701\n",
      "train_loss:  0.3143857955030894\n",
      "val_loss:  0.4054100066423416\n",
      "running epoch: 702\n",
      "train_loss:  0.3143811784353142\n",
      "val_loss:  0.4054266020655632\n",
      "running epoch: 703\n",
      "train_loss:  0.3143765930036173\n",
      "val_loss:  0.40544313788414\n",
      "running epoch: 704\n",
      "train_loss:  0.3143720283342808\n",
      "val_loss:  0.40545963048934935\n",
      "running epoch: 705\n",
      "train_loss:  0.3143674983699116\n",
      "val_loss:  0.4054760649800301\n",
      "running epoch: 706\n",
      "train_loss:  0.3143629657534161\n",
      "val_loss:  0.40549241602420805\n",
      "running epoch: 707\n",
      "train_loss:  0.3143584871645226\n",
      "val_loss:  0.40550871640443803\n",
      "running epoch: 708\n",
      "train_loss:  0.31435400668125313\n",
      "val_loss:  0.4055249378085136\n",
      "running epoch: 709\n",
      "train_loss:  0.3143495461268186\n",
      "val_loss:  0.4055411025881767\n",
      "running epoch: 710\n",
      "train_loss:  0.3143451252027289\n",
      "val_loss:  0.4055571973323822\n",
      "running epoch: 711\n",
      "train_loss:  0.31434074091587\n",
      "val_loss:  0.40557321161031723\n",
      "running epoch: 712\n",
      "train_loss:  0.31433637191662495\n",
      "val_loss:  0.40558917820453644\n",
      "running epoch: 713\n",
      "train_loss:  0.3143320267296856\n",
      "val_loss:  0.40560505241155625\n",
      "running epoch: 714\n",
      "train_loss:  0.31432771380396857\n",
      "val_loss:  0.4056208625435829\n",
      "running epoch: 715\n",
      "train_loss:  0.314323412737045\n",
      "val_loss:  0.4056366220116615\n",
      "running epoch: 716\n",
      "train_loss:  0.3143191453900132\n",
      "val_loss:  0.4056522861123085\n",
      "running epoch: 717\n",
      "train_loss:  0.31431488982599987\n",
      "val_loss:  0.4056679055094719\n",
      "running epoch: 718\n",
      "train_loss:  0.31431066027176824\n",
      "val_loss:  0.40568346083164214\n",
      "running epoch: 719\n",
      "train_loss:  0.31430645098735926\n",
      "val_loss:  0.4056989774107933\n",
      "running epoch: 720\n",
      "train_loss:  0.3143022718993029\n",
      "val_loss:  0.4057143986225128\n",
      "running epoch: 721\n",
      "train_loss:  0.31429811630150817\n",
      "val_loss:  0.40572976171970365\n",
      "running epoch: 722\n",
      "train_loss:  0.3142939910895037\n",
      "val_loss:  0.40574507117271424\n",
      "running epoch: 723\n",
      "train_loss:  0.3142898833057579\n",
      "val_loss:  0.40576033741235734\n",
      "running epoch: 724\n",
      "train_loss:  0.31428579393534634\n",
      "val_loss:  0.40577554106712344\n",
      "running epoch: 725\n",
      "train_loss:  0.3142817157038653\n",
      "val_loss:  0.405790688097477\n",
      "running epoch: 726\n",
      "train_loss:  0.31427767585244093\n",
      "val_loss:  0.40580575317144396\n",
      "running epoch: 727\n",
      "train_loss:  0.31427364158942567\n",
      "val_loss:  0.4058207839727402\n",
      "running epoch: 728\n",
      "train_loss:  0.3142696555193344\n",
      "val_loss:  0.4058357194066048\n",
      "running epoch: 729\n",
      "train_loss:  0.3142656582155938\n",
      "val_loss:  0.40585058033466337\n",
      "running epoch: 730\n",
      "train_loss:  0.31426168305710805\n",
      "val_loss:  0.40586539059877397\n",
      "running epoch: 731\n",
      "train_loss:  0.314257753988789\n",
      "val_loss:  0.40588013380765914\n",
      "running epoch: 732\n",
      "train_loss:  0.31425384293598524\n",
      "val_loss:  0.40589482337236404\n",
      "running epoch: 733\n",
      "train_loss:  0.31424995618802487\n",
      "val_loss:  0.405909489095211\n",
      "running epoch: 734\n",
      "train_loss:  0.314246076809187\n",
      "val_loss:  0.405924080312252\n",
      "running epoch: 735\n",
      "train_loss:  0.3142422245578126\n",
      "val_loss:  0.4059386536478996\n",
      "running epoch: 736\n"
     ]
    },
    {
     "name": "stdout",
     "output_type": "stream",
     "text": [
      "train_loss:  0.31423838147521777\n",
      "val_loss:  0.40595313161611557\n",
      "running epoch: 737\n",
      "train_loss:  0.31423456120090937\n",
      "val_loss:  0.4059675708413124\n",
      "running epoch: 738\n",
      "train_loss:  0.31423076920963383\n",
      "val_loss:  0.4059819206595421\n",
      "running epoch: 739\n",
      "train_loss:  0.31422700481941584\n",
      "val_loss:  0.40599623769521714\n",
      "running epoch: 740\n",
      "train_loss:  0.31422324332759305\n",
      "val_loss:  0.40601049810647966\n",
      "running epoch: 741\n",
      "train_loss:  0.31421950958837785\n",
      "val_loss:  0.4060246840119362\n",
      "running epoch: 742\n",
      "train_loss:  0.3142157986763928\n",
      "val_loss:  0.40603883415460584\n",
      "running epoch: 743\n",
      "train_loss:  0.31421210559048546\n",
      "val_loss:  0.4060529306530952\n",
      "running epoch: 744\n",
      "train_loss:  0.31420844406488135\n",
      "val_loss:  0.4060669347643852\n",
      "running epoch: 745\n",
      "train_loss:  0.3142047893779744\n",
      "val_loss:  0.4060808762907982\n",
      "running epoch: 746\n",
      "train_loss:  0.3142011825619476\n",
      "val_loss:  0.40609477609395983\n",
      "running epoch: 747\n",
      "train_loss:  0.3141975596247815\n",
      "val_loss:  0.4061086043715477\n",
      "running epoch: 748\n",
      "train_loss:  0.31419398444483304\n",
      "val_loss:  0.40612239241600034\n",
      "running epoch: 749\n",
      "train_loss:  0.31419041276948007\n",
      "val_loss:  0.40613613873720167\n",
      "running epoch: 750\n",
      "train_loss:  0.31418686140183727\n",
      "val_loss:  0.4061498388648033\n",
      "running epoch: 751\n",
      "train_loss:  0.3141833285611912\n",
      "val_loss:  0.4061634734272957\n",
      "running epoch: 752\n",
      "train_loss:  0.31417981455064203\n",
      "val_loss:  0.4061770781874657\n",
      "running epoch: 753\n",
      "train_loss:  0.31417630815548414\n",
      "val_loss:  0.4061906099319458\n",
      "running epoch: 754\n",
      "train_loss:  0.3141728355370494\n",
      "val_loss:  0.40620408207178116\n",
      "running epoch: 755\n",
      "train_loss:  0.3141693861436638\n",
      "val_loss:  0.40621749460697176\n",
      "running epoch: 756\n",
      "train_loss:  0.3141659443467257\n",
      "val_loss:  0.40623088628053666\n",
      "running epoch: 757\n",
      "train_loss:  0.31416251891719577\n",
      "val_loss:  0.40624423176050184\n",
      "running epoch: 758\n",
      "train_loss:  0.3141591146667889\n",
      "val_loss:  0.40625749081373214\n",
      "running epoch: 759\n",
      "train_loss:  0.31415571647838514\n",
      "val_loss:  0.4062707170844078\n",
      "running epoch: 760\n",
      "train_loss:  0.3141523446596945\n",
      "val_loss:  0.40628387331962584\n",
      "running epoch: 761\n",
      "train_loss:  0.31414899383068934\n",
      "val_loss:  0.4062969759106636\n",
      "running epoch: 762\n",
      "train_loss:  0.3141456582703543\n",
      "val_loss:  0.4063100263476372\n",
      "running epoch: 763\n",
      "train_loss:  0.3141423530768657\n",
      "val_loss:  0.4063230186700821\n",
      "running epoch: 764\n",
      "train_loss:  0.3141390657283985\n",
      "val_loss:  0.40633597373962405\n",
      "running epoch: 765\n",
      "train_loss:  0.31413577771689977\n",
      "val_loss:  0.4063489004969597\n",
      "running epoch: 766\n",
      "train_loss:  0.3141325146922197\n",
      "val_loss:  0.40636176019907\n",
      "running epoch: 767\n",
      "train_loss:  0.314129274324276\n",
      "val_loss:  0.40637457817792894\n",
      "running epoch: 768\n",
      "train_loss:  0.31412604608033834\n",
      "val_loss:  0.40638732016086576\n",
      "running epoch: 769\n",
      "train_loss:  0.31412283899658\n",
      "val_loss:  0.4064000204205513\n",
      "running epoch: 770\n",
      "train_loss:  0.3141196533950449\n",
      "val_loss:  0.40641268491745\n",
      "running epoch: 771\n",
      "train_loss:  0.31411647158226164\n",
      "val_loss:  0.40642533302307127\n",
      "running epoch: 772\n",
      "train_loss:  0.3141133148889035\n",
      "val_loss:  0.4064378961920738\n",
      "running epoch: 773\n",
      "train_loss:  0.31411017651416073\n",
      "val_loss:  0.4064504235982895\n",
      "running epoch: 774\n",
      "train_loss:  0.314107059792135\n",
      "val_loss:  0.40646282732486727\n",
      "running epoch: 775\n",
      "train_loss:  0.3141039552320029\n",
      "val_loss:  0.406475231051445\n",
      "running epoch: 776\n",
      "train_loss:  0.3141008655048344\n",
      "val_loss:  0.40648754835128786\n",
      "running epoch: 777\n",
      "train_loss:  0.31409778437813274\n",
      "val_loss:  0.406499856710434\n",
      "running epoch: 778\n",
      "train_loss:  0.3140947178570696\n",
      "val_loss:  0.40651209503412244\n",
      "running epoch: 779\n",
      "train_loss:  0.3140916751861997\n",
      "val_loss:  0.406524296104908\n",
      "running epoch: 780\n",
      "train_loss:  0.3140886521410645\n",
      "val_loss:  0.4065364360809326\n",
      "running epoch: 781\n",
      "train_loss:  0.3140856429438175\n",
      "val_loss:  0.4065485537052155\n",
      "running epoch: 782\n",
      "train_loss:  0.3140826488636906\n",
      "val_loss:  0.4065606281161308\n",
      "running epoch: 783\n",
      "train_loss:  0.3140796640660058\n",
      "val_loss:  0.40657265335321424\n",
      "running epoch: 784\n",
      "train_loss:  0.31407668983893877\n",
      "val_loss:  0.40658463835716246\n",
      "running epoch: 785\n",
      "train_loss:  0.31407375342361565\n",
      "val_loss:  0.40659657716751096\n",
      "running epoch: 786\n",
      "train_loss:  0.3140708173303364\n",
      "val_loss:  0.406608447432518\n",
      "running epoch: 787\n",
      "train_loss:  0.3140678978128467\n",
      "val_loss:  0.40662028044462206\n",
      "running epoch: 788\n",
      "train_loss:  0.314065001293081\n",
      "val_loss:  0.4066320717334747\n",
      "running epoch: 789\n",
      "train_loss:  0.31406211180145005\n",
      "val_loss:  0.40664381384849546\n",
      "running epoch: 790\n",
      "train_loss:  0.31405923500213795\n",
      "val_loss:  0.40665550380945203\n",
      "running epoch: 791\n",
      "train_loss:  0.3140563938928687\n",
      "val_loss:  0.40666713267564775\n",
      "running epoch: 792\n",
      "train_loss:  0.31405355109760485\n",
      "val_loss:  0.40667872726917265\n",
      "running epoch: 793\n",
      "train_loss:  0.3140507331376096\n",
      "val_loss:  0.40669025033712386\n",
      "running epoch: 794\n",
      "train_loss:  0.31404791872009746\n",
      "val_loss:  0.4067017316818237\n",
      "running epoch: 795\n",
      "train_loss:  0.3140451226590882\n",
      "val_loss:  0.4067131862044334\n",
      "running epoch: 796\n",
      "train_loss:  0.31404235499477434\n",
      "val_loss:  0.4067245990037918\n",
      "running epoch: 797\n",
      "train_loss:  0.3140395927104882\n",
      "val_loss:  0.4067359760403633\n",
      "running epoch: 798\n",
      "train_loss:  0.3140368408452698\n",
      "val_loss:  0.4067473173141479\n",
      "running epoch: 799\n",
      "train_loss:  0.31403410995079306\n",
      "val_loss:  0.406758613884449\n",
      "running epoch: 800\n",
      "train_loss:  0.3140313843984565\n",
      "val_loss:  0.4067698761820793\n",
      "running epoch: 801\n",
      "train_loss:  0.3140286705344196\n",
      "val_loss:  0.40678109526634215\n",
      "running epoch: 802\n",
      "train_loss:  0.3140259736439911\n",
      "val_loss:  0.4067922726273537\n",
      "running epoch: 803\n",
      "train_loss:  0.31402328938905016\n",
      "val_loss:  0.40680339485406875\n",
      "running epoch: 804\n",
      "train_loss:  0.31402062100897965\n",
      "val_loss:  0.40681448131799697\n",
      "running epoch: 805\n",
      "train_loss:  0.3140179683901171\n",
      "val_loss:  0.40682550370693205\n",
      "running epoch: 806\n",
      "train_loss:  0.31401533710192764\n",
      "val_loss:  0.406836499273777\n",
      "running epoch: 807\n",
      "train_loss:  0.3140127162896371\n",
      "val_loss:  0.40684745609760287\n",
      "running epoch: 808\n",
      "train_loss:  0.31401010034589283\n",
      "val_loss:  0.406858392059803\n",
      "running epoch: 809\n",
      "train_loss:  0.31400749305944664\n",
      "val_loss:  0.40686928629875185\n",
      "running epoch: 810\n",
      "train_loss:  0.31400490426210964\n",
      "val_loss:  0.40688009560108185\n",
      "running epoch: 811\n",
      "train_loss:  0.31400232974836734\n",
      "val_loss:  0.40689087063074114\n",
      "running epoch: 812\n",
      "train_loss:  0.31399978855669786\n",
      "val_loss:  0.4069016009569168\n",
      "running epoch: 813\n",
      "train_loss:  0.3139972476870723\n",
      "val_loss:  0.4069122686982155\n",
      "running epoch: 814\n",
      "train_loss:  0.3139947237721115\n",
      "val_loss:  0.4069229230284691\n",
      "running epoch: 815\n",
      "train_loss:  0.313992212511582\n",
      "val_loss:  0.4069335162639618\n",
      "running epoch: 816\n",
      "train_loss:  0.31398971600824116\n",
      "val_loss:  0.40694407373666763\n",
      "running epoch: 817\n",
      "train_loss:  0.31398723568287085\n",
      "val_loss:  0.40695460289716723\n",
      "running epoch: 818\n",
      "train_loss:  0.31398476333282327\n",
      "val_loss:  0.4069651126861572\n",
      "running epoch: 819\n",
      "train_loss:  0.3139822831400593\n",
      "val_loss:  0.4069755807518959\n",
      "running epoch: 820\n",
      "train_loss:  0.31397982143640457\n",
      "val_loss:  0.4069859877228737\n",
      "running epoch: 821\n",
      "train_loss:  0.3139773722735186\n",
      "val_loss:  0.40699637979269027\n",
      "running epoch: 822\n",
      "train_loss:  0.3139749399895223\n",
      "val_loss:  0.4070067048072815\n",
      "running epoch: 823\n",
      "train_loss:  0.31397251774571855\n",
      "val_loss:  0.4070170298218727\n",
      "running epoch: 824\n",
      "train_loss:  0.3139701043486504\n",
      "val_loss:  0.4070272669196129\n",
      "running epoch: 825\n",
      "train_loss:  0.3139677122633117\n",
      "val_loss:  0.40703748911619186\n",
      "running epoch: 826\n",
      "train_loss:  0.3139653399742016\n",
      "val_loss:  0.4070476457476616\n",
      "running epoch: 827\n",
      "train_loss:  0.31396297863458456\n",
      "val_loss:  0.40705779045820234\n",
      "running epoch: 828\n",
      "train_loss:  0.3139606314838433\n",
      "val_loss:  0.4070678785443306\n",
      "running epoch: 829\n",
      "train_loss:  0.31395830081417275\n",
      "val_loss:  0.40707789212465284\n",
      "running epoch: 830\n",
      "train_loss:  0.3139559837650653\n",
      "val_loss:  0.4070878684520721\n",
      "running epoch: 831\n",
      "train_loss:  0.31395366845878364\n",
      "val_loss:  0.40709780901670456\n",
      "running epoch: 832\n",
      "train_loss:  0.3139513823827229\n",
      "val_loss:  0.4071077063679695\n",
      "running epoch: 833\n",
      "train_loss:  0.3139491072561551\n",
      "val_loss:  0.40711757242679597\n",
      "running epoch: 834\n",
      "train_loss:  0.31394684785290766\n",
      "val_loss:  0.40712735801935196\n",
      "running epoch: 835\n",
      "train_loss:  0.31394459583772644\n",
      "val_loss:  0.40713713616132735\n",
      "running epoch: 836\n",
      "train_loss:  0.31394235734838943\n",
      "val_loss:  0.40714687556028367\n",
      "running epoch: 837\n"
     ]
    },
    {
     "name": "stdout",
     "output_type": "stream",
     "text": [
      "train_loss:  0.3139401138957875\n",
      "val_loss:  0.40715658813714983\n",
      "running epoch: 838\n",
      "train_loss:  0.31393790226870144\n",
      "val_loss:  0.40716626644134524\n",
      "running epoch: 839\n",
      "train_loss:  0.3139356869286385\n",
      "val_loss:  0.4071759030222893\n",
      "running epoch: 840\n",
      "train_loss:  0.31393348598583276\n",
      "val_loss:  0.4071854993700981\n",
      "running epoch: 841\n",
      "train_loss:  0.31393129582202617\n",
      "val_loss:  0.4071950912475586\n",
      "running epoch: 842\n",
      "train_loss:  0.3139291147322804\n",
      "val_loss:  0.4072046563029289\n",
      "running epoch: 843\n",
      "train_loss:  0.3139269412958134\n",
      "val_loss:  0.40721418857574465\n",
      "running epoch: 844\n",
      "train_loss:  0.31392476708265227\n",
      "val_loss:  0.4072236746549606\n",
      "running epoch: 845\n",
      "train_loss:  0.31392262067893006\n",
      "val_loss:  0.40723315328359605\n",
      "running epoch: 846\n",
      "train_loss:  0.3139204712442063\n",
      "val_loss:  0.40724258273839953\n",
      "running epoch: 847\n",
      "train_loss:  0.31391834134049856\n",
      "val_loss:  0.4072520017623901\n",
      "running epoch: 848\n",
      "train_loss:  0.3139162235986844\n",
      "val_loss:  0.4072613701224327\n",
      "running epoch: 849\n",
      "train_loss:  0.3139141181513701\n",
      "val_loss:  0.4072706997394562\n",
      "running epoch: 850\n",
      "train_loss:  0.3139120195616968\n",
      "val_loss:  0.4072800114750862\n",
      "running epoch: 851\n",
      "train_loss:  0.3139099194944102\n",
      "val_loss:  0.40728928297758105\n",
      "running epoch: 852\n",
      "train_loss:  0.31390784621359946\n",
      "val_loss:  0.40729854106903074\n",
      "running epoch: 853\n",
      "train_loss:  0.3139057828782625\n",
      "val_loss:  0.4073077395558357\n",
      "running epoch: 854\n",
      "train_loss:  0.3139037196376443\n",
      "val_loss:  0.4073169231414795\n",
      "running epoch: 855\n",
      "train_loss:  0.31390165544983817\n",
      "val_loss:  0.4073260635137558\n",
      "running epoch: 856\n",
      "train_loss:  0.3138996112098107\n",
      "val_loss:  0.4073351815342903\n",
      "running epoch: 857\n",
      "train_loss:  0.3138975748503872\n",
      "val_loss:  0.4073442354798317\n",
      "running epoch: 858\n",
      "train_loss:  0.3138955687252038\n",
      "val_loss:  0.40735326409339906\n",
      "running epoch: 859\n",
      "train_loss:  0.31389357167408116\n",
      "val_loss:  0.40736222416162493\n",
      "running epoch: 860\n",
      "train_loss:  0.3138915914071294\n",
      "val_loss:  0.40737116783857347\n",
      "running epoch: 861\n",
      "train_loss:  0.3138896116895467\n",
      "val_loss:  0.4073800787329674\n",
      "running epoch: 862\n",
      "train_loss:  0.3138876311194948\n",
      "val_loss:  0.4073889419436455\n",
      "running epoch: 863\n",
      "train_loss:  0.31388566941742735\n",
      "val_loss:  0.4073977962136269\n",
      "running epoch: 864\n",
      "train_loss:  0.31388370904142304\n",
      "val_loss:  0.4074065864086151\n",
      "running epoch: 865\n",
      "train_loss:  0.3138817779903584\n",
      "val_loss:  0.4074153482913971\n",
      "running epoch: 866\n",
      "train_loss:  0.3138798560512421\n",
      "val_loss:  0.40742408484220505\n",
      "running epoch: 867\n",
      "train_loss:  0.313877939757366\n",
      "val_loss:  0.4074327677488327\n",
      "running epoch: 868\n",
      "train_loss:  0.3138760282183736\n",
      "val_loss:  0.40744145065546034\n",
      "running epoch: 869\n",
      "train_loss:  0.313874125753442\n",
      "val_loss:  0.4074501097202301\n",
      "running epoch: 870\n",
      "train_loss:  0.3138722357724479\n",
      "val_loss:  0.4074587464332581\n",
      "running epoch: 871\n",
      "train_loss:  0.3138703481783674\n",
      "val_loss:  0.4074673026800156\n",
      "running epoch: 872\n",
      "train_loss:  0.31386847653493244\n",
      "val_loss:  0.40747585743665693\n",
      "running epoch: 873\n",
      "train_loss:  0.3138666092106746\n",
      "val_loss:  0.4074843734502792\n",
      "running epoch: 874\n",
      "train_loss:  0.3138647596935507\n",
      "val_loss:  0.4074928477406502\n",
      "running epoch: 875\n",
      "train_loss:  0.3138629293664551\n",
      "val_loss:  0.4075012937188148\n",
      "running epoch: 876\n",
      "train_loss:  0.3138611017483171\n",
      "val_loss:  0.40750968009233474\n",
      "running epoch: 877\n",
      "train_loss:  0.31385928263592716\n",
      "val_loss:  0.40751806646585464\n",
      "running epoch: 878\n",
      "train_loss:  0.3138574715367474\n",
      "val_loss:  0.40752641260623934\n",
      "running epoch: 879\n",
      "train_loss:  0.31385569434689714\n",
      "val_loss:  0.40753471702337263\n",
      "running epoch: 880\n",
      "train_loss:  0.3138539008085824\n",
      "val_loss:  0.4075430020689964\n",
      "running epoch: 881\n",
      "train_loss:  0.313852106853505\n",
      "val_loss:  0.4075512483716011\n",
      "running epoch: 882\n",
      "train_loss:  0.3138503277882225\n",
      "val_loss:  0.40755949169397354\n",
      "running epoch: 883\n",
      "train_loss:  0.3138485673067681\n",
      "val_loss:  0.4075676932930946\n",
      "running epoch: 884\n",
      "train_loss:  0.31384679955091\n",
      "val_loss:  0.40757585912942884\n",
      "running epoch: 885\n",
      "train_loss:  0.3138450419110195\n",
      "val_loss:  0.4075840041041374\n",
      "running epoch: 886\n",
      "train_loss:  0.31384330467355787\n",
      "val_loss:  0.40759210884571073\n",
      "running epoch: 887\n",
      "train_loss:  0.31384157128167944\n",
      "val_loss:  0.40760018229484557\n",
      "running epoch: 888\n",
      "train_loss:  0.3138398467744242\n",
      "val_loss:  0.40760820508003237\n",
      "running epoch: 889\n",
      "train_loss:  0.31383812969312275\n",
      "val_loss:  0.40761620104312896\n",
      "running epoch: 890\n",
      "train_loss:  0.3138364230877202\n",
      "val_loss:  0.40762419253587723\n",
      "running epoch: 891\n",
      "train_loss:  0.31383472782962957\n",
      "val_loss:  0.4076321244239807\n",
      "running epoch: 892\n",
      "train_loss:  0.3138330457374518\n",
      "val_loss:  0.4076400250196457\n",
      "running epoch: 893\n",
      "train_loss:  0.31383137226468455\n",
      "val_loss:  0.40764791518449783\n",
      "running epoch: 894\n",
      "train_loss:  0.3138297014819312\n",
      "val_loss:  0.40765578746795655\n",
      "running epoch: 895\n",
      "train_loss:  0.3138280431452278\n",
      "val_loss:  0.4076636269688606\n",
      "running epoch: 896\n",
      "train_loss:  0.3138263993762754\n",
      "val_loss:  0.4076714411377907\n",
      "running epoch: 897\n",
      "train_loss:  0.31382474378641706\n",
      "val_loss:  0.40767923295497893\n",
      "running epoch: 898\n",
      "train_loss:  0.3138230978578761\n",
      "val_loss:  0.4076870158314705\n",
      "running epoch: 899\n",
      "train_loss:  0.3138214649436979\n",
      "val_loss:  0.4076947942376137\n",
      "running epoch: 900\n",
      "train_loss:  0.31381983381023304\n",
      "val_loss:  0.40770251750946046\n",
      "running epoch: 901\n",
      "train_loss:  0.31381820676862027\n",
      "val_loss:  0.40771021246910094\n",
      "running epoch: 902\n",
      "train_loss:  0.31381660170176845\n",
      "val_loss:  0.40771789848804474\n",
      "running epoch: 903\n",
      "train_loss:  0.3138149932060962\n",
      "val_loss:  0.4077255502343178\n",
      "running epoch: 904\n",
      "train_loss:  0.3138134041467211\n",
      "val_loss:  0.4077331840991974\n",
      "running epoch: 905\n",
      "train_loss:  0.31381182580951394\n",
      "val_loss:  0.4077407896518707\n",
      "running epoch: 906\n",
      "train_loss:  0.31381023951592774\n",
      "val_loss:  0.4077483519911766\n",
      "running epoch: 907\n",
      "train_loss:  0.313808656575387\n",
      "val_loss:  0.40775589644908905\n",
      "running epoch: 908\n",
      "train_loss:  0.31380708956654796\n",
      "val_loss:  0.4077633962035179\n",
      "running epoch: 909\n",
      "train_loss:  0.31380553979653003\n",
      "val_loss:  0.4077708825469017\n",
      "running epoch: 910\n",
      "train_loss:  0.3138039855557848\n",
      "val_loss:  0.4077783390879631\n",
      "running epoch: 911\n",
      "train_loss:  0.31380243599414825\n",
      "val_loss:  0.4077857777476311\n",
      "running epoch: 912\n",
      "train_loss:  0.31380090092448765\n",
      "val_loss:  0.4077931776642799\n",
      "running epoch: 913\n",
      "train_loss:  0.31379936600637715\n",
      "val_loss:  0.4078005462884903\n",
      "running epoch: 914\n",
      "train_loss:  0.3137978529493651\n",
      "val_loss:  0.4078078955411911\n",
      "running epoch: 915\n",
      "train_loss:  0.3137963480381695\n",
      "val_loss:  0.40781518518924714\n",
      "running epoch: 916\n",
      "train_loss:  0.3137948415356982\n",
      "val_loss:  0.4078224763274193\n",
      "running epoch: 917\n",
      "train_loss:  0.3137933581635572\n",
      "val_loss:  0.40782973617315293\n",
      "running epoch: 918\n",
      "train_loss:  0.3137918730864778\n",
      "val_loss:  0.4078369528055191\n",
      "running epoch: 919\n",
      "train_loss:  0.31379040212249926\n",
      "val_loss:  0.40784416496753695\n",
      "running epoch: 920\n",
      "train_loss:  0.31378892435771105\n",
      "val_loss:  0.4078513249754906\n",
      "running epoch: 921\n",
      "train_loss:  0.3137874596451731\n",
      "val_loss:  0.40785850435495374\n",
      "running epoch: 922\n",
      "train_loss:  0.3137859998011813\n",
      "val_loss:  0.4078656226396561\n",
      "running epoch: 923\n",
      "train_loss:  0.31378455361564017\n",
      "val_loss:  0.40787272304296496\n",
      "running epoch: 924\n",
      "train_loss:  0.313783121448481\n",
      "val_loss:  0.40787978917360307\n",
      "running epoch: 925\n",
      "train_loss:  0.31378169252070465\n",
      "val_loss:  0.4078868210315704\n",
      "running epoch: 926\n",
      "train_loss:  0.31378026105446455\n",
      "val_loss:  0.4078938588500023\n",
      "running epoch: 927\n",
      "train_loss:  0.31377884012095475\n",
      "val_loss:  0.40790085047483443\n",
      "running epoch: 928\n",
      "train_loss:  0.3137774287350997\n",
      "val_loss:  0.40790780186653136\n",
      "running epoch: 929\n",
      "train_loss:  0.31377602793880616\n",
      "val_loss:  0.4079147458076477\n",
      "running epoch: 930\n",
      "train_loss:  0.3137746297378077\n",
      "val_loss:  0.40792165845632555\n",
      "running epoch: 931\n",
      "train_loss:  0.31377323757986847\n",
      "val_loss:  0.4079285576939583\n",
      "running epoch: 932\n",
      "train_loss:  0.3137718488886373\n",
      "val_loss:  0.4079354092478752\n",
      "running epoch: 933\n",
      "train_loss:  0.31377047501142596\n",
      "val_loss:  0.4079422399401665\n",
      "running epoch: 934\n",
      "train_loss:  0.31376910981045647\n",
      "val_loss:  0.40794903188943865\n",
      "running epoch: 935\n",
      "train_loss:  0.31376774589766265\n",
      "val_loss:  0.40795581191778185\n",
      "running epoch: 936\n",
      "train_loss:  0.31376640111806586\n",
      "val_loss:  0.40796255469322207\n",
      "running epoch: 937\n",
      "train_loss:  0.31376505724776954\n",
      "val_loss:  0.4079692780971527\n",
      "running epoch: 938\n"
     ]
    },
    {
     "name": "stdout",
     "output_type": "stream",
     "text": [
      "train_loss:  0.31376371667368735\n",
      "val_loss:  0.40797597318887713\n",
      "running epoch: 939\n",
      "train_loss:  0.3137623874658608\n",
      "val_loss:  0.407982636988163\n",
      "running epoch: 940\n",
      "train_loss:  0.3137610704199279\n",
      "val_loss:  0.4079892888665199\n",
      "running epoch: 941\n",
      "train_loss:  0.3137597585077538\n",
      "val_loss:  0.4079959124326706\n",
      "running epoch: 942\n",
      "train_loss:  0.31375846540673286\n",
      "val_loss:  0.40800253450870516\n",
      "running epoch: 943\n",
      "train_loss:  0.31375716292855094\n",
      "val_loss:  0.4080091044306755\n",
      "running epoch: 944\n",
      "train_loss:  0.31375586096185054\n",
      "val_loss:  0.40801565200090406\n",
      "running epoch: 945\n",
      "train_loss:  0.313754587751777\n",
      "val_loss:  0.4080221578478813\n",
      "running epoch: 946\n",
      "train_loss:  0.31375331662551703\n",
      "val_loss:  0.40802867114543917\n",
      "running epoch: 947\n",
      "train_loss:  0.31375204358593733\n",
      "val_loss:  0.40803513675928116\n",
      "running epoch: 948\n",
      "train_loss:  0.31375078113591914\n",
      "val_loss:  0.40804161727428434\n",
      "running epoch: 949\n",
      "train_loss:  0.313749517738713\n",
      "val_loss:  0.40804801136255264\n",
      "running epoch: 950\n",
      "train_loss:  0.31374826318824256\n",
      "val_loss:  0.4080544039607048\n",
      "running epoch: 951\n",
      "train_loss:  0.3137470075200903\n",
      "val_loss:  0.4080607980489731\n",
      "running epoch: 952\n",
      "train_loss:  0.31374576903392787\n",
      "val_loss:  0.4080671563744545\n",
      "running epoch: 953\n",
      "train_loss:  0.31374452969529626\n",
      "val_loss:  0.40807351768016814\n",
      "running epoch: 954\n",
      "train_loss:  0.3137433042045528\n",
      "val_loss:  0.4080798402428627\n",
      "running epoch: 955\n",
      "train_loss:  0.3137420732769504\n",
      "val_loss:  0.40808614045381547\n",
      "running epoch: 956\n",
      "train_loss:  0.3137408426713919\n",
      "val_loss:  0.4080924287438393\n",
      "running epoch: 957\n",
      "train_loss:  0.31373962756182866\n",
      "val_loss:  0.4080986753106117\n",
      "running epoch: 958\n",
      "train_loss:  0.31373841800278696\n",
      "val_loss:  0.4081049099564552\n",
      "running epoch: 959\n",
      "train_loss:  0.31373721636223667\n",
      "val_loss:  0.4081111505627632\n",
      "running epoch: 960\n",
      "train_loss:  0.3137360129978043\n",
      "val_loss:  0.40811734944581984\n",
      "running epoch: 961\n",
      "train_loss:  0.3137348195788456\n",
      "val_loss:  0.4081235319375992\n",
      "running epoch: 962\n",
      "train_loss:  0.3137336197379525\n",
      "val_loss:  0.4081296846270561\n",
      "running epoch: 963\n",
      "train_loss:  0.31373244172027026\n",
      "val_loss:  0.408135811984539\n",
      "running epoch: 964\n",
      "train_loss:  0.31373127573187526\n",
      "val_loss:  0.40814190804958345\n",
      "running epoch: 965\n",
      "train_loss:  0.3137300964449612\n",
      "val_loss:  0.40814799070358276\n",
      "running epoch: 966\n",
      "train_loss:  0.31372893996633344\n",
      "val_loss:  0.40815405994653703\n",
      "running epoch: 967\n",
      "train_loss:  0.3137277795663475\n",
      "val_loss:  0.40816012769937515\n",
      "running epoch: 968\n",
      "train_loss:  0.3137266216669378\n",
      "val_loss:  0.40816616714000703\n",
      "running epoch: 969\n",
      "train_loss:  0.31372547267109513\n",
      "val_loss:  0.40817220211029054\n",
      "running epoch: 970\n",
      "train_loss:  0.31372432566434716\n",
      "val_loss:  0.4081782266497612\n",
      "running epoch: 971\n",
      "train_loss:  0.313723184340727\n",
      "val_loss:  0.40818420350551604\n",
      "running epoch: 972\n",
      "train_loss:  0.3137220491927724\n",
      "val_loss:  0.40819015055894853\n",
      "running epoch: 973\n",
      "train_loss:  0.3137209233651475\n",
      "val_loss:  0.4081960991024971\n",
      "running epoch: 974\n",
      "train_loss:  0.3137198007769055\n",
      "val_loss:  0.4082019984722137\n",
      "running epoch: 975\n",
      "train_loss:  0.3137186809355086\n",
      "val_loss:  0.40820788890123366\n",
      "running epoch: 976\n",
      "train_loss:  0.3137175728392425\n",
      "val_loss:  0.40821377485990523\n",
      "running epoch: 977\n",
      "train_loss:  0.31371646853172835\n",
      "val_loss:  0.40821963995695115\n",
      "running epoch: 978\n",
      "train_loss:  0.3137153639968891\n",
      "val_loss:  0.4082254901528358\n",
      "running epoch: 979\n",
      "train_loss:  0.3137142612995945\n",
      "val_loss:  0.40823130756616594\n",
      "running epoch: 980\n",
      "train_loss:  0.31371317049898084\n",
      "val_loss:  0.40823709070682523\n",
      "running epoch: 981\n",
      "train_loss:  0.3137120866128394\n",
      "val_loss:  0.4082428738474846\n",
      "running epoch: 982\n",
      "train_loss:  0.31371100109753464\n",
      "val_loss:  0.40824863165616987\n",
      "running epoch: 983\n",
      "train_loss:  0.31370992357649635\n",
      "val_loss:  0.408254386484623\n",
      "running epoch: 984\n",
      "train_loss:  0.31370885255316755\n",
      "val_loss:  0.4082600995898247\n",
      "running epoch: 985\n",
      "train_loss:  0.3137078031067808\n",
      "val_loss:  0.40826576203107834\n",
      "running epoch: 986\n",
      "train_loss:  0.3137067522017246\n",
      "val_loss:  0.40827141255140303\n",
      "running epoch: 987\n",
      "train_loss:  0.3137056961818533\n",
      "val_loss:  0.4082770422101021\n",
      "running epoch: 988\n",
      "train_loss:  0.3137046444811592\n",
      "val_loss:  0.4082826614379883\n",
      "running epoch: 989\n",
      "train_loss:  0.31370360236600736\n",
      "val_loss:  0.4082882419228554\n",
      "running epoch: 990\n",
      "train_loss:  0.31370257243169286\n",
      "val_loss:  0.4082938075065613\n",
      "running epoch: 991\n",
      "train_loss:  0.31370154664606165\n",
      "val_loss:  0.40829933285713194\n",
      "running epoch: 992\n",
      "train_loss:  0.3137005270550398\n",
      "val_loss:  0.40830488204956056\n",
      "running epoch: 993\n",
      "train_loss:  0.31369951407539004\n",
      "val_loss:  0.4083104059100151\n",
      "running epoch: 994\n",
      "train_loss:  0.31369850516864856\n",
      "val_loss:  0.40831587463617325\n",
      "running epoch: 995\n",
      "train_loss:  0.31369750077052183\n",
      "val_loss:  0.4083213597536087\n",
      "running epoch: 996\n",
      "train_loss:  0.3136965055601184\n",
      "val_loss:  0.408326818048954\n",
      "running epoch: 997\n",
      "train_loss:  0.3136954993623345\n",
      "val_loss:  0.40833226293325425\n",
      "running epoch: 998\n",
      "train_loss:  0.31369450996766524\n",
      "val_loss:  0.4083376988768578\n",
      "running epoch: 999\n",
      "train_loss:  0.313693521993778\n",
      "val_loss:  0.40834311693906783\n",
      "running epoch: 1000\n",
      "train_loss:  0.31369253773286754\n",
      "val_loss:  0.40834853500127793\n"
     ]
    }
   ],
   "source": [
    "import pandas as pd\n",
    "alex1 = pd.read_csv('csv/train/alex.csv')\n",
    "res1 = pd.read_csv('csv/train/resnet.csv')\n",
    "vgg1 = pd.read_csv('csv/train/vgg.csv')\n",
    "hr1 = pd.read_csv('csv/train/hr.csv')\n",
    "mob1 = pd.read_csv('csv/train/mob.csv')\n",
    "alex2 = pd.read_csv('csv/val/alex.csv')\n",
    "res2 = pd.read_csv('csv/val/resnet.csv')\n",
    "vgg2 = pd.read_csv('csv/val/vgg.csv')\n",
    "hr2 = pd.read_csv('csv/val/hr.csv')\n",
    "mob2= pd.read_csv('csv/val/mob.csv')\n",
    "#squeeze = pd.read_csv('squeeze.csv')\n",
    "from tqdm.notebook import tqdm\n",
    "loss_min = 0.4\n",
    "batch = 80\n",
    "ensem = ensemble()\n",
    "optimizer = torch.optim.Adam([{'params': ensem.parameters()}],lr = 1e-4 , weight_decay=1e-2)\n",
    "criterion = FocalLoss().cuda()\n",
    "ensem.cuda()\n",
    "n_epochs = 1000\n",
    "\n",
    "for epoch in range(1, n_epochs+1):\n",
    "    train_loss = 0.0\n",
    "    val_loss = 0.0\n",
    "    print('running epoch: {}'.format(epoch))\n",
    "    ensem.train()\n",
    "    for i in range(0, len(result1), batch):\n",
    "        optimizer.zero_grad()\n",
    "        target = result1[i:i+80]\n",
    "        target = target.cuda()\n",
    "                # Forward prop.\n",
    "        output1 = torch.tensor(hr1.values[i:i+80,]).cuda()\n",
    "        output2 = torch.tensor(alex1.values[i:i+80,]).cuda()\n",
    "        output3 = torch.tensor(vgg1.values[i:i+80,]).cuda()\n",
    "        output4 = torch.tensor(res1.values[i:i+80,]).cuda() \n",
    "        output5 = torch.tensor(mob1.values[i:i+80,]).cuda() \n",
    "        output = ensem(output1.float(), output2.float(), output3.float(), output4.float(), output5.float())\n",
    "        # Calculate loss\n",
    "        loss = criterion(output, target)\n",
    "\n",
    "        loss.backward()\n",
    "        \n",
    "        optimizer.step()\n",
    "        train_loss += loss.item()*data.size(0)\n",
    "    train_loss = train_loss/len(train_loader.dataset)\n",
    "    print('train_loss: ', train_loss)\n",
    "    ensem.eval()\n",
    "    for i in range(0, len(result2), batch):\n",
    "        optimizer.zero_grad()\n",
    "        target = result2[i:i+80]\n",
    "        target = target.cuda()\n",
    "                # Forward prop.\n",
    "        output1 = torch.tensor(hr2.values[i:i+80,]).cuda()\n",
    "        output2 = torch.tensor(alex2.values[i:i+80,]).cuda()\n",
    "        output3 = torch.tensor(vgg2.values[i:i+80,]).cuda()\n",
    "        output4 = torch.tensor(res2.values[i:i+80,]).cuda() \n",
    "        output5 = torch.tensor(mob2.values[i:i+80,]).cuda() \n",
    "        output = ensem(output1.float(), output2.float(), output3.float(), output4.float(), output5.float())\n",
    "        # Calculate loss\n",
    "        loss2 = criterion(output, target)\n",
    "        val_loss += loss2.item()*data.size(0)\n",
    "    val_loss = val_loss/len(valid_loader.dataset)\n",
    "    print('val_loss: ', val_loss)\n",
    "    if val_loss <= loss_min:\n",
    "        loss_min = val_loss\n",
    "        torch.save(ensem, 'ensem.pth')\n",
    "        print('save')"
   ]
  },
  {
   "cell_type": "code",
   "execution_count": 1,
   "metadata": {},
   "outputs": [],
   "source": [
    "import pandas as pd\n",
    "import numpy as np\n",
    "alex = pd.read_csv('/home/mmlab206/Desktop/alex.csv')\n",
    "res = pd.read_csv('/home/mmlab206/Desktop/res.csv')\n",
    "hr = pd.read_csv('/home/mmlab206/Desktop/hr.csv')\n",
    "mob = pd.read_csv('/home/mmlab206/Desktop/mob.csv')\n",
    "\n",
    "output =  mob.values\n",
    "\n",
    "answer = []\n",
    "for i in range(1600):\n",
    "    #answer.append(np.argmax(output[i,:].cpu().data.numpy()))\n",
    "    answer.append(np.argmax(output[i,:]))"
   ]
  },
  {
   "cell_type": "code",
   "execution_count": 2,
   "metadata": {},
   "outputs": [],
   "source": [
    "class2idx = {'A': 0, 'B': 1, 'C': 2}\n",
    "idx2class = {class2idx[k]: k for k in class2idx.keys()}\n",
    "a = []\n",
    "\n",
    "for i in range(len(answer)):\n",
    "    a.append(idx2class.get(answer[i]))"
   ]
  },
  {
   "cell_type": "code",
   "execution_count": 3,
   "metadata": {},
   "outputs": [
    {
     "data": {
      "text/html": [
       "<div>\n",
       "<style scoped>\n",
       "    .dataframe tbody tr th:only-of-type {\n",
       "        vertical-align: middle;\n",
       "    }\n",
       "\n",
       "    .dataframe tbody tr th {\n",
       "        vertical-align: top;\n",
       "    }\n",
       "\n",
       "    .dataframe thead th {\n",
       "        text-align: right;\n",
       "    }\n",
       "</style>\n",
       "<table border=\"1\" class=\"dataframe\">\n",
       "  <thead>\n",
       "    <tr style=\"text-align: right;\">\n",
       "      <th></th>\n",
       "      <th>image_id</th>\n",
       "      <th>label</th>\n",
       "    </tr>\n",
       "  </thead>\n",
       "  <tbody>\n",
       "    <tr>\n",
       "      <th>0</th>\n",
       "      <td>00001.jpg</td>\n",
       "      <td>C</td>\n",
       "    </tr>\n",
       "    <tr>\n",
       "      <th>1</th>\n",
       "      <td>00006.jpg</td>\n",
       "      <td>A</td>\n",
       "    </tr>\n",
       "    <tr>\n",
       "      <th>2</th>\n",
       "      <td>00011.jpg</td>\n",
       "      <td>B</td>\n",
       "    </tr>\n",
       "    <tr>\n",
       "      <th>3</th>\n",
       "      <td>00016.jpg</td>\n",
       "      <td>A</td>\n",
       "    </tr>\n",
       "    <tr>\n",
       "      <th>4</th>\n",
       "      <td>00025.jpg</td>\n",
       "      <td>C</td>\n",
       "    </tr>\n",
       "    <tr>\n",
       "      <th>...</th>\n",
       "      <td>...</td>\n",
       "      <td>...</td>\n",
       "    </tr>\n",
       "    <tr>\n",
       "      <th>1595</th>\n",
       "      <td>07977.jpg</td>\n",
       "      <td>B</td>\n",
       "    </tr>\n",
       "    <tr>\n",
       "      <th>1596</th>\n",
       "      <td>07991.jpg</td>\n",
       "      <td>C</td>\n",
       "    </tr>\n",
       "    <tr>\n",
       "      <th>1597</th>\n",
       "      <td>07992.jpg</td>\n",
       "      <td>A</td>\n",
       "    </tr>\n",
       "    <tr>\n",
       "      <th>1598</th>\n",
       "      <td>07994.jpg</td>\n",
       "      <td>B</td>\n",
       "    </tr>\n",
       "    <tr>\n",
       "      <th>1599</th>\n",
       "      <td>07997.jpg</td>\n",
       "      <td>C</td>\n",
       "    </tr>\n",
       "  </tbody>\n",
       "</table>\n",
       "<p>1600 rows × 2 columns</p>\n",
       "</div>"
      ],
      "text/plain": [
       "       image_id label\n",
       "0     00001.jpg     C\n",
       "1     00006.jpg     A\n",
       "2     00011.jpg     B\n",
       "3     00016.jpg     A\n",
       "4     00025.jpg     C\n",
       "...         ...   ...\n",
       "1595  07977.jpg     B\n",
       "1596  07991.jpg     C\n",
       "1597  07992.jpg     A\n",
       "1598  07994.jpg     B\n",
       "1599  07997.jpg     C\n",
       "\n",
       "[1600 rows x 2 columns]"
      ]
     },
     "execution_count": 3,
     "metadata": {},
     "output_type": "execute_result"
    }
   ],
   "source": [
    "ans = pd.read_csv('./test_example.csv')\n",
    "ans['label'] = a\n",
    "ans.to_csv('/home/mmlab206/Desktop/test_example.csv',index=0)\n",
    "ans"
   ]
  },
  {
   "cell_type": "code",
   "execution_count": 52,
   "metadata": {},
   "outputs": [
    {
     "name": "stdout",
     "output_type": "stream",
     "text": [
      "Focal_loss alpha = [3.292181069958848, 2.7303754266211606, 3.0303030303030303], 将对每一类权重进行精细化赋值\n"
     ]
    },
    {
     "ename": "NameError",
     "evalue": "name 'result3' is not defined",
     "output_type": "error",
     "traceback": [
      "\u001b[0;31m---------------------------------------------------------------------------\u001b[0m",
      "\u001b[0;31mNameError\u001b[0m                                 Traceback (most recent call last)",
      "\u001b[0;32m<ipython-input-52-49c4ba2861f0>\u001b[0m in \u001b[0;36m<module>\u001b[0;34m\u001b[0m\n\u001b[1;32m     22\u001b[0m \u001b[0moutput\u001b[0m \u001b[0;34m=\u001b[0m \u001b[0mensem\u001b[0m\u001b[0;34m(\u001b[0m\u001b[0moutput1\u001b[0m\u001b[0;34m.\u001b[0m\u001b[0mfloat\u001b[0m\u001b[0;34m(\u001b[0m\u001b[0;34m)\u001b[0m\u001b[0;34m,\u001b[0m \u001b[0moutput2\u001b[0m\u001b[0;34m.\u001b[0m\u001b[0mfloat\u001b[0m\u001b[0;34m(\u001b[0m\u001b[0;34m)\u001b[0m\u001b[0;34m,\u001b[0m \u001b[0moutput3\u001b[0m\u001b[0;34m.\u001b[0m\u001b[0mfloat\u001b[0m\u001b[0;34m(\u001b[0m\u001b[0;34m)\u001b[0m\u001b[0;34m,\u001b[0m \u001b[0moutput4\u001b[0m\u001b[0;34m.\u001b[0m\u001b[0mfloat\u001b[0m\u001b[0;34m(\u001b[0m\u001b[0;34m)\u001b[0m\u001b[0;34m,\u001b[0m \u001b[0moutput5\u001b[0m\u001b[0;34m.\u001b[0m\u001b[0mfloat\u001b[0m\u001b[0;34m(\u001b[0m\u001b[0;34m)\u001b[0m\u001b[0;34m)\u001b[0m\u001b[0;34m\u001b[0m\u001b[0;34m\u001b[0m\u001b[0m\n\u001b[1;32m     23\u001b[0m \u001b[0;31m# Calculate loss\u001b[0m\u001b[0;34m\u001b[0m\u001b[0;34m\u001b[0m\u001b[0;34m\u001b[0m\u001b[0m\n\u001b[0;32m---> 24\u001b[0;31m \u001b[0mloss\u001b[0m \u001b[0;34m=\u001b[0m \u001b[0mcriterion\u001b[0m\u001b[0;34m(\u001b[0m\u001b[0moutput\u001b[0m\u001b[0;34m,\u001b[0m \u001b[0mresult3\u001b[0m\u001b[0;34m.\u001b[0m\u001b[0mcuda\u001b[0m\u001b[0;34m(\u001b[0m\u001b[0;34m)\u001b[0m\u001b[0;34m)\u001b[0m\u001b[0;34m\u001b[0m\u001b[0;34m\u001b[0m\u001b[0m\n\u001b[0m\u001b[1;32m     25\u001b[0m \u001b[0mprint\u001b[0m\u001b[0;34m(\u001b[0m\u001b[0mloss\u001b[0m\u001b[0;34m)\u001b[0m\u001b[0;34m\u001b[0m\u001b[0;34m\u001b[0m\u001b[0m\n\u001b[1;32m     26\u001b[0m \u001b[0;31m#output = alex.values + res.values + vgg.values + hr.values + mob.values\u001b[0m\u001b[0;34m\u001b[0m\u001b[0;34m\u001b[0m\u001b[0;34m\u001b[0m\u001b[0m\n",
      "\u001b[0;31mNameError\u001b[0m: name 'result3' is not defined"
     ]
    }
   ],
   "source": [
    "import pandas as pd\n",
    "from FocalLoss import focal_loss\n",
    "alex = pd.read_csv('csv/test/alex.csv')\n",
    "res = pd.read_csv('csv/test/resnet.csv')\n",
    "#vgg = pd.read_csv('csv/test/vgg.csv')\n",
    "hr = pd.read_csv('csv/test/hr.csv')\n",
    "mob = pd.read_csv('csv/test/mob.csv')\n",
    "ensem = ensemble()\n",
    "ensem = torch.load('ensem.pth')\n",
    "#criterion = focal_loss(gamma = 3, alpha = [800/243, 800/293, 800/264]).cuda()\n",
    "\n",
    "# result3 = []\n",
    "# for data, target in test_loader:\n",
    "#     result3.append(target)\n",
    "# result3 = torch.cat(result3, 0)\n",
    "\n",
    "output1 = torch.tensor(hr.values).cuda()\n",
    "output2 = torch.tensor(alex.values).cuda()\n",
    "output3 = torch.tensor((alex.values/6 + res.values + hr.values + mob.values)/4).cuda()\n",
    "output4 = torch.tensor(res.values).cuda() \n",
    "output5 = torch.tensor(mob.values).cuda() \n",
    "output = ensem(output1.float(), output2.float(), output3.float(), output4.float(), output5.float())\n",
    "# Calculate loss\n",
    "#loss = criterion(output, result3.cuda())\n",
    "#print(loss)\n",
    "#output = alex.values + res.values + vgg.values + hr.values + mob.values\n",
    "\n",
    "\n",
    "answer = []\n",
    "for i in range(800):\n",
    "    #answer.append(np.argmax(output[i,:].cpu().data.numpy()))\n",
    "    answer.append(np.argmax(output[i,:]))\n",
    "\n",
    "targ = result3\n",
    "\n",
    "k = 0\n",
    "for i in range(800):\n",
    "    if(answer[i] != int(targ[i])):\n",
    "        k += 1\n",
    "c = 800 - k      \n",
    "from sklearn.metrics import accuracy_score\n",
    "print(f\"Test Accuracy: {accuracy_score(targ, answer)} ({c}/800)\")\n",
    "\n",
    "from sklearn.metrics import recall_score\n",
    "print('WAR ', recall_score(targ, answer, average = 'weighted'))"
   ]
  },
  {
   "cell_type": "code",
   "execution_count": 99,
   "metadata": {},
   "outputs": [],
   "source": [
    "A = 0\n",
    "for i in range(243):\n",
    "    if answer[i] == 0:\n",
    "        A += 1\n",
    "A = A/243\n",
    "B = 0\n",
    "for i in range(243, 536, 1):\n",
    "    if answer[i] == 1:\n",
    "        B += 1\n",
    "B = B/293\n",
    "C = 0\n",
    "for i in range(536, 800, 1):\n",
    "    if answer[i] == 2:\n",
    "        C += 1\n",
    "C = C/264"
   ]
  },
  {
   "cell_type": "code",
   "execution_count": 100,
   "metadata": {},
   "outputs": [
    {
     "data": {
      "text/plain": [
       "0.8432175481695138"
      ]
     },
     "execution_count": 100,
     "metadata": {},
     "output_type": "execute_result"
    }
   ],
   "source": [
    "A/3+B/3+C/3"
   ]
  },
  {
   "cell_type": "code",
   "execution_count": 101,
   "metadata": {},
   "outputs": [
    {
     "data": {
      "text/plain": [
       "0.84"
      ]
     },
     "execution_count": 101,
     "metadata": {},
     "output_type": "execute_result"
    }
   ],
   "source": [
    "A*(243/800)+B*(293/800)+C*(264/800)"
   ]
  },
  {
   "cell_type": "code",
   "execution_count": null,
   "metadata": {},
   "outputs": [],
   "source": []
  }
 ],
 "metadata": {
  "kernelspec": {
   "display_name": "Python 3",
   "language": "python",
   "name": "python3"
  },
  "language_info": {
   "codemirror_mode": {
    "name": "ipython",
    "version": 3
   },
   "file_extension": ".py",
   "mimetype": "text/x-python",
   "name": "python",
   "nbconvert_exporter": "python",
   "pygments_lexer": "ipython3",
   "version": "3.7.6"
  }
 },
 "nbformat": 4,
 "nbformat_minor": 2
}
